{
  "nbformat": 4,
  "nbformat_minor": 0,
  "metadata": {
    "colab": {
      "provenance": []
    },
    "kernelspec": {
      "name": "python3",
      "display_name": "Python 3"
    },
    "language_info": {
      "name": "python"
    }
  },
  "cells": [
    {
      "cell_type": "markdown",
      "source": [
        "### Arithmetic Operators"
      ],
      "metadata": {
        "id": "Zx064k7PH7Ij"
      }
    },
    {
      "cell_type": "code",
      "source": [
        "2+3.0"
      ],
      "metadata": {
        "colab": {
          "base_uri": "https://localhost:8080/"
        },
        "id": "wjpmTxY-IC2E",
        "outputId": "f069934e-4162-45e8-eb9b-fe255eaaa471"
      },
      "execution_count": 1,
      "outputs": [
        {
          "output_type": "execute_result",
          "data": {
            "text/plain": [
              "5.0"
            ]
          },
          "metadata": {},
          "execution_count": 1
        }
      ]
    },
    {
      "cell_type": "code",
      "source": [
        "\"What's \"+ \"up?\""
      ],
      "metadata": {
        "colab": {
          "base_uri": "https://localhost:8080/",
          "height": 35
        },
        "id": "KutvhzPrIHJm",
        "outputId": "3f50a51f-6d38-4cb6-e072-4046fb163327"
      },
      "execution_count": 2,
      "outputs": [
        {
          "output_type": "execute_result",
          "data": {
            "text/plain": [
              "\"What's up?\""
            ],
            "application/vnd.google.colaboratory.intrinsic+json": {
              "type": "string"
            }
          },
          "metadata": {},
          "execution_count": 2
        }
      ]
    },
    {
      "cell_type": "code",
      "source": [
        "\"What's up? \"* 5"
      ],
      "metadata": {
        "colab": {
          "base_uri": "https://localhost:8080/",
          "height": 35
        },
        "id": "pNxROq5aIQ-Q",
        "outputId": "5805b041-1ef9-481e-c3a9-37da43631b68"
      },
      "execution_count": 3,
      "outputs": [
        {
          "output_type": "execute_result",
          "data": {
            "text/plain": [
              "\"What's up? What's up? What's up? What's up? What's up? \""
            ],
            "application/vnd.google.colaboratory.intrinsic+json": {
              "type": "string"
            }
          },
          "metadata": {},
          "execution_count": 3
        }
      ]
    },
    {
      "cell_type": "code",
      "source": [
        "5 / 2"
      ],
      "metadata": {
        "colab": {
          "base_uri": "https://localhost:8080/"
        },
        "id": "tvxosPDzIY8t",
        "outputId": "ef4de52b-c59d-497b-f32f-bd8f8d4f604d"
      },
      "execution_count": 5,
      "outputs": [
        {
          "output_type": "execute_result",
          "data": {
            "text/plain": [
              "2.5"
            ]
          },
          "metadata": {},
          "execution_count": 5
        }
      ]
    },
    {
      "cell_type": "code",
      "source": [
        "5 // 2"
      ],
      "metadata": {
        "colab": {
          "base_uri": "https://localhost:8080/"
        },
        "id": "9KbxRc-_I3P4",
        "outputId": "dcf6b5d2-cb34-4e48-da73-e5df3c0695cb"
      },
      "execution_count": 6,
      "outputs": [
        {
          "output_type": "execute_result",
          "data": {
            "text/plain": [
              "2"
            ]
          },
          "metadata": {},
          "execution_count": 6
        }
      ]
    },
    {
      "cell_type": "code",
      "source": [
        "5 % 2"
      ],
      "metadata": {
        "colab": {
          "base_uri": "https://localhost:8080/"
        },
        "id": "867QHflmI_aE",
        "outputId": "27ae4674-5ed9-47e3-a3d1-486f2d723804"
      },
      "execution_count": 7,
      "outputs": [
        {
          "output_type": "execute_result",
          "data": {
            "text/plain": [
              "1"
            ]
          },
          "metadata": {},
          "execution_count": 7
        }
      ]
    },
    {
      "cell_type": "code",
      "source": [
        "print(\"5 devided by 2 is\", 5//2, \"with a remainder of\", 5%2)"
      ],
      "metadata": {
        "colab": {
          "base_uri": "https://localhost:8080/"
        },
        "id": "2Yr67bU9JEoj",
        "outputId": "af12884d-0e74-4cfe-aea0-317518c85333"
      },
      "execution_count": 10,
      "outputs": [
        {
          "output_type": "stream",
          "name": "stdout",
          "text": [
            "5 devided by 2 is 2 with a remainder of 1\n"
          ]
        }
      ]
    },
    {
      "cell_type": "markdown",
      "source": [
        "## order of operators:\n",
        "1. parentheses\n",
        "2. exponents\n",
        "3. Multiplication and Division\n",
        "4. Addition and Subtraction"
      ],
      "metadata": {
        "id": "-OOUfNfTJjbg"
      }
    },
    {
      "cell_type": "code",
      "source": [
        "min_salary = 20_000\n",
        "max_salary = 80_000\n",
        "\n",
        "avg_salary = (min_salary + max_salary) / 2\n",
        "int(avg_salary)"
      ],
      "metadata": {
        "colab": {
          "base_uri": "https://localhost:8080/"
        },
        "id": "J-LiFowvKDzG",
        "outputId": "e9b0f12a-d8b6-49cb-d5ab-cff1fc573b6c"
      },
      "execution_count": 12,
      "outputs": [
        {
          "output_type": "execute_result",
          "data": {
            "text/plain": [
              "50000"
            ]
          },
          "metadata": {},
          "execution_count": 12
        }
      ]
    },
    {
      "cell_type": "code",
      "source": [
        "applicant_1 = \"Kelly\"\n",
        "applicant_2 = \"Luke\"\n",
        "print(applicant_1, applicant_2)"
      ],
      "metadata": {
        "colab": {
          "base_uri": "https://localhost:8080/"
        },
        "id": "TBN6FfmUKaCr",
        "outputId": "9aad57fb-b3ab-4ad2-e9dd-091cbb8acc18"
      },
      "execution_count": 14,
      "outputs": [
        {
          "output_type": "stream",
          "name": "stdout",
          "text": [
            "Kelly Luke\n"
          ]
        }
      ]
    },
    {
      "cell_type": "code",
      "source": [
        "temp_var = applicant_1\n",
        "applicant_1 = applicant_2\n",
        "applicant_2 = temp_var\n",
        "print(applicant_1, applicant_2)"
      ],
      "metadata": {
        "colab": {
          "base_uri": "https://localhost:8080/"
        },
        "id": "VD_BFuSFKuxL",
        "outputId": "f296c280-fd65-49b8-bc1c-714ce2b69657"
      },
      "execution_count": 15,
      "outputs": [
        {
          "output_type": "stream",
          "name": "stdout",
          "text": [
            "Luke Kelly\n"
          ]
        }
      ]
    },
    {
      "cell_type": "code",
      "source": [
        "applicant_1, applicant_2 = applicant_2, applicant_1\n",
        "print(applicant_1, applicant_2)"
      ],
      "metadata": {
        "colab": {
          "base_uri": "https://localhost:8080/"
        },
        "id": "DvxjqqiPLGfA",
        "outputId": "6a091040-9d55-4cf2-9e91-f7e9a325dfde"
      },
      "execution_count": 16,
      "outputs": [
        {
          "output_type": "stream",
          "name": "stdout",
          "text": [
            "Kelly Luke\n"
          ]
        }
      ]
    },
    {
      "cell_type": "code",
      "source": [
        "x = 1\n",
        "x = x + 1\n",
        "x += 1 # x = x + 1"
      ],
      "metadata": {
        "id": "Jy3D71YZLOV8"
      },
      "execution_count": 17,
      "outputs": []
    },
    {
      "cell_type": "code",
      "source": [
        "x = 1\n",
        "x *= 2 # x = x * 2\n",
        "x"
      ],
      "metadata": {
        "colab": {
          "base_uri": "https://localhost:8080/"
        },
        "id": "W5XclveHLanT",
        "outputId": "bafefd09-bada-49e7-cf61-8ffc2bc133bf"
      },
      "execution_count": 19,
      "outputs": [
        {
          "output_type": "execute_result",
          "data": {
            "text/plain": [
              "2"
            ]
          },
          "metadata": {},
          "execution_count": 19
        }
      ]
    },
    {
      "cell_type": "code",
      "source": [
        "salary_Kelly = 60_000\n",
        "salary_Luke = 40_000\n",
        "salary_Kelly == salary_Luke"
      ],
      "metadata": {
        "colab": {
          "base_uri": "https://localhost:8080/"
        },
        "id": "KkMeSRleLqEU",
        "outputId": "a970ebb1-899a-4854-be1e-ec48f4ea1e73"
      },
      "execution_count": 20,
      "outputs": [
        {
          "output_type": "execute_result",
          "data": {
            "text/plain": [
              "False"
            ]
          },
          "metadata": {},
          "execution_count": 20
        }
      ]
    },
    {
      "cell_type": "code",
      "source": [
        "1 == 1.0"
      ],
      "metadata": {
        "colab": {
          "base_uri": "https://localhost:8080/"
        },
        "id": "E7CT-U_zMIzZ",
        "outputId": "a16dcc22-5042-4386-c2b0-8dfd4aa0b2a4"
      },
      "execution_count": 21,
      "outputs": [
        {
          "output_type": "execute_result",
          "data": {
            "text/plain": [
              "True"
            ]
          },
          "metadata": {},
          "execution_count": 21
        }
      ]
    },
    {
      "cell_type": "code",
      "source": [
        "if (salary_Kelly > salary_Luke):\n",
        "    print(applicant_1, \"is making more than\", applicant_2)\n",
        "else:\n",
        "    print(applicant_2, \"is making more than\", applicant_1)"
      ],
      "metadata": {
        "colab": {
          "base_uri": "https://localhost:8080/"
        },
        "id": "tl5sHNM5MPO9",
        "outputId": "dbb4408c-066b-4a46-8c76-0d7d05e5ce47"
      },
      "execution_count": 22,
      "outputs": [
        {
          "output_type": "stream",
          "name": "stdout",
          "text": [
            "Kelly is making more than Luke\n"
          ]
        }
      ]
    }
  ]
}
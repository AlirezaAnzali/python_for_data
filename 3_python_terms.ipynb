{
  "nbformat": 4,
  "nbformat_minor": 0,
  "metadata": {
    "colab": {
      "provenance": []
    },
    "kernelspec": {
      "name": "python3",
      "display_name": "Python 3"
    },
    "language_info": {
      "name": "python"
    }
  },
  "cells": [
    {
      "cell_type": "markdown",
      "source": [
        "## Objects: The Data Records\n",
        "### Object: A data record with fields; an instance of a class."
      ],
      "metadata": {
        "id": "XRtaMHHzGIyB"
      }
    },
    {
      "cell_type": "code",
      "source": [
        "salary = 100000"
      ],
      "metadata": {
        "id": "ArBbFcDLGqFe"
      },
      "execution_count": 1,
      "outputs": []
    },
    {
      "cell_type": "code",
      "source": [
        "type(salary)"
      ],
      "metadata": {
        "colab": {
          "base_uri": "https://localhost:8080/"
        },
        "id": "36s5baTxHEXC",
        "outputId": "e235c117-b4a9-4690-c5ee-09d78ed8ef8f"
      },
      "execution_count": 4,
      "outputs": [
        {
          "output_type": "execute_result",
          "data": {
            "text/plain": [
              "int"
            ]
          },
          "metadata": {},
          "execution_count": 4
        }
      ]
    },
    {
      "cell_type": "code",
      "source": [
        "job = 'data analyst'"
      ],
      "metadata": {
        "id": "StpHPdaaHVZQ"
      },
      "execution_count": 5,
      "outputs": []
    },
    {
      "cell_type": "code",
      "source": [
        "type(job)"
      ],
      "metadata": {
        "colab": {
          "base_uri": "https://localhost:8080/"
        },
        "id": "C7Sww5AMHb5M",
        "outputId": "a8b49fcf-9bf3-45e0-f62c-75a3775cf993"
      },
      "execution_count": 7,
      "outputs": [
        {
          "output_type": "execute_result",
          "data": {
            "text/plain": [
              "str"
            ]
          },
          "metadata": {},
          "execution_count": 7
        }
      ]
    },
    {
      "cell_type": "code",
      "source": [
        "job_title = 'data analyst'\n",
        "job_location = 'New York'\n",
        "job_salary = 90000"
      ],
      "metadata": {
        "id": "KbmyYYh9HgtY"
      },
      "execution_count": 8,
      "outputs": []
    },
    {
      "cell_type": "code",
      "source": [
        "print(\"what's the job title?\")\n",
        "my_print_func = print\n",
        "my_print_func(job_title)"
      ],
      "metadata": {
        "colab": {
          "base_uri": "https://localhost:8080/"
        },
        "id": "G2xTAB_2H4s0",
        "outputId": "82fcefd1-ea49-44c7-9446-76664f0e69cf"
      },
      "execution_count": 10,
      "outputs": [
        {
          "output_type": "stream",
          "name": "stdout",
          "text": [
            "what's the job title?\n",
            "data analyst\n"
          ]
        }
      ]
    },
    {
      "cell_type": "markdown",
      "source": [
        "## Functions: The Manipulators of Objects\n",
        "### Function: A reusable piece of code that perform a specific task."
      ],
      "metadata": {
        "id": "VbnWBHPAIrQ6"
      }
    },
    {
      "cell_type": "code",
      "source": [
        "def greet():\n",
        "    return \"What's up, data nerd?\""
      ],
      "metadata": {
        "id": "uwxFfFHxJBE5"
      },
      "execution_count": 11,
      "outputs": []
    },
    {
      "cell_type": "code",
      "source": [
        "greet()"
      ],
      "metadata": {
        "colab": {
          "base_uri": "https://localhost:8080/"
        },
        "id": "tSnHIqR0JZMl",
        "outputId": "b5ceea48-59f6-4f31-c7c7-a6f906a02bf9"
      },
      "execution_count": 13,
      "outputs": [
        {
          "output_type": "stream",
          "name": "stdout",
          "text": [
            "What's up, data nerd?\n"
          ]
        }
      ]
    },
    {
      "cell_type": "code",
      "source": [
        "print(f\"JOB:  {job_title}\\nLOCATION:  {job_location}\\nSALARY: ${job_salary:,.0f}\")\n"
      ],
      "metadata": {
        "colab": {
          "base_uri": "https://localhost:8080/"
        },
        "id": "yNvzqoZKJubl",
        "outputId": "62e00499-b82f-46bc-9d41-d980fa90b969"
      },
      "execution_count": 16,
      "outputs": [
        {
          "output_type": "stream",
          "name": "stdout",
          "text": [
            "JOB:  data analyst\n",
            "LOCATION:  New York\n",
            "SALARY: $90,000\n"
          ]
        }
      ]
    },
    {
      "cell_type": "code",
      "source": [
        "def display_info(title, location, salary):\n",
        "    print(f\"JOB:  {title}\\nLOCATION:  {location}\\nSALARY: ${salary:,.0f}\")"
      ],
      "metadata": {
        "id": "seNvDlDJKm8T"
      },
      "execution_count": 17,
      "outputs": []
    },
    {
      "cell_type": "code",
      "source": [
        "display_info(job_title, job_location, job_salary)"
      ],
      "metadata": {
        "colab": {
          "base_uri": "https://localhost:8080/"
        },
        "id": "2YdrgmsjKv9U",
        "outputId": "e3b191c3-0c9b-4407-cb4a-96e211d04630"
      },
      "execution_count": 18,
      "outputs": [
        {
          "output_type": "stream",
          "name": "stdout",
          "text": [
            "JOB:  data analyst\n",
            "LOCATION:  New York\n",
            "SALARY: $90,000\n"
          ]
        }
      ]
    },
    {
      "cell_type": "markdown",
      "source": [
        "## Classes: The Templates of Objects\n",
        "### Class: A template for creation objects(records)."
      ],
      "metadata": {
        "id": "A4S90xEkK8iC"
      }
    },
    {
      "cell_type": "code",
      "source": [
        "job_title = 'data analyst'\n",
        "job_location = 'New York'\n",
        "job_salary = 90000"
      ],
      "metadata": {
        "id": "FqohZkUjLOB2"
      },
      "execution_count": 19,
      "outputs": []
    },
    {
      "cell_type": "code",
      "source": [
        "class JobPost:\n",
        "    def __init__(self, title, location, salary):\n",
        "        self.title = title\n",
        "        self.location = location\n",
        "        self.salary = salary"
      ],
      "metadata": {
        "id": "yB-_ny7lRAlB"
      },
      "execution_count": 20,
      "outputs": []
    },
    {
      "cell_type": "code",
      "source": [
        "JobPost(job_title, job_location, job_salary)"
      ],
      "metadata": {
        "colab": {
          "base_uri": "https://localhost:8080/"
        },
        "id": "BQHW-fxTRUqA",
        "outputId": "44c7fa28-e164-415d-8b94-d5bc3edbe93a"
      },
      "execution_count": 22,
      "outputs": [
        {
          "output_type": "stream",
          "name": "stdout",
          "text": [
            "<__main__.JobPost object at 0x7e0109312ce0>\n"
          ]
        }
      ]
    },
    {
      "cell_type": "markdown",
      "source": [
        "## Attributes: The Variables of an Object\n",
        "### Attribute: A field in a record, defined by its class."
      ],
      "metadata": {
        "id": "CgtkpJr0Rq85"
      }
    },
    {
      "cell_type": "code",
      "source": [
        "job_1 = JobPost(job_title, job_location, job_salary)"
      ],
      "metadata": {
        "id": "HcGVVnk2R_pV"
      },
      "execution_count": 23,
      "outputs": []
    },
    {
      "cell_type": "code",
      "source": [
        "job_1.title"
      ],
      "metadata": {
        "colab": {
          "base_uri": "https://localhost:8080/",
          "height": 35
        },
        "id": "akpDWlwuSN5F",
        "outputId": "a5248aea-c167-4e45-9744-494ecb612526"
      },
      "execution_count": 24,
      "outputs": [
        {
          "output_type": "execute_result",
          "data": {
            "text/plain": [
              "'data analyst'"
            ],
            "application/vnd.google.colaboratory.intrinsic+json": {
              "type": "string"
            }
          },
          "metadata": {},
          "execution_count": 24
        }
      ]
    },
    {
      "cell_type": "code",
      "source": [
        "job_1.location"
      ],
      "metadata": {
        "colab": {
          "base_uri": "https://localhost:8080/",
          "height": 35
        },
        "id": "6-3MNtMtSUE3",
        "outputId": "04224508-b2cb-4672-b294-ef46ded15f00"
      },
      "execution_count": 25,
      "outputs": [
        {
          "output_type": "execute_result",
          "data": {
            "text/plain": [
              "'New York'"
            ],
            "application/vnd.google.colaboratory.intrinsic+json": {
              "type": "string"
            }
          },
          "metadata": {},
          "execution_count": 25
        }
      ]
    },
    {
      "cell_type": "markdown",
      "source": [
        "## Methods: The Functions of an Object\n",
        "### Method: A function defined inside a class that operates on its objects."
      ],
      "metadata": {
        "id": "iiW5N4MESh4G"
      }
    },
    {
      "cell_type": "code",
      "source": [
        "class JobPost:\n",
        "    def __init__(self, title, location, salary):\n",
        "        self.title = title\n",
        "        self.location = location\n",
        "        self.salary = salary\n",
        "\n",
        "    def display_info(self):\n",
        "        print(f\"JOB:  {self.title}\\nLOCATION:  {self.location}\\nSALARY: ${self.salary:,.0f}\")"
      ],
      "metadata": {
        "id": "hk6ccVSDS0i2"
      },
      "execution_count": 26,
      "outputs": []
    },
    {
      "cell_type": "code",
      "source": [
        "job_1 = JobPost(job_title, job_location, job_salary)"
      ],
      "metadata": {
        "id": "ZO-JqlxqTJB5"
      },
      "execution_count": 27,
      "outputs": []
    },
    {
      "cell_type": "code",
      "source": [
        "job_1.display_info()"
      ],
      "metadata": {
        "colab": {
          "base_uri": "https://localhost:8080/"
        },
        "id": "frfEc9MrTRfh",
        "outputId": "a5b0eb82-f702-4c24-f15e-6e7969dc9db3"
      },
      "execution_count": 28,
      "outputs": [
        {
          "output_type": "stream",
          "name": "stdout",
          "text": [
            "JOB:  data analyst\n",
            "LOCATION:  New York\n",
            "SALARY: $90,000\n"
          ]
        }
      ]
    }
  ]
}
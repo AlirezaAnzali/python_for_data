{
  "cells": [
    {
      "cell_type": "markdown",
      "metadata": {
        "id": "jMyH89VS5H7L"
      },
      "source": [
        "# Tuples"
      ]
    },
    {
      "cell_type": "markdown",
      "metadata": {
        "id": "H26-c41X3jQs"
      },
      "source": [
        "Here's a quick comparison between these 4 container data types:\n",
        "\n",
        "| Feature          | List                                  | Dictionary                           | Set                                | Tuple                             |\n",
        "|------------------|---------------------------------------|--------------------------------------|------------------------------------|-----------------------------------|\n",
        "| Syntax           | `[item1, item2, ...]`                 | `{'key1': value1, 'key2': value2}`   | `{item1, item2, ...}`              | `(item1, item2, ...)` or `item,`  |\n",
        "| Order            | Ordered                               | Unordered                            | Unordered                          | Ordered                           |\n",
        "| Indexing         | Yes (by index)                        | Yes (by key)                         | No                                 | Yes (by index)                    |\n",
        "| Duplicate Values | Allowed                               | Values can be duplicated, keys cannot| Not allowed                        | Allowed                           |\n",
        "| Mutability       | Mutable                               | Mutable                              | Mutable                            | Immutable                         |\n",
        "| Usage            | For a collection of ordered items     | For key-value pairs                  | For unique items                   | For fixed data                    |"
      ]
    },
    {
      "cell_type": "markdown",
      "metadata": {
        "id": "_XX97xQ6xbNe"
      },
      "source": [
        "## Notes\n",
        "\n",
        "* Used to store multiple items in a single variable\n",
        "* It is:\n",
        "  * Ordered\n",
        "  * Unchangeable\n",
        "* Written with `(` and `)`\n",
        "\n",
        "## Importance\n",
        "\n",
        "* Speed up operations because it's immutable\n",
        "* Immutable sequences, often used for fixed data, like column names or coordinates in Matplotlib plots\n",
        "\n",
        "## Examples\n",
        "\n",
        "We're going to create a tuple of data science skills."
      ]
    },
    {
      "cell_type": "code",
      "execution_count": null,
      "metadata": {
        "colab": {
          "base_uri": "https://localhost:8080/"
        },
        "id": "_HEdzAn4H7Kr",
        "outputId": "5480857f-ff94-4a48-d8a4-ad8c8997cf98"
      },
      "outputs": [
        {
          "data": {
            "text/plain": [
              "('python', 'sql', 'statistics', 'tableau')"
            ]
          },
          "execution_count": 3,
          "metadata": {},
          "output_type": "execute_result"
        }
      ],
      "source": [
        "# Define a tuple of data science skills\n",
        "job_skills = ('python', 'sql', 'statistics', 'tableau')\n",
        "\n",
        "job_skills"
      ]
    },
    {
      "cell_type": "markdown",
      "metadata": {
        "id": "BGCyH2mGH8SQ"
      },
      "source": [
        "### Get item\n",
        "\n",
        "Getting an element from a tuple using indexing. To get the first item from a tuple we'll get it at the index of `0`."
      ]
    },
    {
      "cell_type": "code",
      "execution_count": null,
      "metadata": {
        "colab": {
          "base_uri": "https://localhost:8080/"
        },
        "id": "8Ugtuh2GII9r",
        "outputId": "d323d8ab-6b82-4164-d1d4-89a9de1a35f7"
      },
      "outputs": [
        {
          "data": {
            "text/plain": [
              "'python'"
            ]
          },
          "execution_count": 4,
          "metadata": {},
          "output_type": "execute_result"
        }
      ],
      "source": [
        "# Accessing an element\n",
        "job_skills[0]"
      ]
    },
    {
      "cell_type": "markdown",
      "metadata": {
        "id": "rVzHiJhmH79L"
      },
      "source": [
        "### Slicing\n",
        "\n",
        "To only get part of a the tuple we'll use slicing. To only get 'python' and 'sql' values we'll get everything before the index of `2`."
      ]
    },
    {
      "cell_type": "code",
      "execution_count": null,
      "metadata": {
        "colab": {
          "base_uri": "https://localhost:8080/"
        },
        "id": "8YUluENzIDRF",
        "outputId": "484d495a-73bb-487c-cb28-1806217b1ffe"
      },
      "outputs": [
        {
          "data": {
            "text/plain": [
              "('python', 'sql')"
            ]
          },
          "execution_count": 5,
          "metadata": {},
          "output_type": "execute_result"
        }
      ],
      "source": [
        "# Define a set of data science skills\n",
        "job_skills = ('python', 'sql', 'statistics', 'tableau')\n",
        "\n",
        "job_skills[:2]"
      ]
    },
    {
      "cell_type": "markdown",
      "metadata": {
        "id": "P07DDzuP3jQv"
      },
      "source": [
        "### Add Items\n",
        "\n",
        "Since tuples are immutable (not changeable), they don't have a built-in `append()` method. But there are two methods:"
      ]
    },
    {
      "cell_type": "code",
      "execution_count": null,
      "metadata": {
        "id": "V8glZvrf3jQv",
        "outputId": "2103464a-01fc-40be-dc63-06bd84a5ed49"
      },
      "outputs": [
        {
          "ename": "AttributeError",
          "evalue": "'tuple' object has no attribute 'append'",
          "output_type": "error",
          "traceback": [
            "\u001b[0;31m---------------------------------------------------------------------------\u001b[0m",
            "\u001b[0;31mAttributeError\u001b[0m                            Traceback (most recent call last)",
            "Cell \u001b[0;32mIn[6], line 1\u001b[0m\n\u001b[0;32m----> 1\u001b[0m \u001b[43mjob_skills\u001b[49m\u001b[38;5;241;43m.\u001b[39;49m\u001b[43mappend\u001b[49m(\u001b[38;5;124m'\u001b[39m\u001b[38;5;124mexcel\u001b[39m\u001b[38;5;124m'\u001b[39m)\n",
            "\u001b[0;31mAttributeError\u001b[0m: 'tuple' object has no attribute 'append'"
          ]
        }
      ],
      "source": [
        "job_skills.append('excel')"
      ]
    },
    {
      "cell_type": "markdown",
      "metadata": {
        "id": "0IJhxwad3jQv"
      },
      "source": [
        "**Method 1: Turn tuple into a list.**\n",
        "\n",
        "* First turn it into a list\n",
        "* Then use the `append()` method\n",
        "* Convert the list to a tuple"
      ]
    },
    {
      "cell_type": "code",
      "execution_count": null,
      "metadata": {
        "id": "XupAuKnM3jQw",
        "outputId": "12ee0243-ccd8-49ea-adbc-d872768d2a55"
      },
      "outputs": [
        {
          "data": {
            "text/plain": [
              "('python', 'sql', 'statistics', 'tableau', 'excel')"
            ]
          },
          "execution_count": 7,
          "metadata": {},
          "output_type": "execute_result"
        }
      ],
      "source": [
        "# Turn tuple into a list\n",
        "job_skills_list = list(job_skills)\n",
        "\n",
        "# Add skill to the list\n",
        "job_skills_list.append('excel')\n",
        "\n",
        "# Convert list to a tuple\n",
        "job_skills_tuple = tuple(job_skills_list)\n",
        "\n",
        "job_skills_tuple"
      ]
    },
    {
      "cell_type": "markdown",
      "metadata": {
        "id": "9sXl6ElN3jQw"
      },
      "source": [
        "**Method 2: Add tuple to a tuple.**\n",
        "\n",
        "You can add tuples to tuples, which is good if you want to add one or more items.\n",
        "* Create a new tuple with the items\n",
        "* Add it to the existing tuple"
      ]
    },
    {
      "cell_type": "markdown",
      "metadata": {
        "id": "H1qktGnW3jQw"
      },
      "source": [
        "🪲 **Debugging**\n",
        "\n",
        "**This is an intentional mistake**\n",
        "\n",
        "This is used to demonstrate debugging.\n",
        "\n",
        "This won't run an error but it's not returning what we intended. Remember to double check which variable you are returning.\n",
        "\n",
        "Mistake: We are accidentally returning `job_skills_new_tuple` instead of the original tuple `job_skills`\n",
        "\n",
        "```python\n",
        "job_skills.remove('r')\n",
        "```\n",
        "\n",
        "Steps to Debug:\n",
        "\n",
        "1. Look at the actual error, can you tell what the problem is?\n",
        "2. If not, then look it up:\n",
        "  1. Use a chatbot like ChatGPT or Claude\n",
        "  2. Look it up using Google"
      ]
    },
    {
      "cell_type": "code",
      "execution_count": null,
      "metadata": {
        "id": "1_hZyvFB3jQx",
        "outputId": "9f7fa11d-d29f-4cae-ba98-b8e2f82db3b3"
      },
      "outputs": [
        {
          "data": {
            "text/plain": [
              "('r', 'postgresql')"
            ]
          },
          "execution_count": 8,
          "metadata": {},
          "output_type": "execute_result"
        }
      ],
      "source": [
        "job_skills_new_tuple = ('r', 'postgresql',)\n",
        "job_skills += job_skills_new_tuple\n",
        "\n",
        "job_skills_new_tuple"
      ]
    },
    {
      "cell_type": "markdown",
      "metadata": {
        "id": "sMvJxGCH3jQx"
      },
      "source": [
        "Note: To fix this just call the correct variable `job_skills`."
      ]
    },
    {
      "cell_type": "code",
      "execution_count": null,
      "metadata": {
        "id": "igtjQHHM3jQx",
        "outputId": "c556b505-15a4-4082-d652-003637eb46b0"
      },
      "outputs": [
        {
          "data": {
            "text/plain": [
              "('python', 'sql', 'statistics', 'tableau', 'r', 'postgresql')"
            ]
          },
          "execution_count": 9,
          "metadata": {},
          "output_type": "execute_result"
        }
      ],
      "source": [
        "job_skills"
      ]
    },
    {
      "cell_type": "markdown",
      "metadata": {
        "id": "kFCUWowM3jQy"
      },
      "source": [
        "If you rerun the entire cell (below) with the correct variable called at the end you will accidentally add a tuple to your tuple, and create duplicates. This is because you are adding the tuple to it again with these lines:\n",
        "\n",
        "```python\n",
        "job_skills_new_tuple = ('r', 'postgresql',)\n",
        "job_skills += job_skills_new_tuple\n",
        "```"
      ]
    },
    {
      "cell_type": "code",
      "execution_count": null,
      "metadata": {
        "id": "rrd2eWwq3jQy",
        "outputId": "8c3232c4-9fc4-4b3f-a11f-0ba6cf6eea4e"
      },
      "outputs": [
        {
          "data": {
            "text/plain": [
              "('python',\n",
              " 'sql',\n",
              " 'statistics',\n",
              " 'tableau',\n",
              " 'r',\n",
              " 'postgresql',\n",
              " 'r',\n",
              " 'postgresql')"
            ]
          },
          "execution_count": 10,
          "metadata": {},
          "output_type": "execute_result"
        }
      ],
      "source": [
        "job_skills_new_tuple = ('r', 'postgresql',)\n",
        "job_skills += job_skills_new_tuple\n",
        "\n",
        "job_skills"
      ]
    },
    {
      "cell_type": "markdown",
      "metadata": {
        "id": "r3-NDNDQ3jQy"
      },
      "source": [
        "### Join()\n",
        "\n",
        "We already went over this for lists but remember the `.join` method is used for concatenating a sequence of strings together with a specified separator. You need to add a specific separator (e.g. `', '`) between each element during the concatenation process.\n",
        "\n",
        "For tuples specifically we are combining multiple strings from a tuple."
      ]
    },
    {
      "cell_type": "code",
      "execution_count": null,
      "metadata": {
        "id": "YjVp90lK3jQy"
      },
      "outputs": [],
      "source": [
        "skills = ('Python', 'SQL', 'Excel')"
      ]
    },
    {
      "cell_type": "code",
      "execution_count": null,
      "metadata": {
        "id": "mPSA64GA3jQz",
        "outputId": "49c6be44-7420-49b6-dc19-46fad398c9fb"
      },
      "outputs": [
        {
          "name": "stdout",
          "output_type": "stream",
          "text": [
            "I have these skills: Python, SQL, Excel\n"
          ]
        }
      ],
      "source": [
        "# f-string formatting\n",
        "print(f'I have these skills: {\", \".join(skills)}')"
      ]
    },
    {
      "cell_type": "markdown",
      "metadata": {
        "id": "wuvpalU73jQz"
      },
      "source": [
        "### Remove Items\n",
        "\n",
        "Since tuples are **unchangeable** you can't remove items for it. But you can use a similar workaround that we used for changing and adding tuple items."
      ]
    },
    {
      "cell_type": "code",
      "execution_count": null,
      "metadata": {
        "id": "7weZzSp83jQz",
        "outputId": "9ab8f446-3ea1-483c-a537-865d809b8578"
      },
      "outputs": [
        {
          "ename": "AttributeError",
          "evalue": "'tuple' object has no attribute 'remove'",
          "output_type": "error",
          "traceback": [
            "\u001b[0;31m---------------------------------------------------------------------------\u001b[0m",
            "\u001b[0;31mAttributeError\u001b[0m                            Traceback (most recent call last)",
            "Cell \u001b[0;32mIn[13], line 1\u001b[0m\n\u001b[0;32m----> 1\u001b[0m \u001b[43mskills\u001b[49m\u001b[38;5;241;43m.\u001b[39;49m\u001b[43mremove\u001b[49m(\u001b[38;5;124m'\u001b[39m\u001b[38;5;124mExcel\u001b[39m\u001b[38;5;124m'\u001b[39m)\n",
            "\u001b[0;31mAttributeError\u001b[0m: 'tuple' object has no attribute 'remove'"
          ]
        }
      ],
      "source": [
        "skills.remove('Excel')"
      ]
    },
    {
      "cell_type": "markdown",
      "metadata": {
        "id": "ws5sF0im3jQz"
      },
      "source": [
        "#### Remove()\n",
        "\n",
        "Convert the tuple into a list, remove the item using `remove()` method, and convert it back to a tuple."
      ]
    },
    {
      "cell_type": "code",
      "execution_count": null,
      "metadata": {
        "id": "YTFBw13j3jQ0",
        "outputId": "7884eee7-054a-4fd2-f5e0-702bdc01ae32"
      },
      "outputs": [
        {
          "data": {
            "text/plain": [
              "('python', 'sql', 'statistics', 'r', 'postgresql', 'r', 'postgresql')"
            ]
          },
          "execution_count": 14,
          "metadata": {},
          "output_type": "execute_result"
        }
      ],
      "source": [
        "# Turn tuple into a list\n",
        "job_skills_remove = list(job_skills)\n",
        "\n",
        "# Remove skill from the list\n",
        "job_skills_remove.remove('tableau')\n",
        "\n",
        "# Convert list to a tuple\n",
        "job_skills_tuple = tuple(job_skills_remove)\n",
        "\n",
        "job_skills_tuple\n"
      ]
    },
    {
      "cell_type": "markdown",
      "metadata": {
        "id": "TI5Sc2Gc3jQ0"
      },
      "source": [
        "#### Del\n",
        "\n",
        "Or you can use the `del` keyword to delete the tuple completely. If we try to show the job_skills are we delete it, it will return an error."
      ]
    },
    {
      "cell_type": "code",
      "execution_count": null,
      "metadata": {
        "id": "qlqr-YSM3jQ0",
        "outputId": "92d925c0-0d9c-4645-db0c-96341cdedb89"
      },
      "outputs": [
        {
          "ename": "NameError",
          "evalue": "name 'job_skills' is not defined",
          "output_type": "error",
          "traceback": [
            "\u001b[0;31m---------------------------------------------------------------------------\u001b[0m",
            "\u001b[0;31mNameError\u001b[0m                                 Traceback (most recent call last)",
            "Cell \u001b[0;32mIn[15], line 2\u001b[0m\n\u001b[1;32m      1\u001b[0m \u001b[38;5;28;01mdel\u001b[39;00m job_skills\n\u001b[0;32m----> 2\u001b[0m \u001b[43mjob_skills\u001b[49m\n",
            "\u001b[0;31mNameError\u001b[0m: name 'job_skills' is not defined"
          ]
        }
      ],
      "source": [
        "del job_skills\n",
        "job_skills"
      ]
    },
    {
      "cell_type": "markdown",
      "metadata": {
        "id": "trYMNZRT3jQ0"
      },
      "source": [
        "## range()\n",
        "\n",
        "Now these 4 container data types we covered over the past few notebooks are not the only container data types.\n",
        "\n",
        "The `range()` function generates a sequence of numbers. It is commonly used for looping a specific number of times in for loops."
      ]
    },
    {
      "cell_type": "code",
      "execution_count": null,
      "metadata": {
        "id": "aPUFvgxl3jQ0",
        "outputId": "370275ba-aa52-40ef-cb0b-96096467b2a9"
      },
      "outputs": [
        {
          "data": {
            "text/plain": [
              "range(0, 5)"
            ]
          },
          "execution_count": 16,
          "metadata": {},
          "output_type": "execute_result"
        }
      ],
      "source": [
        "range(5)"
      ]
    },
    {
      "cell_type": "markdown",
      "metadata": {
        "id": "Dts2_DgU3jQ1"
      },
      "source": [
        "Note: `range()` isn't a tuple, it's its own datatype; but it's dang close and short, so we'll cover it here."
      ]
    },
    {
      "cell_type": "code",
      "execution_count": null,
      "metadata": {
        "id": "4zUhbivU3jQ1",
        "outputId": "d50dda54-40d2-4d4a-f24a-93b2d35fe05c"
      },
      "outputs": [
        {
          "data": {
            "text/plain": [
              "range"
            ]
          },
          "execution_count": 17,
          "metadata": {},
          "output_type": "execute_result"
        }
      ],
      "source": [
        "type(range(5))"
      ]
    },
    {
      "cell_type": "markdown",
      "metadata": {
        "id": "LfFkBqum3jQ1"
      },
      "source": [
        "But let's actually see inside of this object by converting it to a tuple."
      ]
    },
    {
      "cell_type": "code",
      "execution_count": null,
      "metadata": {
        "id": "WF4OMIDc3jQ1",
        "outputId": "893b3447-fea0-4fad-933a-0b1d901a2915"
      },
      "outputs": [
        {
          "data": {
            "text/plain": [
              "(0, 1, 2, 3, 4)"
            ]
          },
          "execution_count": 22,
          "metadata": {},
          "output_type": "execute_result"
        }
      ],
      "source": [
        "tuple(range(5))"
      ]
    },
    {
      "cell_type": "markdown",
      "metadata": {
        "id": "QpVx88fs3jQ1"
      },
      "source": [
        "Syntax: The `range()` function can be called with one, two, or three arguments:  \n",
        "* `range(stop)`: Generates numbers from 0 to stop-1 (read: stop minus 1)\n",
        "* `range(start, stop)`: Generates numbers from start to stop-1\n",
        "* `range(start, stop, step)`: Generates numbers from start to stop-1"
      ]
    },
    {
      "cell_type": "code",
      "execution_count": null,
      "metadata": {
        "id": "ylbz9AVz3jQ2",
        "outputId": "6b5c20a8-beaf-4341-ab0d-305449f80b34"
      },
      "outputs": [
        {
          "data": {
            "text/plain": [
              "[2, 3, 4]"
            ]
          },
          "execution_count": 20,
          "metadata": {},
          "output_type": "execute_result"
        }
      ],
      "source": [
        "list(range(2,5))"
      ]
    },
    {
      "cell_type": "code",
      "execution_count": null,
      "metadata": {
        "id": "bL5VUGxk3jQ2",
        "outputId": "7afa3c79-e1c5-45af-caa6-e0193280eed6"
      },
      "outputs": [
        {
          "data": {
            "text/plain": [
              "[0,\n",
              " 2,\n",
              " 4,\n",
              " 6,\n",
              " 8,\n",
              " 10,\n",
              " 12,\n",
              " 14,\n",
              " 16,\n",
              " 18,\n",
              " 20,\n",
              " 22,\n",
              " 24,\n",
              " 26,\n",
              " 28,\n",
              " 30,\n",
              " 32,\n",
              " 34,\n",
              " 36,\n",
              " 38,\n",
              " 40,\n",
              " 42,\n",
              " 44,\n",
              " 46,\n",
              " 48,\n",
              " 50,\n",
              " 52,\n",
              " 54,\n",
              " 56,\n",
              " 58,\n",
              " 60,\n",
              " 62,\n",
              " 64,\n",
              " 66,\n",
              " 68,\n",
              " 70,\n",
              " 72,\n",
              " 74,\n",
              " 76,\n",
              " 78,\n",
              " 80,\n",
              " 82,\n",
              " 84,\n",
              " 86,\n",
              " 88,\n",
              " 90,\n",
              " 92,\n",
              " 94,\n",
              " 96,\n",
              " 98]"
            ]
          },
          "execution_count": 23,
          "metadata": {},
          "output_type": "execute_result"
        }
      ],
      "source": [
        "list(range(0, 100, 2))"
      ]
    }
  ],
  "metadata": {
    "colab": {
      "provenance": []
    },
    "kernelspec": {
      "display_name": "Python 3",
      "name": "python3"
    },
    "language_info": {
      "codemirror_mode": {
        "name": "ipython",
        "version": 3
      },
      "file_extension": ".py",
      "mimetype": "text/x-python",
      "name": "python",
      "nbconvert_exporter": "python",
      "pygments_lexer": "ipython3",
      "version": "3.9.19"
    }
  },
  "nbformat": 4,
  "nbformat_minor": 0
}
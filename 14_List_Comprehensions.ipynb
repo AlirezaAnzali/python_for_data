{
  "cells": [
    {
      "cell_type": "markdown",
      "metadata": {
        "id": "sGv0RJ4-awf3"
      },
      "source": [
        "# List Comprehensions"
      ]
    },
    {
      "cell_type": "markdown",
      "metadata": {
        "id": "16NGtiRI8RwZ"
      },
      "source": [
        "## Notes\n",
        "\n",
        "* A way way to create a new list (with shorter syntax) based on the values of an existing list.\n",
        "\n",
        "Not limited to only `list` comprehension:\n",
        "- `set` comprehension\n",
        "- `tuple` comprehension\n",
        "- `dictionary` comprehension\n",
        "\n",
        "## Importance\n",
        "\n",
        "Provide a concise way to create lists. Useful for data manipulation and filtering in pandas."
      ]
    },
    {
      "cell_type": "code",
      "execution_count": 2,
      "metadata": {
        "colab": {
          "base_uri": "https://localhost:8080/"
        },
        "id": "Sk4rzj7f8RwZ",
        "outputId": "e85a9d23-2de1-42d5-8b0d-3ceda3c82b96"
      },
      "outputs": [
        {
          "output_type": "execute_result",
          "data": {
            "text/plain": [
              "[0, 1, 2, 3, 4, 5, 6, 7, 8, 9]"
            ]
          },
          "metadata": {},
          "execution_count": 2
        }
      ],
      "source": [
        "# Creating a list of numbers from 0 to 9\n",
        "numbers = [x for x in range(10)]\n",
        "numbers"
      ]
    },
    {
      "cell_type": "markdown",
      "metadata": {
        "id": "vbCk36Pb8Rwa"
      },
      "source": [
        "## Example # 1\n",
        "\n",
        "We're going to modify our example that we used in our `for` loop. Intsead of having the whole print statement with \"Position requires X years of experience\". We are just going to print out the experience required. This is a simplified version of our code earlier."
      ]
    },
    {
      "cell_type": "code",
      "execution_count": 3,
      "metadata": {
        "colab": {
          "base_uri": "https://localhost:8080/"
        },
        "id": "vEJN6KYx_25k",
        "outputId": "b5a478bc-881d-4e9a-b0fe-972245cb382c"
      },
      "outputs": [
        {
          "output_type": "stream",
          "name": "stdout",
          "text": [
            "1\n",
            "2\n",
            "3\n"
          ]
        }
      ],
      "source": [
        "# Minimum experience required for job positions\n",
        "position_experience_requirements = [1, 2, 3]\n",
        "\n",
        "# Iterate over each experience requirement in the list of job positions\n",
        "for x in position_experience_requirements:\n",
        "    print(x)"
      ]
    },
    {
      "cell_type": "markdown",
      "metadata": {
        "id": "SmKheGy0_31s"
      },
      "source": [
        "Now let's use list comprehension to shorten this.\n",
        "\n",
        "- The code defines `position_experience_requirements` as a list of integers representing minimum years of experience required for various job positions.\n",
        "- The for loop goes through each list item in `postion_experience_requirements` and prints out the `requirement`."
      ]
    },
    {
      "cell_type": "code",
      "execution_count": 4,
      "metadata": {
        "colab": {
          "base_uri": "https://localhost:8080/"
        },
        "id": "whjBD3Dc8Rwb",
        "outputId": "f7655e9e-9e76-490d-f400-c6c9c3e7b6ce"
      },
      "outputs": [
        {
          "output_type": "execute_result",
          "data": {
            "text/plain": [
              "[1, 2, 3]"
            ]
          },
          "metadata": {},
          "execution_count": 4
        }
      ],
      "source": [
        "# Create a list of job positions\n",
        "experience = [x for x in position_experience_requirements]\n",
        "\n",
        "# The result will be a list of job positions\n",
        "experience"
      ]
    },
    {
      "cell_type": "markdown",
      "metadata": {
        "id": "iRkks3i38Rwb"
      },
      "source": [
        "This is pretty basic. So let's make it a bit more useful. I'm going to add in a variable that stores the user's years of experience."
      ]
    },
    {
      "cell_type": "code",
      "execution_count": 5,
      "metadata": {
        "colab": {
          "base_uri": "https://localhost:8080/"
        },
        "id": "93mub_KN8Rwb",
        "outputId": "ff942fdf-b1a6-43d9-8285-4f14ef90fda2"
      },
      "outputs": [
        {
          "output_type": "execute_result",
          "data": {
            "text/plain": [
              "2"
            ]
          },
          "metadata": {},
          "execution_count": 5
        }
      ],
      "source": [
        "user_experience = 2\n",
        "user_experience"
      ]
    },
    {
      "cell_type": "markdown",
      "metadata": {
        "id": "8uUnFFfw8Rwc"
      },
      "source": [
        "Now, we are adding an if condition to our list comprehension. This condition checks if the user's experience (`user_experience`) is greater than or equal to each item (`x`) in the `position_experience_requirements` list.\n",
        "\n",
        "```python\n",
        "if user_experience >= x\n",
        "```\n",
        "\n",
        "It returns only the jobs where the requirement is met or is lower than the user's experience."
      ]
    },
    {
      "cell_type": "code",
      "execution_count": 6,
      "metadata": {
        "colab": {
          "base_uri": "https://localhost:8080/"
        },
        "id": "Spebz0wZ8Rwc",
        "outputId": "42b616f8-cd8f-4db5-c285-b93b727c69b2"
      },
      "outputs": [
        {
          "output_type": "execute_result",
          "data": {
            "text/plain": [
              "[1, 2]"
            ]
          },
          "metadata": {},
          "execution_count": 6
        }
      ],
      "source": [
        "# Create a list of job positions for which the user is qualified\n",
        "\n",
        "qualified_positions= [x for x in position_experience_requirements if user_experience>= x]\n",
        "\n",
        "qualified_positions"
      ]
    },
    {
      "cell_type": "markdown",
      "metadata": {
        "id": "oKN9K30F8Rwc"
      },
      "source": [
        "## Example # 2"
      ]
    },
    {
      "cell_type": "markdown",
      "metadata": {
        "id": "8qgzm72i8Rwc"
      },
      "source": [
        "This first code block extracts the data we need for this exercise; we'll dive into this later in the course.\n",
        "\n",
        "For now just understand I'm extracting the list of `job_titles` form our dataset."
      ]
    },
    {
      "cell_type": "code",
      "execution_count": null,
      "metadata": {
        "id": "Qr4fUDn08Rwc"
      },
      "outputs": [],
      "source": [
        "from datasets import load_dataset\n",
        "\n",
        "# Load the dataset\n",
        "dataset = load_dataset('lukebarousse/data_jobs')\n",
        "df = dataset['train'].to_pandas()\n",
        "\n",
        "# Create a list of job titles from the dataset\n",
        "job_list = df['job_title'].tolist()\n",
        "\n",
        "# Remove any non-string values from the list\n",
        "job_list = [job for job in job_list if isinstance(job, str)]"
      ]
    },
    {
      "cell_type": "markdown",
      "metadata": {
        "id": "Gnl2ixvu8Rwc"
      },
      "source": [
        "Let's modify our previous `for` loop into a list comp!"
      ]
    },
    {
      "cell_type": "code",
      "execution_count": null,
      "metadata": {
        "id": "9g7Jd5qj8Rwc",
        "outputId": "6cf8f385-10f2-4d48-c1c7-4ee27a12bf4a"
      },
      "outputs": [
        {
          "data": {
            "text/plain": [
              "['Technical Data Analyst',\n",
              " 'Sr. Data Analyst - Full-time / Part-time',\n",
              " 'Data Analyst',\n",
              " 'Data Analyst',\n",
              " 'Data Analyst Junior settore Logistica',\n",
              " 'Senior Data Analyst - Now Hiring',\n",
              " 'Health Technology Data Analyst',\n",
              " 'Data Analyst',\n",
              " 'Love Excel? Junior Data Analyst for Real Estate',\n",
              " 'Data Analyst']"
            ]
          },
          "execution_count": 13,
          "metadata": {},
          "output_type": "execute_result"
        }
      ],
      "source": [
        "# previous for loop\n",
        "analyst_list = []\n",
        "\n",
        "for job in job_list:\n",
        "  if \"Data Analyst\" in job:\n",
        "    analyst_list.append(job)\n",
        "\n",
        "# show first 10 values\n",
        "analyst_list[:10]"
      ]
    },
    {
      "cell_type": "markdown",
      "metadata": {
        "id": "tJNsyIXV8Rwd"
      },
      "source": [
        "However that was 4 lines of code!\n",
        "\n",
        "With list comprehension we can do it in only 1."
      ]
    },
    {
      "cell_type": "code",
      "execution_count": null,
      "metadata": {
        "id": "ysiRmTaw8Rwd",
        "outputId": "a7e5221d-bc85-42ca-9f42-35e294cdf507"
      },
      "outputs": [
        {
          "data": {
            "text/plain": [
              "['Technical Data Analyst',\n",
              " 'Sr. Data Analyst - Full-time / Part-time',\n",
              " 'Data Analyst',\n",
              " 'Data Analyst',\n",
              " 'Data Analyst Junior settore Logistica',\n",
              " 'Senior Data Analyst - Now Hiring',\n",
              " 'Health Technology Data Analyst',\n",
              " 'Data Analyst',\n",
              " 'Love Excel? Junior Data Analyst for Real Estate',\n",
              " 'Data Analyst']"
            ]
          },
          "execution_count": 14,
          "metadata": {},
          "output_type": "execute_result"
        }
      ],
      "source": [
        "analyst_list = [job for job in job_list if \"Data Analyst\" in job]\n",
        "\n",
        "# show first 10 values\n",
        "analyst_list[:10]"
      ]
    },
    {
      "cell_type": "code",
      "execution_count": null,
      "metadata": {
        "id": "DWtAKF_z8Rwd",
        "outputId": "aa52d5f7-7592-46cc-aae2-f07d1091fd49"
      },
      "outputs": [
        {
          "name": "stdout",
          "output_type": "stream",
          "text": [
            "Job list is:      787685 jobs\n",
            "Analyst list is:  163124 jobs\n"
          ]
        }
      ],
      "source": [
        "print(\"Job list is:     \" , len(job_list), \"jobs\")\n",
        "print(\"Analyst list is: \", len(analyst_list), \"jobs\")"
      ]
    }
  ],
  "metadata": {
    "colab": {
      "provenance": []
    },
    "kernelspec": {
      "display_name": "Python 3",
      "name": "python3"
    },
    "language_info": {
      "codemirror_mode": {
        "name": "ipython",
        "version": 3
      },
      "file_extension": ".py",
      "mimetype": "text/x-python",
      "name": "python",
      "nbconvert_exporter": "python",
      "pygments_lexer": "ipython3",
      "version": "3.9.19"
    }
  },
  "nbformat": 4,
  "nbformat_minor": 0
}
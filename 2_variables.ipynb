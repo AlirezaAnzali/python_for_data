{
  "nbformat": 4,
  "nbformat_minor": 0,
  "metadata": {
    "colab": {
      "provenance": []
    },
    "kernelspec": {
      "name": "python3",
      "display_name": "Python 3"
    },
    "language_info": {
      "name": "python"
    }
  },
  "cells": [
    {
      "cell_type": "markdown",
      "source": [
        "# Creating a variable"
      ],
      "metadata": {
        "id": "CClUlMBcBmkJ"
      }
    },
    {
      "cell_type": "code",
      "source": [
        "salary = 100000"
      ],
      "metadata": {
        "id": "7RVWebcnBud6"
      },
      "execution_count": 1,
      "outputs": []
    },
    {
      "cell_type": "code",
      "source": [
        "salary"
      ],
      "metadata": {
        "colab": {
          "base_uri": "https://localhost:8080/"
        },
        "id": "qsez_WfhB0GZ",
        "outputId": "27a86c14-3450-4d31-cfd7-7c539c50d208"
      },
      "execution_count": 2,
      "outputs": [
        {
          "output_type": "execute_result",
          "data": {
            "text/plain": [
              "100000"
            ]
          },
          "metadata": {},
          "execution_count": 2
        }
      ]
    },
    {
      "cell_type": "code",
      "source": [
        "base_salary = 100000\n",
        "bonus_rate = 0.10\n",
        "total_salary = (base_salary)*(1+bonus_rate)\n",
        "print(total_salary)"
      ],
      "metadata": {
        "colab": {
          "base_uri": "https://localhost:8080/"
        },
        "id": "X6SnVrFrB8s_",
        "outputId": "b103b949-f01d-4e4b-ba21-b0b3fff19ed9"
      },
      "execution_count": 3,
      "outputs": [
        {
          "output_type": "stream",
          "name": "stdout",
          "text": [
            "110000.00000000001\n"
          ]
        }
      ]
    },
    {
      "cell_type": "code",
      "source": [
        "company_name = 'DataWiz Inc'"
      ],
      "metadata": {
        "id": "GyyChCLDDAOd"
      },
      "execution_count": 4,
      "outputs": []
    },
    {
      "cell_type": "code",
      "source": [
        "job_wfh = True"
      ],
      "metadata": {
        "id": "Mh6V2HQwDHKD"
      },
      "execution_count": 5,
      "outputs": []
    },
    {
      "cell_type": "code",
      "source": [
        "job_id = 101\n",
        "job_title = 'Data Analyst'\n",
        "job_salary = 125000"
      ],
      "metadata": {
        "id": "eA8ssSadDPpt"
      },
      "execution_count": 6,
      "outputs": []
    },
    {
      "cell_type": "code",
      "source": [
        "print('Data Job Description')\n",
        "print('++++++++++++++++++++')\n",
        "print('Job ID:    ', job_id)\n",
        "print('Company Name:    ', company_name)\n",
        "print('Job Title:   ', job_title)\n",
        "print('Salary:    ', job_salary)\n",
        "print('WFH:    ', job_wfh)"
      ],
      "metadata": {
        "colab": {
          "base_uri": "https://localhost:8080/"
        },
        "id": "FK1EBwJ2Dj4J",
        "outputId": "15ac75c0-563a-4344-d5d5-29f1a600724d"
      },
      "execution_count": 9,
      "outputs": [
        {
          "output_type": "stream",
          "name": "stdout",
          "text": [
            "Data Job Description\n",
            "++++++++++++++++++++\n",
            "Job ID:     101\n",
            "Company Name:     DataWiz Inc\n",
            "Job Title:    Data Analyst\n",
            "Salary:     125000\n",
            "WFH:     True\n"
          ]
        }
      ]
    }
  ]
}
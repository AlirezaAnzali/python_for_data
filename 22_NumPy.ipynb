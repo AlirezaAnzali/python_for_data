{
  "cells": [
    {
      "cell_type": "markdown",
      "metadata": {
        "id": "hto_gSZTKnSA"
      },
      "source": [
        "# NumPy"
      ]
    },
    {
      "cell_type": "markdown",
      "metadata": {
        "id": "rUK3EB7EJaTU"
      },
      "source": [
        "## Notes\n",
        "\n",
        "* NumPy, which stands for Numerical Python, is foundational for numerical computing in Python.\n",
        "* Designed for scientific computation and is used extensively for data analysis because of its ability to handle large, multi-dimensional arrays and matrices efficiently.\n",
        "* Serves as the basis for many other Python data science libraries, including Pandas, due to its speed and efficiency in numerical computations.\n",
        "* A few special use cases for NumPy specifically for data analysis:\n",
        "    * Array operations\n",
        "    * Linear algebra\n",
        "    * Statistical functions\n",
        "    * Random number generation\n",
        "\n",
        "## Importance\n",
        "\n",
        "* Important for data analysis.\n",
        "* Way to store data in a structured format, making it easier to organize, access, and manipulate data.\n",
        "* Pandas library is built on top of NumPy.\n",
        "\n",
        "For more information on NumPy check out the official documentation [here](https://numpy.org/doc/1.26/)."
      ]
    },
    {
      "cell_type": "markdown",
      "metadata": {
        "id": "qPseiZXsKv5-"
      },
      "source": [
        "## Array Operations\n",
        "\n",
        "### Notes\n",
        "* Creation: **`import numpy as np; np.array([1, 2, 3])`**\n",
        "* Basic Operations:  `+`, `-`, `/`, `*` performed element-wise\n",
        "* Slicing: **`array[1:3]`**\n",
        "* Boolean Indexing: **`array[array > 0]`**\n",
        "\n",
        "### Examples\n",
        "\n",
        "Let's start with creating a fictional array with the number of years of experience required for five different data science job listings."
      ]
    },
    {
      "cell_type": "markdown",
      "metadata": {
        "id": "a7q98kAsJaTW"
      },
      "source": [
        "### Create an Array"
      ]
    },
    {
      "cell_type": "code",
      "execution_count": null,
      "metadata": {
        "id": "ZciGtlS7JaTX"
      },
      "outputs": [],
      "source": [
        "# Install package\n",
        "!conda install numpy"
      ]
    },
    {
      "cell_type": "code",
      "execution_count": 27,
      "metadata": {
        "id": "IqW72BdPJaTZ"
      },
      "outputs": [],
      "source": [
        "# Import Package\n",
        "import numpy as np"
      ]
    },
    {
      "cell_type": "code",
      "execution_count": 28,
      "metadata": {
        "id": "Q_n8T5FUJaTZ"
      },
      "outputs": [],
      "source": [
        "# Example: An array representing the number of years of experience required for three different data science job listings.\n",
        "years_of_experience = np.array([1, 2, 3, 4, 5])"
      ]
    },
    {
      "cell_type": "markdown",
      "metadata": {
        "id": "zL0HkjPcJaTa"
      },
      "source": [
        "### Basic Operations\n",
        "\n",
        "Applying mathematics operations to the entire array."
      ]
    },
    {
      "cell_type": "markdown",
      "metadata": {
        "id": "VH_mJMrlJaTb"
      },
      "source": [
        "#### Addition\n",
        "Adding 1 year to the experience requirements for each job listing."
      ]
    },
    {
      "cell_type": "code",
      "execution_count": 29,
      "metadata": {
        "colab": {
          "base_uri": "https://localhost:8080/"
        },
        "id": "gBtBmdNYJaTb",
        "outputId": "b3aa97ca-a5bc-44ae-af30-dd8ba26214ba"
      },
      "outputs": [
        {
          "output_type": "execute_result",
          "data": {
            "text/plain": [
              "array([2, 3, 4, 5, 6])"
            ]
          },
          "metadata": {},
          "execution_count": 29
        }
      ],
      "source": [
        "years_of_experience_plus_one = years_of_experience + 1\n",
        "years_of_experience_plus_one"
      ]
    },
    {
      "cell_type": "markdown",
      "metadata": {
        "id": "O_bfIpybJaTd"
      },
      "source": [
        "#### Subtraction\n",
        "\n",
        "Subtracting 1 year from the experience requirements for each job listing."
      ]
    },
    {
      "cell_type": "code",
      "execution_count": null,
      "metadata": {
        "id": "C72oUV8RJaTe",
        "outputId": "51bce30d-9a8b-46dc-95a9-4f224e72cff2"
      },
      "outputs": [
        {
          "data": {
            "text/plain": [
              "array([0, 1, 2, 3, 4])"
            ]
          },
          "execution_count": 5,
          "metadata": {},
          "output_type": "execute_result"
        }
      ],
      "source": [
        "years_of_experience_minus_one = years_of_experience - 1\n",
        "years_of_experience_minus_one"
      ]
    },
    {
      "cell_type": "markdown",
      "metadata": {
        "id": "4sg9YtoqJaTe"
      },
      "source": [
        "#### Division\n",
        "\n",
        "Dividing the experience requirements by 2 (maybe for a junior role)."
      ]
    },
    {
      "cell_type": "code",
      "execution_count": null,
      "metadata": {
        "id": "N4ilXuDBJaTe",
        "outputId": "1b460b7e-382a-4527-d63a-0d9a3b9b2eb1"
      },
      "outputs": [
        {
          "data": {
            "text/plain": [
              "array([0.5, 1. , 1.5, 2. , 2.5])"
            ]
          },
          "execution_count": 6,
          "metadata": {},
          "output_type": "execute_result"
        }
      ],
      "source": [
        "years_of_experience_half = years_of_experience / 2\n",
        "years_of_experience_half"
      ]
    },
    {
      "cell_type": "markdown",
      "metadata": {
        "id": "k8C-mmHMJaTf"
      },
      "source": [
        "#### Multiplication\n",
        "\n",
        "Doubling the experience requirements for each job listing."
      ]
    },
    {
      "cell_type": "code",
      "execution_count": null,
      "metadata": {
        "id": "Fp1yC9-yJaTf",
        "outputId": "b64834a9-8229-430b-d214-a5b34aec53a4"
      },
      "outputs": [
        {
          "data": {
            "text/plain": [
              "array([ 2,  4,  6,  8, 10])"
            ]
          },
          "execution_count": 7,
          "metadata": {},
          "output_type": "execute_result"
        }
      ],
      "source": [
        "years_of_experience_double = years_of_experience * 2\n",
        "years_of_experience_double"
      ]
    },
    {
      "cell_type": "markdown",
      "metadata": {
        "id": "frfVokmfJaTf"
      },
      "source": [
        "### Slicing\n",
        "\n",
        "Get subset of information from the array. Let's get the experience requirements for the second and third job postings."
      ]
    },
    {
      "cell_type": "code",
      "execution_count": null,
      "metadata": {
        "id": "XZl1Ua3kJaTg",
        "outputId": "9138dcb8-0f1b-4bea-b7ee-69ccf5717f84"
      },
      "outputs": [
        {
          "data": {
            "text/plain": [
              "array([2, 3])"
            ]
          },
          "execution_count": 4,
          "metadata": {},
          "output_type": "execute_result"
        }
      ],
      "source": [
        "# Example: Selecting the experience requirement for the second and third job listings.\n",
        "second_and_third_jobs_experience = years_of_experience[1:3]\n",
        "second_and_third_jobs_experience"
      ]
    },
    {
      "cell_type": "markdown",
      "metadata": {
        "id": "7spsmjWEJaTg"
      },
      "source": [
        "### Boolean Indexing\n",
        "\n",
        "Get items from the array that meet a specific condition. For this get only the job postings that require more than 2 years of experience."
      ]
    },
    {
      "cell_type": "code",
      "execution_count": null,
      "metadata": {
        "id": "xMRgY82jJaTg",
        "outputId": "0fd83970-e273-4255-b323-84f69249c412"
      },
      "outputs": [
        {
          "data": {
            "text/plain": [
              "array([3, 4, 5])"
            ]
          },
          "execution_count": 5,
          "metadata": {},
          "output_type": "execute_result"
        }
      ],
      "source": [
        "# Example: Selecting only those job listings that require more than 1 year of experience.\n",
        "jobs_with_more_than_one_year_exp = years_of_experience[years_of_experience > 2]\n",
        "jobs_with_more_than_one_year_exp"
      ]
    },
    {
      "cell_type": "markdown",
      "metadata": {
        "id": "jCmPO2FpKxLC"
      },
      "source": [
        "## Math Operations\n",
        "\n",
        "### Notes\n",
        "\n",
        "* Aggregate functions:\n",
        "    * `sum`: sum\n",
        "    * `prod`: product\n",
        "    * `cumsum`: cumulative sum\n",
        "    * `cumprod`: cumulative product\n",
        "* Mathematical operations (we won't be going into this during the course):\n",
        "    * `sqrt`\n",
        "    * `exp`\n",
        "    * `log`\n",
        "    * `sin`\n",
        "    * `cos`\n",
        "\n",
        "### Examples\n",
        "\n",
        "First lets create a list with 10 yearly salaries for a Senior Data Analyst job. We're just using a combination of the `random` library to get random integers between 100000 and 150000. Then using a `for` loop to get 10 (random) values."
      ]
    },
    {
      "cell_type": "code",
      "execution_count": 31,
      "metadata": {
        "id": "G_FWOFpnJaTh"
      },
      "outputs": [],
      "source": [
        "import random\n",
        "\n",
        "salary = [random.randint(100000, 150000) for num in range(10)]"
      ]
    },
    {
      "cell_type": "code",
      "execution_count": 32,
      "metadata": {
        "colab": {
          "base_uri": "https://localhost:8080/"
        },
        "id": "p3os-0FmJaTh",
        "outputId": "75014179-8434-4e6a-a713-94be5bce9145"
      },
      "outputs": [
        {
          "output_type": "execute_result",
          "data": {
            "text/plain": [
              "[139357,\n",
              " 104911,\n",
              " 114877,\n",
              " 115314,\n",
              " 130521,\n",
              " 136974,\n",
              " 113326,\n",
              " 135336,\n",
              " 109750,\n",
              " 148807]"
            ]
          },
          "metadata": {},
          "execution_count": 32
        }
      ],
      "source": [
        "salary"
      ]
    },
    {
      "cell_type": "markdown",
      "metadata": {
        "id": "As5d0P5cJaTi"
      },
      "source": [
        "Now we'll convert this list into a NumPy array."
      ]
    },
    {
      "cell_type": "code",
      "execution_count": 33,
      "metadata": {
        "colab": {
          "base_uri": "https://localhost:8080/"
        },
        "id": "zGM8vxFcJaTi",
        "outputId": "b2e7669f-3d10-4991-e1b1-32b212772a5c"
      },
      "outputs": [
        {
          "output_type": "execute_result",
          "data": {
            "text/plain": [
              "array([139357, 104911, 114877, 115314, 130521, 136974, 113326, 135336,\n",
              "       109750, 148807])"
            ]
          },
          "metadata": {},
          "execution_count": 33
        }
      ],
      "source": [
        "salary_array = np.array(salary)\n",
        "salary_array"
      ]
    },
    {
      "cell_type": "markdown",
      "metadata": {
        "id": "ousczc4MJaTi"
      },
      "source": [
        "### Sum\n",
        "\n",
        "Calculate the total sum of the elements in the `salary_array`."
      ]
    },
    {
      "cell_type": "code",
      "execution_count": 34,
      "metadata": {
        "colab": {
          "base_uri": "https://localhost:8080/"
        },
        "id": "qvQSPgW-JaTi",
        "outputId": "c5e23cd5-f37b-41b9-da27-fdb6a10c2910"
      },
      "outputs": [
        {
          "output_type": "execute_result",
          "data": {
            "text/plain": [
              "1249173"
            ]
          },
          "metadata": {},
          "execution_count": 34
        }
      ],
      "source": [
        "total_sum_salaries = np.sum(salary_array)\n",
        "total_sum_salaries"
      ]
    },
    {
      "cell_type": "markdown",
      "metadata": {
        "id": "5Ui6qbZ_JaTj"
      },
      "source": [
        "### Prod\n",
        "\n",
        "Calculate the product of the elements in the `salary_array`."
      ]
    },
    {
      "cell_type": "code",
      "execution_count": 35,
      "metadata": {
        "colab": {
          "base_uri": "https://localhost:8080/"
        },
        "id": "rZP5HRcWJaTj",
        "outputId": "0f4c33c8-ac91-4415-aff6-ffd93a3e94bb"
      },
      "outputs": [
        {
          "output_type": "execute_result",
          "data": {
            "text/plain": [
              "-4367573439421547648"
            ]
          },
          "metadata": {},
          "execution_count": 35
        }
      ],
      "source": [
        "# This is a conceptual example since taking the product of a boolean series isn't common\n",
        "product_salaries = np.prod(salary_array)\n",
        "product_salaries"
      ]
    },
    {
      "cell_type": "markdown",
      "source": [
        "### Why the Product is Negative?\n",
        "\n",
        "The reason you're getting a **negative result** when calculating the product of the salaries using `np.prod(salary_array)` is due to **integer overflow**.\n",
        "\n",
        "### What is Integer Overflow?\n",
        "\n",
        "**Integer overflow** happens when a number exceeds the maximum value that can be stored in a specific data type. In `numpy`, arrays created from a list of integers default to a certain data type:\n",
        "\n",
        "- **32-bit integers (`int32`)** have a maximum value of **2,147,483,647**.\n",
        "- If the product of your numbers exceeds this limit, it will \"wrap around\" and result in a negative or incorrect value.\n",
        "\n",
        "### Example:\n",
        "\n",
        "When you multiply large numbers like the ones in your `salary_array`, the product quickly becomes too large to fit in a 32-bit integer, leading to an overflow.\n",
        "\n",
        "### Solution:\n",
        "\n",
        "To avoid overflow, you can specify a larger data type, such as `int64` or even `float64`, for the array.\n",
        "\n",
        "Here’s how to fix it:\n",
        "\n",
        "#### Solution 1: Use `int64`\n",
        "\n",
        "```python\n",
        "import numpy as np\n",
        "\n",
        "salary = [139357, 104911, 114877, 115314, 130521, 136974, 113326, 135336, 109750, 148807]\n",
        "salary_array = np.array(salary, dtype=np.int64)  # Use int64 to avoid overflow\n",
        "product_salaries = np.prod(salary_array)\n",
        "\n",
        "print(product_salaries)\n",
        "```\n",
        "\n",
        "#### Solution 2: Use float64 for even larger numbers\n",
        "\n",
        "```python\n",
        "salary_array = np.array(salary, dtype=np.float64)  # Use float64 for large numbers\n",
        "product_salaries = np.prod(salary_array)\n",
        "\n",
        "print(product_salaries)\n",
        "```\n",
        "By using int64 or float64, you ensure that the calculation can handle larger values without overflow.\n",
        "\n"
      ],
      "metadata": {
        "id": "QHUO8vJ-zqRc"
      }
    },
    {
      "cell_type": "code",
      "source": [
        "salary_array = np.array(salary, dtype=np.float64)  # Use int64 to avoid overflow\n",
        "product_salaries = np.prod(salary_array)\n",
        "product_salaries"
      ],
      "metadata": {
        "colab": {
          "base_uri": "https://localhost:8080/"
        },
        "id": "rgpb4OOz1_hQ",
        "outputId": "fcbabb7c-2eff-4737-e4e1-23431025568e"
      },
      "execution_count": 39,
      "outputs": [
        {
          "output_type": "execute_result",
          "data": {
            "text/plain": [
              "8.67269863210057e+50"
            ]
          },
          "metadata": {},
          "execution_count": 39
        }
      ]
    },
    {
      "cell_type": "markdown",
      "metadata": {
        "id": "oM8J9wksJaTk"
      },
      "source": [
        "### Cumsum (Cumulative Sum)\n",
        "\n",
        "Calculates the cumulative sum of elements of the `salary_array`. It calculates the cumulative sum at each index, meaning each element in the output array is the sum of all preceding elements including the current one from the original array.\n",
        "\n",
        "For the `salary_array`:\n",
        "\n",
        "* First element of cumsum is 110003 (just the first element)\n",
        "* Second element is 110003 + 133394 = 243397\n",
        "* Third element is 243397 + 148741 = 392138\n",
        "* And so on..."
      ]
    },
    {
      "cell_type": "code",
      "execution_count": 42,
      "metadata": {
        "colab": {
          "base_uri": "https://localhost:8080/"
        },
        "id": "uYJkpLGPJaTm",
        "outputId": "544a26f7-559c-45c3-fced-5788d12d026a"
      },
      "outputs": [
        {
          "output_type": "execute_result",
          "data": {
            "text/plain": [
              "array([ 139357.,  244268.,  359145.,  474459.,  604980.,  741954.,\n",
              "        855280.,  990616., 1100366., 1249173.])"
            ]
          },
          "metadata": {},
          "execution_count": 42
        }
      ],
      "source": [
        "cumulative_sum_salaries = np.cumsum(salary_array)\n",
        "cumulative_sum_salaries"
      ]
    },
    {
      "cell_type": "markdown",
      "metadata": {
        "id": "YUxGlJg2JaTn"
      },
      "source": [
        "### Cumprod (Cumulative Product)\n",
        "\n",
        "Calculates the cumulative product of elements of the `salary_array`. It calculates the cumulative product at each index, meaning each element in the output array is the product of all preceding elements including the current one from the original array.\n",
        "\n",
        "For the `salary_array`:\n",
        "\n",
        "* First element of cumprod is 110003\n",
        "* Second element is 110003 * 133394\n",
        "* Third element is (110003 * 133394) * 148741\n",
        "* And so on..."
      ]
    },
    {
      "cell_type": "code",
      "execution_count": 43,
      "metadata": {
        "colab": {
          "base_uri": "https://localhost:8080/"
        },
        "id": "E0wD4zv2JaTn",
        "outputId": "c6e72f46-e50b-4064-f8e9-34c5ab1ba5ac"
      },
      "outputs": [
        {
          "output_type": "execute_result",
          "data": {
            "text/plain": [
              "array([1.39357000e+05, 1.46200822e+10, 1.67951119e+15, 1.93671153e+20,\n",
              "       2.52781525e+25, 3.46244967e+30, 3.92385571e+35, 5.31038936e+40,\n",
              "       5.82815233e+45, 8.67269863e+50])"
            ]
          },
          "metadata": {},
          "execution_count": 43
        }
      ],
      "source": [
        "# Cumulative product of 'job_no_degree_mention' column (conceptual example)\n",
        "cumulative_prod_salaries = np.cumprod(salary_array, dtype=np.float64)\n",
        "cumulative_prod_salaries"
      ]
    },
    {
      "cell_type": "markdown",
      "metadata": {
        "id": "g-TotDu2JaTo"
      },
      "source": [
        "**Note**: Due to the large numbers, the cumulative product values quickly escalate to the point where they exceed the numerical limit for typical data types in Python, leading to integer overflow. This is why some numbers appear as negative."
      ]
    },
    {
      "cell_type": "markdown",
      "metadata": {
        "id": "75hqgHJ7Kyqj"
      },
      "source": [
        "## Statistics Operations\n",
        "\n",
        "### Notes\n",
        "\n",
        "A lot of these you can also use Pandas because Pandas is built on top of NumPy. So here's a few examples but we won't be diving deep into them.\n",
        "\n",
        "* `mean`\n",
        "* `median`\n",
        "* `var`: variance\n",
        "* `std`: standard deviation\n",
        "* `min`\n",
        "* `max`"
      ]
    },
    {
      "cell_type": "markdown",
      "metadata": {
        "id": "JQwuNIhOJaTp"
      },
      "source": [
        "### Mean\n",
        "\n",
        "Calculate the average salary in the `salary_array`."
      ]
    },
    {
      "cell_type": "code",
      "execution_count": 44,
      "metadata": {
        "colab": {
          "base_uri": "https://localhost:8080/"
        },
        "id": "eWihhrGAJaTp",
        "outputId": "43b71143-4c1f-4b29-e72e-348195f5108d"
      },
      "outputs": [
        {
          "output_type": "execute_result",
          "data": {
            "text/plain": [
              "124917.3"
            ]
          },
          "metadata": {},
          "execution_count": 44
        }
      ],
      "source": [
        "average_salary = np.mean(salary_array)\n",
        "average_salary"
      ]
    },
    {
      "cell_type": "markdown",
      "metadata": {
        "id": "P43EQ69PJaTq"
      },
      "source": [
        "### Median\n",
        "\n",
        "Find the median salary in the `salary_array`."
      ]
    },
    {
      "cell_type": "code",
      "execution_count": 45,
      "metadata": {
        "colab": {
          "base_uri": "https://localhost:8080/"
        },
        "id": "k-LEyJuYJaTq",
        "outputId": "af62e0de-0938-464f-a38b-4be37a7a58cb"
      },
      "outputs": [
        {
          "output_type": "execute_result",
          "data": {
            "text/plain": [
              "122917.5"
            ]
          },
          "metadata": {},
          "execution_count": 45
        }
      ],
      "source": [
        "median_salary = np.median(salary_array)\n",
        "median_salary"
      ]
    },
    {
      "cell_type": "markdown",
      "metadata": {
        "id": "20ycFb_vJaTr"
      },
      "source": [
        "### Var\n",
        "\n",
        "Calculate the variance of the `salary_array`."
      ]
    },
    {
      "cell_type": "code",
      "execution_count": 46,
      "metadata": {
        "colab": {
          "base_uri": "https://localhost:8080/"
        },
        "id": "edHi4JRoJaTr",
        "outputId": "ba4a96e0-a7df-4193-8457-2b01d2ea646b"
      },
      "outputs": [
        {
          "output_type": "execute_result",
          "data": {
            "text/plain": [
              "224691748.9"
            ]
          },
          "metadata": {},
          "execution_count": 46
        }
      ],
      "source": [
        "salary_variance = np.var(salary_array, ddof=1)  # ddof=1 for sample variance\n",
        "salary_variance"
      ]
    },
    {
      "cell_type": "markdown",
      "metadata": {
        "id": "aDBh5CoaJaTs"
      },
      "source": [
        "### Std\n",
        "\n",
        "Calculate the standard deviation of the `salary_array`."
      ]
    },
    {
      "cell_type": "code",
      "execution_count": 47,
      "metadata": {
        "colab": {
          "base_uri": "https://localhost:8080/"
        },
        "id": "9Aka_XReJaTs",
        "outputId": "9325824c-db08-4186-d45a-a319ad65fae5"
      },
      "outputs": [
        {
          "output_type": "execute_result",
          "data": {
            "text/plain": [
              "14989.721441707981"
            ]
          },
          "metadata": {},
          "execution_count": 47
        }
      ],
      "source": [
        "# Standard deviation of 'salary_year_avg' column\n",
        "salary_std_dev = np.std(salary_array, ddof=1)  # ddof=1 for sample standard deviation\n",
        "salary_std_dev"
      ]
    },
    {
      "cell_type": "markdown",
      "metadata": {
        "id": "qhy6givWJaTs"
      },
      "source": [
        "### Min\n",
        "\n",
        "Find the minimum element in the `salary_array`."
      ]
    },
    {
      "cell_type": "code",
      "execution_count": 48,
      "metadata": {
        "colab": {
          "base_uri": "https://localhost:8080/"
        },
        "id": "UdjNZcrSJaTt",
        "outputId": "6e8d50a9-323d-461e-f208-2a39b92cf76e"
      },
      "outputs": [
        {
          "output_type": "execute_result",
          "data": {
            "text/plain": [
              "104911.0"
            ]
          },
          "metadata": {},
          "execution_count": 48
        }
      ],
      "source": [
        "# Minimum of 'salary_year_avg' column\n",
        "min_salary = np.min(salary_array)\n",
        "min_salary"
      ]
    },
    {
      "cell_type": "markdown",
      "metadata": {
        "id": "Y50cm-XFJaTt"
      },
      "source": [
        "### Max\n",
        "\n",
        "Find the maximum element in the `salary_array`."
      ]
    },
    {
      "cell_type": "code",
      "execution_count": 49,
      "metadata": {
        "colab": {
          "base_uri": "https://localhost:8080/"
        },
        "id": "8J4kD0dIJaTu",
        "outputId": "8c4e6610-681d-4ee5-acf7-323671634d1e"
      },
      "outputs": [
        {
          "output_type": "execute_result",
          "data": {
            "text/plain": [
              "148807.0"
            ]
          },
          "metadata": {},
          "execution_count": 49
        }
      ],
      "source": [
        "# Maximum of 'salary_year_avg' column\n",
        "max_salary = np.max(salary_array)\n",
        "max_salary"
      ]
    },
    {
      "cell_type": "markdown",
      "metadata": {
        "id": "tvAgsRdkK0zi"
      },
      "source": [
        "## NaN\n",
        "\n",
        "\n",
        "### Notes\n",
        "\n",
        "* Generate NaN values using `np.nan`\n",
        "* `np.nan` value is used in NumPy (and by extension, Pandas) to represent missing or undefined data\n",
        "* Helpful because it:\n",
        "    * Handles missing data.\n",
        "    * Helps with computations since it won't return errors but instead return `np.nan`.\n",
        "    * Help filter out or fill in missing data using other methods that we'll use often in the `pandas` library like `dropna()`, `fillna()`, `isna()`, or `notna()`.\n",
        "\n",
        "### Examples\n",
        "\n",
        "Below are a few examples of what you can do."
      ]
    },
    {
      "cell_type": "markdown",
      "metadata": {
        "id": "vu-liqP7JaTu"
      },
      "source": [
        "#### Insert Missing Values\n",
        "\n",
        "If you want to insert missing values into your array intentionally, perhaps to indicate that data is expected but not yet available. You use `np.nan`."
      ]
    },
    {
      "cell_type": "code",
      "execution_count": 50,
      "metadata": {
        "colab": {
          "base_uri": "https://localhost:8080/"
        },
        "id": "5ulHBJXKJaTv",
        "outputId": "3992f894-96d7-4f20-9134-47c435aed31b"
      },
      "outputs": [
        {
          "output_type": "execute_result",
          "data": {
            "text/plain": [
              "array([123124.,     nan, 145000., 128000., 110000., 149999.,     nan,\n",
              "       135000., 115000., 140000.])"
            ]
          },
          "metadata": {},
          "execution_count": 50
        }
      ],
      "source": [
        "salary_with_nan = np.array([123124, np.nan, 145000, 128000, 110000, 149999, np.nan, 135000, 115000, 140000], dtype=float)\n",
        "salary_with_nan"
      ]
    },
    {
      "cell_type": "markdown",
      "metadata": {
        "id": "rsveJ-vkJaTv"
      },
      "source": [
        "#### Replace Values with NaN\n",
        "\n",
        "If you want to replace existing values with `np.nan`, for example, if certain values are considered invalid or outliers:"
      ]
    },
    {
      "cell_type": "code",
      "execution_count": 51,
      "metadata": {
        "colab": {
          "base_uri": "https://localhost:8080/"
        },
        "id": "9KvYQ755JaTv",
        "outputId": "14bfd422-5ed8-464e-8527-64fe50981764"
      },
      "outputs": [
        {
          "output_type": "execute_result",
          "data": {
            "text/plain": [
              "array([    nan,     nan, 145000.,     nan,     nan, 149999.,     nan,\n",
              "       135000.,     nan, 140000.])"
            ]
          },
          "metadata": {},
          "execution_count": 51
        }
      ],
      "source": [
        "salary_with_nan[salary_with_nan < 130000] = np.nan\n",
        "salary_with_nan"
      ]
    },
    {
      "cell_type": "markdown",
      "metadata": {
        "id": "-gg1oSQyJaTw"
      },
      "source": [
        "## Where\n",
        "\n",
        "### Notes\n",
        "\n",
        "* `np.where` check elements of an array against a condition and to assign a value for True and another for false.\n",
        "* Syntax: `np.where(condition)`.\n",
        "* It's commonly used to conditionally replace array elements.\n",
        "\n",
        "### Example\n",
        "\n",
        "We're going to replace all values in `salary_array` that are less than 120,000 with 120,000 (to apply a minimum salary threshold). We'll use this syntax for it: `np.where(condition, x, y)`. With a `condition` and if it's true we do `x` and if not then do `y`."
      ]
    },
    {
      "cell_type": "code",
      "execution_count": null,
      "metadata": {
        "id": "RBRCUuwOJaTw",
        "outputId": "6ec2ced6-b91b-4102-a709-71a91e175e81"
      },
      "outputs": [
        {
          "data": {
            "text/plain": [
              "array([120000, 120000, 120000, 120000, 120441, 149248, 120000, 141818,\n",
              "       120000, 139437])"
            ]
          },
          "execution_count": 21,
          "metadata": {},
          "output_type": "execute_result"
        }
      ],
      "source": [
        "# Replace values using np.where\n",
        "salary_array = np.where(salary_array < 120000, 120000, salary_array)\n",
        "salary_array"
      ]
    },
    {
      "cell_type": "markdown",
      "metadata": {
        "id": "WIDe-nsXJaTx"
      },
      "source": [
        "## Random Sampling\n",
        "\n",
        "### Notes\n",
        "* Generate a random numbers or samples.\n",
        "* `np.random.normal` - draws random samples from a normal (Gaussian) distribution.\n",
        "    * Specify the Arguments:\n",
        "        * `loc`: This is the mean (`μ`) of the normal distribution.\n",
        "        * `scale`: This is the standard deviation (`σ`) of the normal distribution, representing the dispersion from the mean.\n",
        "        * `size`: This defines the number of random samples to draw, which is set to match the number of job postings.\n",
        "    * Syntax: `np.random.normal(loc=0.0, scale=1.0, size=None)`\n",
        "* A few other random sampling functions:\n",
        "    * `np.random.rand`\n",
        "    * `np.random.randn`\n",
        "    * `np.random.randint`\n",
        "    * `np.random.random`\n",
        "    * `np.random.uniform`\n",
        "    * `np.random.binomial`\n",
        "    * `np.random.poisson`\n",
        "\n",
        "### Example\n",
        "\n",
        "Let's add some random noise to the `salary_array` to simulate salary variations. We can generate random values from a normal distribution with a mean of 0 and a standard deviation of 5000, then add these values to the salaries.\n",
        "\n",
        "**Why?** This can be used to simulate salary data for job postings if actual salary data isn't available, for instance, in modeling or simulation scenarios."
      ]
    },
    {
      "cell_type": "code",
      "execution_count": null,
      "metadata": {
        "id": "ww6zpgVTJaTz",
        "outputId": "a3d3dc92-7922-4f77-d49c-a3996fe16d18"
      },
      "outputs": [
        {
          "data": {
            "text/plain": [
              "array([124219.08195846, 131116.06759323, 119455.49265214, 122182.62053755,\n",
              "       118818.2917239 , 151255.86681034, 130457.25819974, 143396.35776544,\n",
              "       120961.92775885, 130976.31025803])"
            ]
          },
          "execution_count": 22,
          "metadata": {},
          "output_type": "execute_result"
        }
      ],
      "source": [
        "# Generate numbers based on normal distribution\n",
        "noise = np.random.normal(0, 5000, salary_array.size)\n",
        "# Add these numbers to the salary_array\n",
        "salary_array_with_noise = salary_array + noise\n",
        "salary_array_with_noise"
      ]
    },
    {
      "cell_type": "markdown",
      "source": [
        "## Let's see an actual example of numpy in data analitics:"
      ],
      "metadata": {
        "id": "N0DR-daUwAuG"
      }
    },
    {
      "cell_type": "code",
      "source": [
        "import numpy as np"
      ],
      "metadata": {
        "id": "DgGKlH-kq89n"
      },
      "execution_count": 14,
      "outputs": []
    },
    {
      "cell_type": "code",
      "source": [
        "my_array = np.array([1, 2, 3, 4])\n",
        "my_array.mean()"
      ],
      "metadata": {
        "colab": {
          "base_uri": "https://localhost:8080/"
        },
        "id": "W_Otk7pTrlqS",
        "outputId": "9b25cfe6-7d3d-4c59-ee3e-e50540882e0d"
      },
      "execution_count": 17,
      "outputs": [
        {
          "output_type": "execute_result",
          "data": {
            "text/plain": [
              "2.5"
            ]
          },
          "metadata": {},
          "execution_count": 17
        }
      ]
    },
    {
      "cell_type": "code",
      "source": [
        "job_titles = np.array(['Data Scientist', 'Data Analyst', 'Machine Learning Engineer', 'Data Engineer', 'AI Engineer'])\n",
        "base_salaries = np.array([100000, 80000, 120000, 90000, np.nan])\n",
        "bonus_rates = np.array([0.1, 0.05, 0.15, 0.1, np.nan])"
      ],
      "metadata": {
        "id": "CYHixZn9thPR"
      },
      "execution_count": 23,
      "outputs": []
    },
    {
      "cell_type": "code",
      "source": [
        "total_salary = base_salaries * (1 + bonus_rates)\n",
        "total_salary"
      ],
      "metadata": {
        "colab": {
          "base_uri": "https://localhost:8080/"
        },
        "id": "ZIUDA_twuaNr",
        "outputId": "eec79513-7f1d-4daf-d8c1-50303c65a00e"
      },
      "execution_count": 24,
      "outputs": [
        {
          "output_type": "execute_result",
          "data": {
            "text/plain": [
              "array([110000.,  84000., 138000.,  99000.,     nan])"
            ]
          },
          "metadata": {},
          "execution_count": 24
        }
      ]
    },
    {
      "cell_type": "code",
      "source": [
        "np.nanmean(total_salary)"
      ],
      "metadata": {
        "colab": {
          "base_uri": "https://localhost:8080/"
        },
        "id": "x4m74ubPuthk",
        "outputId": "62beca67-432a-4abb-fdc8-5155d3b3555c"
      },
      "execution_count": 26,
      "outputs": [
        {
          "output_type": "execute_result",
          "data": {
            "text/plain": [
              "107750.0"
            ]
          },
          "metadata": {},
          "execution_count": 26
        }
      ]
    }
  ],
  "metadata": {
    "colab": {
      "provenance": []
    },
    "kernelspec": {
      "display_name": "Python 3",
      "name": "python3"
    },
    "language_info": {
      "codemirror_mode": {
        "name": "ipython",
        "version": 3
      },
      "file_extension": ".py",
      "mimetype": "text/x-python",
      "name": "python",
      "nbconvert_exporter": "python",
      "pygments_lexer": "ipython3",
      "version": "3.11.9"
    }
  },
  "nbformat": 4,
  "nbformat_minor": 0
}
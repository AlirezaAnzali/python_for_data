{
  "cells": [
    {
      "cell_type": "markdown",
      "metadata": {
        "id": "xpcTVkWeGGAI"
      },
      "source": [
        "# Lambda"
      ]
    },
    {
      "cell_type": "markdown",
      "metadata": {
        "id": "eCj236wXGGAJ"
      },
      "source": [
        "## Notes\n",
        "\n",
        "* `lambda` functions are small, anonymous functions.\n",
        "* They can have any number of arguments but only one expression.\n",
        "* The expression is evaluated and returned.\n",
        "* It has the syntax of: `lambda arguments: expression`.\n",
        "* Why would you use this?\n",
        "    * Concise, it lets you write functions in a single line of code.\n",
        "    * Since its anonymous it doesn't require a separate name like regular functions are defined using `def` keyword (it's good for when you need a function temporarily).\n",
        "\n",
        "\n",
        "## Importance\n",
        "\n",
        "Offers a succinct way to define anonymous functions. Useful in pandas for applying quick transformations to data."
      ]
    },
    {
      "cell_type": "code",
      "execution_count": null,
      "metadata": {
        "id": "PiTZIcnEGGAK"
      },
      "outputs": [],
      "source": [
        "# Define a lambda function to add two numbers\n",
        "add = lambda x, y: x + y"
      ]
    },
    {
      "cell_type": "code",
      "execution_count": null,
      "metadata": {
        "id": "P5pQoT5gGGAL",
        "outputId": "89fddf17-3d19-4284-8723-f805de5fa18b"
      },
      "outputs": [
        {
          "data": {
            "text/plain": [
              "8"
            ]
          },
          "execution_count": 2,
          "metadata": {},
          "output_type": "execute_result"
        }
      ],
      "source": [
        "# Use the lambda function to add two numbers\n",
        "result1 = add(3, 5)\n",
        "result1"
      ]
    },
    {
      "cell_type": "markdown",
      "metadata": {
        "id": "ou4fpJGbGGAN"
      },
      "source": [
        "## Example"
      ]
    },
    {
      "cell_type": "markdown",
      "metadata": {
        "id": "9n762XsmGGAO"
      },
      "source": [
        "Previously, built a function to calculate the total salary.\n",
        "\n",
        "Now what happens if we need to use this function on a list.\n",
        "\n",
        "Well we can use it with list comprehension!"
      ]
    },
    {
      "cell_type": "code",
      "execution_count": null,
      "metadata": {
        "id": "esdJqbecGGAO",
        "outputId": "db69b3d6-03e9-4bb7-edc0-61ac5f3a53c0"
      },
      "outputs": [
        {
          "data": {
            "text/plain": [
              "[110000.00000000001,\n",
              " 220000.00000000003,\n",
              " 165000.0,\n",
              " 132000.0,\n",
              " 88000.0,\n",
              " 825000.0000000001]"
            ]
          },
          "execution_count": 3,
          "metadata": {},
          "output_type": "execute_result"
        }
      ],
      "source": [
        "salary_list = [100000, 200000, 150000, 120000, 80000, 750000]\n",
        "\n",
        "# Calculate total_salary of base_salary * (1 + bonus_rate)\n",
        "def calculate_salary(base_salary, bonus_rate=.1):\n",
        "  return base_salary * (1 + bonus_rate)\n",
        "\n",
        "total_salary_list = [calculate_salary(salary) for salary in salary_list]\n",
        "\n",
        "total_salary_list"
      ]
    },
    {
      "cell_type": "code",
      "execution_count": null,
      "metadata": {
        "id": "vk-f8Q-bGGAP",
        "outputId": "3147f79e-9fbb-4170-ac90-120c464bd6fd"
      },
      "outputs": [
        {
          "data": {
            "text/plain": [
              "[110000.00000000001,\n",
              " 220000.00000000003,\n",
              " 165000.0,\n",
              " 132000.0,\n",
              " 88000.0,\n",
              " 825000.0000000001]"
            ]
          },
          "execution_count": 4,
          "metadata": {},
          "output_type": "execute_result"
        }
      ],
      "source": [
        "total_salary_list = [(lambda x: x * (1.1))(salary) for salary in salary_list]\n",
        "\n",
        "total_salary_list"
      ]
    },
    {
      "cell_type": "markdown",
      "metadata": {
        "id": "c483c_r9GGAQ"
      },
      "source": [
        "**NOTE: This example was for demonstration purposes for using lambda**  \n",
        "\n",
        "Technically, you could just do this:"
      ]
    },
    {
      "cell_type": "code",
      "execution_count": null,
      "metadata": {
        "id": "pwm9yZgoGGAQ",
        "outputId": "6a2b80e9-3ceb-4a19-aeb6-3d8086e01380"
      },
      "outputs": [
        {
          "data": {
            "text/plain": [
              "[110000.00000000001,\n",
              " 220000.00000000003,\n",
              " 165000.0,\n",
              " 132000.0,\n",
              " 88000.0,\n",
              " 825000.0000000001]"
            ]
          },
          "execution_count": 5,
          "metadata": {},
          "output_type": "execute_result"
        }
      ],
      "source": [
        "total_salary_list = [salary * 1.1 for salary in salary_list]\n",
        "\n",
        "total_salary_list"
      ]
    },
    {
      "cell_type": "markdown",
      "metadata": {
        "id": "IZDbfbslGGAR"
      },
      "source": [
        "## Example #2\n",
        "\n",
        "Filter job postings based on the following:\n",
        "- Job skills contains \"Python\"\n",
        "- The job is remote (i.e., `True`)"
      ]
    },
    {
      "cell_type": "code",
      "execution_count": null,
      "metadata": {
        "id": "HiCjTko7GGAR"
      },
      "outputs": [],
      "source": [
        "jobs_data = [\n",
        "    {'job_title': 'Data Scientist',  'job_skills': ['Python', 'Machine Learning'], 'remote': True},\n",
        "    {'job_title': 'Data Analyst',  'job_skills': ['Excel', 'SQL'], 'remote': False},\n",
        "    {'job_title': 'Machine Learning Engineer', 'job_skills': ['Python', 'TensorFlow', 'Keras'], 'remote': True},\n",
        "    {'job_title': 'Software Developer', 'job_skills': ['Java', 'C++'], 'remote': True},\n",
        "    {'job_title': 'Data Scientist', 'job_skills': ['R', 'Statistics'], 'remote': False}\n",
        "]"
      ]
    },
    {
      "cell_type": "markdown",
      "metadata": {
        "id": "PpIvAD88GGAS"
      },
      "source": [
        "For this we will be using the `filter()` function"
      ]
    },
    {
      "cell_type": "code",
      "execution_count": null,
      "metadata": {
        "id": "rc-NO51zGGAS",
        "outputId": "0b92a99c-0fce-4115-901a-7913aef0f81f"
      },
      "outputs": [
        {
          "name": "stdout",
          "output_type": "stream",
          "text": [
            "Help on class filter in module builtins:\n",
            "\n",
            "class filter(object)\n",
            " |  filter(function or None, iterable) --> filter object\n",
            " |  \n",
            " |  Return an iterator yielding those items of iterable for which function(item)\n",
            " |  is true. If function is None, return the items that are true.\n",
            " |  \n",
            " |  Methods defined here:\n",
            " |  \n",
            " |  __getattribute__(self, name, /)\n",
            " |      Return getattr(self, name).\n",
            " |  \n",
            " |  __iter__(self, /)\n",
            " |      Implement iter(self).\n",
            " |  \n",
            " |  __next__(self, /)\n",
            " |      Implement next(self).\n",
            " |  \n",
            " |  __reduce__(...)\n",
            " |      Return state information for pickling.\n",
            " |  \n",
            " |  ----------------------------------------------------------------------\n",
            " |  Static methods defined here:\n",
            " |  \n",
            " |  __new__(*args, **kwargs)\n",
            " |      Create and return a new object.  See help(type) for accurate signature.\n",
            "\n"
          ]
        }
      ],
      "source": [
        "help(filter)"
      ]
    },
    {
      "cell_type": "markdown",
      "metadata": {
        "id": "W5jzhs1MGGAS"
      },
      "source": [
        " For the `filter()` function it takes two arguments:\n",
        " - function (we will use a lambda function)\n",
        " - iterable (we will use the job_data for this)\n",
        "\n",
        " |  filter(function or None, iterable) --> filter object\n",
        " |  \n",
        " |  Return an iterator yielding those items of iterable for which function(item)\n",
        " |  is true. If function is None, return the items that are true."
      ]
    },
    {
      "cell_type": "code",
      "execution_count": null,
      "metadata": {
        "id": "E2nIG8gDGGAT",
        "outputId": "1a236a04-17b7-430d-f79d-f1a932fe412e"
      },
      "outputs": [
        {
          "data": {
            "text/plain": [
              "[{'job_title': 'Data Scientist',\n",
              "  'job_skills': ['Python', 'Machine Learning'],\n",
              "  'remote': True},\n",
              " {'job_title': 'Machine Learning Engineer',\n",
              "  'job_skills': ['Python', 'TensorFlow', 'Keras'],\n",
              "  'remote': True},\n",
              " {'job_title': 'Software Developer',\n",
              "  'job_skills': ['Java', 'C++'],\n",
              "  'remote': True}]"
            ]
          },
          "execution_count": 8,
          "metadata": {},
          "output_type": "execute_result"
        }
      ],
      "source": [
        "# first let's just test out and only filter jobs that are remote\n",
        "\n",
        "list(filter(lambda job: job['remote'], jobs_data))"
      ]
    },
    {
      "cell_type": "markdown",
      "metadata": {
        "id": "ELRcFDSwGGAU"
      },
      "source": [
        "Now let's make this more readable and add in the filter for 'Python'."
      ]
    },
    {
      "cell_type": "code",
      "execution_count": null,
      "metadata": {
        "id": "NXKEYw6GGGAU",
        "outputId": "5cb71f6c-c7e2-4e98-e559-86d7252e8e4c"
      },
      "outputs": [
        {
          "name": "stdout",
          "output_type": "stream",
          "text": [
            "{'job_title': 'Data Scientist', 'job_skills': ['Python', 'Machine Learning'], 'remote': True}\n",
            "{'job_title': 'Machine Learning Engineer', 'job_skills': ['Python', 'TensorFlow', 'Keras'], 'remote': True}\n"
          ]
        }
      ],
      "source": [
        "# Define a lambda function for filtering jobs that require Python and are remote\n",
        "filter_criteria = lambda job: 'Python' in job['job_skills'] and job['remote']\n",
        "\n",
        "# Apply the filter\n",
        "python_remote_jobs = list(filter(filter_criteria, jobs_data))\n",
        "\n",
        "# Display the filtered job listings\n",
        "for job in python_remote_jobs:\n",
        "    print(job)"
      ]
    }
  ],
  "metadata": {
    "kernelspec": {
      "display_name": "venv3",
      "language": "python",
      "name": "python3"
    },
    "language_info": {
      "codemirror_mode": {
        "name": "ipython",
        "version": 3
      },
      "file_extension": ".py",
      "mimetype": "text/x-python",
      "name": "python",
      "nbconvert_exporter": "python",
      "pygments_lexer": "ipython3",
      "version": "3.11.9"
    },
    "colab": {
      "provenance": []
    }
  },
  "nbformat": 4,
  "nbformat_minor": 0
}
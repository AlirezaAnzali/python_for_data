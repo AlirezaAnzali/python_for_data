{
  "cells": [
    {
      "cell_type": "markdown",
      "metadata": {
        "id": "hdwC92nA4Vw9"
      },
      "source": [
        "# Operators Part 2"
      ]
    },
    {
      "cell_type": "markdown",
      "metadata": {
        "id": "tiw-r-rOfYdG"
      },
      "source": [
        "## Notes\n",
        "\n",
        "* **Operators** are used to perform operations on variables and values.\n",
        "* In this notebook we'll go over the rest of the operator groups:\n",
        "  * Logical operators\n",
        "  * Identity operators\n",
        "  * Membership operators\n",
        "  * Bitwise operators\n",
        "\n",
        "## Importance\n",
        "\n",
        "**Logical operators** are used for combining conditional statements, **identity operators** for comparing object identities, **membership operators** for testing data presence in sequences, and **bitwise operators** for manipulating individual bits, all are vital for complex data operations in Python."
      ]
    },
    {
      "cell_type": "markdown",
      "metadata": {
        "id": "UhT-gsHr6ks1"
      },
      "source": [
        "## Types of Operators"
      ]
    },
    {
      "cell_type": "markdown",
      "metadata": {
        "id": "DwBjb2Vcf66Y"
      },
      "source": [
        "### Logical Operators\n",
        "\n",
        "Logical operators connect two or more conditions and evaluate the truth or falsity of the conditions combined.\n",
        "\n",
        "| Operator | Name     | Example |\n",
        "|----------|----------|---------|\n",
        "| and      | Logical AND | x and y |\n",
        "| or       | Logical OR  | x or y  |\n",
        "| not      | Logical NOT | not x   |\n"
      ]
    },
    {
      "cell_type": "code",
      "execution_count": null,
      "metadata": {
        "id": "CLvPZDJ76ks1",
        "outputId": "d2665c75-7598-4504-acc4-2307d430c90b"
      },
      "outputs": [
        {
          "data": {
            "text/plain": [
              "False"
            ]
          },
          "execution_count": 1,
          "metadata": {},
          "output_type": "execute_result"
        }
      ],
      "source": [
        "job_status_luke = not True\n",
        "\n",
        "job_status_luke"
      ]
    },
    {
      "cell_type": "code",
      "execution_count": null,
      "metadata": {
        "id": "0uPo0EJT6ks2",
        "outputId": "1c34e896-7d94-40ab-a146-9dbf1cb8aa3c"
      },
      "outputs": [
        {
          "data": {
            "text/plain": [
              "False"
            ]
          },
          "execution_count": 2,
          "metadata": {},
          "output_type": "execute_result"
        }
      ],
      "source": [
        "job_status_luke = False\n",
        "job_status_kelly = True\n",
        "\n",
        "# Do both Luke and Kelly have jobs?\n",
        "job_status_luke and job_status_kelly"
      ]
    },
    {
      "cell_type": "code",
      "execution_count": null,
      "metadata": {
        "id": "WgL1z2216ks2",
        "outputId": "b82a897a-0874-430a-fbc9-9ccc59985147"
      },
      "outputs": [
        {
          "ename": "SyntaxError",
          "evalue": "invalid syntax (2915467010.py, line 1)",
          "output_type": "error",
          "traceback": [
            "\u001b[0;36m  Cell \u001b[0;32mIn[3], line 1\u001b[0;36m\u001b[0m\n\u001b[0;31m    job_status_luke AND job_status_luke # must be lower case 'and'\u001b[0m\n\u001b[0m                    ^\u001b[0m\n\u001b[0;31mSyntaxError\u001b[0m\u001b[0;31m:\u001b[0m invalid syntax\n"
          ]
        }
      ],
      "source": [
        "job_status_luke AND job_status_luke # must be lower case 'and'"
      ]
    },
    {
      "cell_type": "code",
      "execution_count": null,
      "metadata": {
        "id": "KIrgQJKn6ks2",
        "outputId": "5882ee78-c686-4ffd-c125-62809c9e9b65"
      },
      "outputs": [
        {
          "data": {
            "text/plain": [
              "True"
            ]
          },
          "execution_count": 4,
          "metadata": {},
          "output_type": "execute_result"
        }
      ],
      "source": [
        "# Do either Luke or Kelly have a job?\n",
        "job_status_luke or job_status_kelly"
      ]
    },
    {
      "cell_type": "markdown",
      "metadata": {
        "id": "slKigHODvxeg"
      },
      "source": [
        "### Identity Operators\n",
        "\n",
        "Identity operators check if two variables occupy the same memory location, i.e., are identical.\n",
        "\n",
        "| Operator | Name               | Example   |\n",
        "|----------|--------------------|-----------|\n",
        "| is       | Identity           | x is y    |\n",
        "| is not   | Not identity       | x is not y|\n"
      ]
    },
    {
      "cell_type": "markdown",
      "metadata": {
        "id": "EVXfSosK6ks3"
      },
      "source": [
        "This is *NOT* checking if something is equal to something else."
      ]
    },
    {
      "cell_type": "code",
      "execution_count": null,
      "metadata": {
        "id": "zAkSX64P6ks3",
        "outputId": "1c0c7fe7-f84e-4b5c-b10d-74c4595b372d"
      },
      "outputs": [
        {
          "data": {
            "text/plain": [
              "False"
            ]
          },
          "execution_count": 6,
          "metadata": {},
          "output_type": "execute_result"
        }
      ],
      "source": [
        "salary_kelly = 100_000\n",
        "salary_luke = 100_000\n",
        "\n",
        "salary_kelly is salary_luke"
      ]
    },
    {
      "cell_type": "code",
      "execution_count": null,
      "metadata": {
        "id": "vZjSb4IB6ks3",
        "outputId": "d347b210-209d-4891-ad91-558e46a561a3"
      },
      "outputs": [
        {
          "data": {
            "text/plain": [
              "True"
            ]
          },
          "execution_count": 7,
          "metadata": {},
          "output_type": "execute_result"
        }
      ],
      "source": [
        "lukes_skills = ['Python', 'R', 'SQL']\n",
        "kellys_skills = lukes_skills\n",
        "\n",
        "lukes_skills is kellys_skills"
      ]
    },
    {
      "cell_type": "markdown",
      "metadata": {
        "id": "-rtO30vIv4Ps"
      },
      "source": [
        "### Membership Operators\n",
        "\n",
        "Membership operators test for membership in a sequence, such as strings, lists, or tuples.\n",
        "\n",
        "| Operator | Name            | Example   |\n",
        "|----------|-----------------|-----------|\n",
        "| in       | Membership      | x in y    |\n",
        "| not in   | Not membership  | x not in y|\n"
      ]
    },
    {
      "cell_type": "code",
      "execution_count": null,
      "metadata": {
        "id": "U3IlLL_C6ks3",
        "outputId": "85150690-948b-43e2-d9cd-05a88ed49031"
      },
      "outputs": [
        {
          "data": {
            "text/plain": [
              "True"
            ]
          },
          "execution_count": 37,
          "metadata": {},
          "output_type": "execute_result"
        }
      ],
      "source": [
        "'Data' in 'Data Nerd'"
      ]
    },
    {
      "cell_type": "code",
      "execution_count": null,
      "metadata": {
        "id": "mFaUTH6X6ks3",
        "outputId": "f55eb6bd-22fe-42c8-c698-cb85f9abedfb"
      },
      "outputs": [
        {
          "data": {
            "text/plain": [
              "False"
            ]
          },
          "execution_count": 38,
          "metadata": {},
          "output_type": "execute_result"
        }
      ],
      "source": [
        "'data' in 'Data Nerd'"
      ]
    },
    {
      "cell_type": "code",
      "execution_count": null,
      "metadata": {
        "id": "HGVSptDG6ks3",
        "outputId": "2577d4e0-bf2e-4589-e4ff-7ace5d5a3580"
      },
      "outputs": [
        {
          "ename": "TypeError",
          "evalue": "argument of type 'int' is not iterable",
          "output_type": "error",
          "traceback": [
            "\u001b[0;31m---------------------------------------------------------------------------\u001b[0m",
            "\u001b[0;31mTypeError\u001b[0m                                 Traceback (most recent call last)",
            "Cell \u001b[0;32mIn[41], line 3\u001b[0m\n\u001b[1;32m      1\u001b[0m \u001b[38;5;66;03m# is 100 inside of 100,000\u001b[39;00m\n\u001b[0;32m----> 3\u001b[0m \u001b[38;5;241;43m100\u001b[39;49m\u001b[43m \u001b[49m\u001b[38;5;129;43;01min\u001b[39;49;00m\u001b[43m \u001b[49m\u001b[38;5;241;43m100_000\u001b[39;49m\n",
            "\u001b[0;31mTypeError\u001b[0m: argument of type 'int' is not iterable"
          ]
        }
      ],
      "source": [
        "# is 100 inside of 100,000\n",
        "\n",
        "100 in 100_000"
      ]
    },
    {
      "cell_type": "code",
      "execution_count": null,
      "metadata": {
        "id": "hDTp4fZL6ks3",
        "outputId": "2094f4bd-977a-459e-b1fb-b1fe2f3a3f96"
      },
      "outputs": [
        {
          "data": {
            "text/plain": [
              "True"
            ]
          },
          "execution_count": 40,
          "metadata": {},
          "output_type": "execute_result"
        }
      ],
      "source": [
        "100 in [100, 200, 300]"
      ]
    },
    {
      "cell_type": "code",
      "execution_count": null,
      "metadata": {
        "id": "Gxf4Na1V6ks4",
        "outputId": "5a4c2eed-3b88-4049-8211-0276b20160e5"
      },
      "outputs": [
        {
          "data": {
            "text/plain": [
              "True"
            ]
          },
          "execution_count": 9,
          "metadata": {},
          "output_type": "execute_result"
        }
      ],
      "source": [
        "'Python' in ['Python', 'R', 'SQL']"
      ]
    },
    {
      "cell_type": "markdown",
      "metadata": {
        "id": "SdnwNkQqv4B9"
      },
      "source": [
        "### Bitwise Operators\n",
        "\n",
        "Bitwise operators perform bit-by-bit operations on binary numbers.\n",
        "\n",
        "| Operator | Name        | Example |\n",
        "|----------|-------------|---------|\n",
        "| &        | Bitwise AND | x & y   |\n",
        "| \\|       | Bitwise OR  | x \\| y  |\n",
        "| ^        | Bitwise XOR | x ^ y   |\n",
        "| ~        | Bitwise NOT | ~x      |\n",
        "| <<       | Left Shift  | x << y  |\n",
        "| >>       | Right Shift | x >> y  |\n",
        "\n",
        "P.S. Bitwise operations are beyond the scope of using Python for Data Analytics.  \n",
        "P.S.S. You could technically use `&` and `|` in place of `and` and `or` for Boolean comparison, BUT it's less readable.  \n",
        "P.S.S.S. You'll see the `&` and `|` operators pop up again when we cover Pandas.  "
      ]
    },
    {
      "cell_type": "code",
      "execution_count": null,
      "metadata": {
        "id": "PbTScQ0A6ks4",
        "outputId": "ef816ce2-ad7e-46f4-dd2c-5ce56fbce1c0"
      },
      "outputs": [
        {
          "data": {
            "text/plain": [
              "False"
            ]
          },
          "execution_count": 44,
          "metadata": {},
          "output_type": "execute_result"
        }
      ],
      "source": [
        "True & False"
      ]
    },
    {
      "cell_type": "code",
      "execution_count": null,
      "metadata": {
        "id": "lggSngt96ks4",
        "outputId": "3cab28b9-984e-4bd6-a8dd-151ba4fec51e"
      },
      "outputs": [
        {
          "data": {
            "text/plain": [
              "True"
            ]
          },
          "execution_count": 45,
          "metadata": {},
          "output_type": "execute_result"
        }
      ],
      "source": [
        "True | False"
      ]
    },
    {
      "cell_type": "markdown",
      "metadata": {
        "id": "ZxW1Oges6ks4"
      },
      "source": [
        "### NOTE:\n",
        "The technical use case is for bit-wise operation (shown below)."
      ]
    },
    {
      "cell_type": "code",
      "execution_count": null,
      "metadata": {
        "id": "ikcXdXfj6ks4",
        "outputId": "a7d2662b-4945-46a2-d06f-c439d546b7e3"
      },
      "outputs": [
        {
          "data": {
            "text/plain": [
              "0"
            ]
          },
          "execution_count": 42,
          "metadata": {},
          "output_type": "execute_result"
        }
      ],
      "source": [
        "x = 10  # binary 1010\n",
        "y = 4   # binary 0100\n",
        "result = x & y  # binary 0000 -> decimal 0\n",
        "\n",
        "result"
      ]
    },
    {
      "cell_type": "code",
      "execution_count": null,
      "metadata": {
        "id": "jih4pu5F6ks4",
        "outputId": "458fb1c5-01b1-4e42-b111-4b93c7b46092"
      },
      "outputs": [
        {
          "data": {
            "text/plain": [
              "14"
            ]
          },
          "execution_count": 43,
          "metadata": {},
          "output_type": "execute_result"
        }
      ],
      "source": [
        "x = 10  # binary 1010\n",
        "y = 4   # binary 0100\n",
        "result = x | y  # binary 1110 -> decimal 14\n",
        "\n",
        "result"
      ]
    }
  ],
  "metadata": {
    "colab": {
      "provenance": []
    },
    "kernelspec": {
      "display_name": "Python 3",
      "name": "python3"
    },
    "language_info": {
      "codemirror_mode": {
        "name": "ipython",
        "version": 3
      },
      "file_extension": ".py",
      "mimetype": "text/x-python",
      "name": "python",
      "nbconvert_exporter": "python",
      "pygments_lexer": "ipython3",
      "version": "3.9.19"
    }
  },
  "nbformat": 4,
  "nbformat_minor": 0
}
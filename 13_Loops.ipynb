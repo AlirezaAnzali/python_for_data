{
  "cells": [
    {
      "cell_type": "markdown",
      "metadata": {
        "id": "EjvncGMLlkQa"
      },
      "source": [
        "# Loops"
      ]
    },
    {
      "cell_type": "markdown",
      "metadata": {
        "id": "G3_bYt1PzrHp"
      },
      "source": [
        "## Overview\n",
        "\n",
        "* `while` loops\n",
        "* `for` loops\n",
        "\n",
        "## Importance\n",
        "\n",
        "Crucial for automating repetitive tasks, like data processing in pandas or creating multiple plots in Matplotlib."
      ]
    },
    {
      "cell_type": "markdown",
      "metadata": {
        "id": "mxR2NhoTzrHp"
      },
      "source": [
        "A `for` loops iterates over an iterable object."
      ]
    },
    {
      "cell_type": "code",
      "execution_count": 1,
      "metadata": {
        "colab": {
          "base_uri": "https://localhost:8080/"
        },
        "id": "gpzI1MrdzrHq",
        "outputId": "7303aaf8-c97d-4b79-f789-4c9e00747144"
      },
      "outputs": [
        {
          "output_type": "stream",
          "name": "stdout",
          "text": [
            "1\n",
            "2\n",
            "3\n",
            "4\n",
            "5\n"
          ]
        }
      ],
      "source": [
        "numbers = [1, 2, 3, 4, 5]\n",
        "for number in numbers:\n",
        "    print(number)"
      ]
    },
    {
      "cell_type": "markdown",
      "metadata": {
        "id": "vbqpnVfhzrHu"
      },
      "source": [
        "A `while` loop repeats an action until a condition is no longer true."
      ]
    },
    {
      "cell_type": "code",
      "execution_count": 2,
      "metadata": {
        "colab": {
          "base_uri": "https://localhost:8080/"
        },
        "id": "qmXzkTjlzrHv",
        "outputId": "afaab0c9-8566-4e16-fa16-e11ac6f5a6b6"
      },
      "outputs": [
        {
          "output_type": "stream",
          "name": "stdout",
          "text": [
            "1\n",
            "2\n",
            "3\n",
            "4\n",
            "5\n"
          ]
        }
      ],
      "source": [
        "count = 1\n",
        "while count <= 5:\n",
        "    print(count)\n",
        "    count += 1"
      ]
    },
    {
      "cell_type": "markdown",
      "metadata": {
        "id": "XqDYw6KHxiEb"
      },
      "source": [
        "## While\n",
        "\n",
        "### Notes\n",
        "\n",
        "* A `while` loop executes a set of statements as long as the condition is true.\n",
        "* Remember to increment `i`, or else the loop will continue forever.\n",
        "\n",
        "### Examples\n",
        "\n",
        "Prints out all the years of experience required for the 3 data science jobs.\n",
        "\n",
        "* Initializes variables to track the total number of job positions (`total_positions`), and the current position being checked (`position_index`).\n",
        "* Uses a `while` loop to iterate through each job position's minimum experience requirement (`position_experience_requirements`) as long as `position_index` is less than `total_positions`.\n",
        "* Within the loop it prints out the specific number of years of experience `position_experience_requirement` that position requires.\n",
        "* Increments (increases) `position_index` by 1 in each loop iteration to move to the next job position. This makes sure the loop terminates after checking all positions."
      ]
    },
    {
      "cell_type": "code",
      "execution_count": 11,
      "metadata": {
        "id": "huddEZAEzrHx"
      },
      "outputs": [],
      "source": [
        "# Total number of job positions to check\n",
        "total_positions = 3\n",
        "position_index = 0\n",
        "\n",
        "# Minimum years of experience required for each data science job position\n",
        "position_experience_requirements = [1, 3, 2]"
      ]
    },
    {
      "cell_type": "code",
      "execution_count": 12,
      "metadata": {
        "colab": {
          "base_uri": "https://localhost:8080/"
        },
        "id": "zvRV3FAAzrHy",
        "outputId": "d6b5ecf3-d25a-43c6-ac65-88b96f899a0d"
      },
      "outputs": [
        {
          "output_type": "stream",
          "name": "stdout",
          "text": [
            "Position requires 1 years of experience.\n",
            "Position requires 3 years of experience.\n",
            "Position requires 2 years of experience.\n"
          ]
        }
      ],
      "source": [
        "while position_index < total_positions:\n",
        "    print('Position requires', position_experience_requirements[position_index], 'years of experience.')\n",
        "    position_index += 1"
      ]
    },
    {
      "cell_type": "markdown",
      "metadata": {
        "id": "pUadHjgwzrHz"
      },
      "source": [
        "### Practical Example\n",
        "\n",
        "Here's a more complicated example of how you can use `while` loops.\n",
        "\n",
        "We'll add in the `user_years_of_experience`.\n",
        "\n",
        "* Initializes variables to track the user's experience (`user_years_of_experience`), the total number of job positions (`total_positions`), and the current position being checked (`position_index`).\n",
        "* Uses a `while` loop to iterate through each job position's minimum experience requirement (`position_experience_requirements`) as long as `position_index` is less than `total_positions`.\n",
        "* Within the loop, compares `user_years_of_experience` to the requirement for the current position (`required_years`): prints 'Qualified' if the user meets or exceeds the requirement, otherwise prints 'Not qualified'.\n",
        "* Increments (increases) `position_index` by 1 in each loop iteration to move to the next job position. This makes sure the loop terminates after checking all positions."
      ]
    },
    {
      "cell_type": "code",
      "execution_count": 13,
      "metadata": {
        "colab": {
          "base_uri": "https://localhost:8080/"
        },
        "id": "44ykNZT9zrHz",
        "outputId": "e6476312-9d8c-4ba8-adb3-fabc7ec325c4"
      },
      "outputs": [
        {
          "output_type": "execute_result",
          "data": {
            "text/plain": [
              "2"
            ]
          },
          "metadata": {},
          "execution_count": 13
        }
      ],
      "source": [
        "# User's years of experience\n",
        "user_years_of_experience = 2\n",
        "\n",
        "user_years_of_experience"
      ]
    },
    {
      "cell_type": "markdown",
      "metadata": {
        "id": "jl_quRV_zrH0"
      },
      "source": [
        "🪲 **Debugging**\n",
        "\n",
        "**These are intentional mistakes**\n",
        "\n",
        "This is used to demonstrate debugging.\n",
        "\n",
        "Error 1:\n",
        "- Forgot a `:` after the if statement.\n",
        "\n",
        "```python\n",
        "if user_years_of_experience >= required_years\n",
        "```\n",
        "\n",
        "Error 2:\n",
        "- Forgot to indent the statement after `else` keyword.\n",
        "\n",
        "```python\n",
        "'cloud': 'aws'\n",
        "```\n",
        "\n",
        "Steps to Debug:\n",
        "\n",
        "1. Look at the actual error, can you tell what the problem is?\n",
        "2. If not, then look it up:\n",
        "  1. Use a chatbot like ChatGPT or Claude\n",
        "  2. Look it up using Google"
      ]
    },
    {
      "cell_type": "code",
      "execution_count": 6,
      "metadata": {
        "colab": {
          "base_uri": "https://localhost:8080/",
          "height": 106
        },
        "id": "e-upO3isKFl2",
        "outputId": "02c5b732-4b33-46c4-8a18-a6fb4eb5130b"
      },
      "outputs": [
        {
          "output_type": "error",
          "ename": "SyntaxError",
          "evalue": "expected ':' (<ipython-input-6-1ff9f4386c30>, line 3)",
          "traceback": [
            "\u001b[0;36m  File \u001b[0;32m\"<ipython-input-6-1ff9f4386c30>\"\u001b[0;36m, line \u001b[0;32m3\u001b[0m\n\u001b[0;31m    if user_years_of_experience >= required_years\u001b[0m\n\u001b[0m                                                 ^\u001b[0m\n\u001b[0;31mSyntaxError\u001b[0m\u001b[0;31m:\u001b[0m expected ':'\n"
          ]
        }
      ],
      "source": [
        "while position_index < total_positions:\n",
        "    required_years = position_experience_requirements[position_index]\n",
        "    if user_years_of_experience >= required_years\n",
        "        print('Qualified')\n",
        "    else:\n",
        "    print('Not qualified')\n",
        "    position_index += 1"
      ]
    },
    {
      "cell_type": "markdown",
      "metadata": {
        "id": "mdOe3KAizrH2"
      },
      "source": [
        "This is the correct code ✅. I noticed if you try to rerun this right after this error you will need to re-run the variable cells again."
      ]
    },
    {
      "cell_type": "code",
      "execution_count": 14,
      "metadata": {
        "id": "wRn-foLEzrH2"
      },
      "outputs": [],
      "source": [
        "while position_index < total_positions:\n",
        "    required_years = position_experience_requirements[position_index]\n",
        "    if user_years_of_experience >= required_years:\n",
        "        print('Qualified')\n",
        "    else:\n",
        "        print('Not qualified')\n",
        "    position_index += 1"
      ]
    },
    {
      "cell_type": "markdown",
      "metadata": {
        "id": "qYr6sfH9xsgE"
      },
      "source": [
        "## For\n",
        "\n",
        "### Notes\n",
        "\n",
        "* A `for` loop iterates over a sequence (e.g. list, tuple, dictionary, set, or string).\n",
        "* Execute a set of statements, one for each item in a list, tuple, set, etc.\n",
        "\n",
        "### Example\n",
        "\n",
        "This loop checks the user's qualification for each position based on their years of experience and returns the result.\n",
        "\n",
        "We're using the same variable as before: `position_experience_requirements`.\n",
        "\n",
        "* A `for` loop iterates (goes through) through each item in the position_experience_requirements list.\n",
        "* Inside the loop it prints the years of experience required for the position."
      ]
    },
    {
      "cell_type": "code",
      "execution_count": null,
      "metadata": {
        "id": "WBZCbLxSzrH3",
        "outputId": "556e7f7a-c743-4158-aba9-d9a979cff09a"
      },
      "outputs": [
        {
          "name": "stdout",
          "output_type": "stream",
          "text": [
            "Position requires 1 years of experience.\n",
            "Position requires 3 years of experience.\n",
            "Position requires 2 years of experience.\n"
          ]
        }
      ],
      "source": [
        "for x in position_experience_requirements:\n",
        "    print(f'Position requires {x} years of experience.')"
      ]
    },
    {
      "cell_type": "markdown",
      "metadata": {
        "id": "ECUbDDrczrH4"
      },
      "source": [
        "### Enumerate\n",
        "\n",
        "#### Notes\n",
        "\n",
        "* Primary used in loops, especially in `for` loops.\n",
        "* Good for when you need the index of an iterable object for operations like:\n",
        "    * updating the elements based on their position\n",
        "    * comparing items at different positions\n",
        "    * displaying the position along with the item\n",
        "* Syntax: `enumerate(iterable, start = 0)`\n",
        "\n",
        "#### Example\n",
        "\n",
        "Instead of simply iterating over the list with `x in list` to get the years of experience required for each position, we can use `enumerate` to get both the index (which represents the position number) and the years of experience from `position_experience_requirements`.\n",
        "\n",
        "We'll also use f-strings to format our string."
      ]
    },
    {
      "cell_type": "code",
      "execution_count": null,
      "metadata": {
        "id": "u17WoC-hzrH4",
        "outputId": "80cb3b1f-4ed9-4bf4-c0a9-8546beeda621"
      },
      "outputs": [
        {
          "name": "stdout",
          "output_type": "stream",
          "text": [
            "Position 1 requires 1 years of experience.\n",
            "Position 2 requires 3 years of experience.\n",
            "Position 3 requires 2 years of experience.\n"
          ]
        }
      ],
      "source": [
        "# Enhanced example using enumerate to include the position index\n",
        "for index, years in enumerate(position_experience_requirements, start=1):\n",
        "    print(f'Position {index} requires {years} years of experience.')"
      ]
    },
    {
      "cell_type": "markdown",
      "metadata": {
        "id": "O1l4qy0MzrH5"
      },
      "source": [
        "### Pass\n",
        "\n",
        "#### Notes\n",
        "\n",
        "* `pass` is used when a `for` has nothing in it, so it avoids and error\n",
        "\n",
        "#### Example\n",
        "\n",
        "Below we updated our example and added `pass` in it."
      ]
    },
    {
      "cell_type": "code",
      "execution_count": null,
      "metadata": {
        "id": "lI6_zse7zrH5"
      },
      "outputs": [],
      "source": [
        "for x in position_experience_requirements:\n",
        "    pass"
      ]
    },
    {
      "cell_type": "markdown",
      "metadata": {
        "id": "D0t7PKrvzrH6"
      },
      "source": [
        "### Nested Loops\n",
        "\n",
        "You can also have a loop inside another loop. Below we're going through two lists."
      ]
    },
    {
      "cell_type": "code",
      "execution_count": null,
      "metadata": {
        "id": "r1ORomRizrH6",
        "outputId": "5c34efda-d3b4-421e-8692-8a9f6cad8fdb"
      },
      "outputs": [
        {
          "name": "stdout",
          "output_type": "stream",
          "text": [
            "For the role of Data Scientist, you need experience in:\n",
            "  - Python\n",
            "  - SQL\n",
            "  - Machine Learning\n",
            "For the role of Machine Learning Engineer, you need experience in:\n",
            "  - Python\n",
            "  - SQL\n",
            "  - Machine Learning\n"
          ]
        }
      ],
      "source": [
        "roles = ['Data Scientist', 'Machine Learning Engineer']\n",
        "skills = ['Python', 'SQL', 'Machine Learning']\n",
        "\n",
        "for role in roles:\n",
        "    print(f'For the role of {role}, you need experience in:')\n",
        "    for skill in skills:\n",
        "        print(f'  - {skill}')"
      ]
    },
    {
      "cell_type": "markdown",
      "metadata": {
        "id": "pKee9GqhzrH7"
      },
      "source": [
        "### Practical Example\n",
        "\n",
        "Here's a more complicated example of how you can use `for` loops.\n",
        "\n",
        "This loop checks the user's qualification for each position based on their years of experience and returns the result.\n",
        "\n",
        "* The code defines a list named position_experience_requirements with integers representing the minimum years of experience required for various data science job positions.\n",
        "* It sets a variable `user_years_of_experience` to 2.\n",
        "* A for loop iterates (goes through) through each item in the position_experience_requirements list.\n",
        "* Inside the loop, an if statement checks if user_experience is greater than or equal to required_experience for a position.\n",
        "* If the condition is met, it prints 'Qualified'; otherwise, it prints 'Not qualified'."
      ]
    },
    {
      "cell_type": "code",
      "execution_count": 15,
      "metadata": {
        "colab": {
          "base_uri": "https://localhost:8080/"
        },
        "id": "323cMKuYxhMN",
        "outputId": "d1efecfa-6b01-4733-88f3-706e867b998e"
      },
      "outputs": [
        {
          "output_type": "stream",
          "name": "stdout",
          "text": [
            "Qualified\n",
            "Not qualified\n",
            "Qualified\n"
          ]
        }
      ],
      "source": [
        "# For loop to check qualification for each job\n",
        "for required_experience in position_experience_requirements:\n",
        "    if user_years_of_experience >= required_experience:\n",
        "        print('Qualified')\n",
        "    else:\n",
        "        print('Not qualified')"
      ]
    },
    {
      "cell_type": "markdown",
      "metadata": {
        "id": "jDNt3koLzrH8"
      },
      "source": [
        "### Break\n",
        "\n",
        "The `break` statement can stop the loop before it's looped through all of the items. Here the break exits the loop early if the condition is met (aka if the users experience is greater than or equal to the required experience)."
      ]
    },
    {
      "cell_type": "code",
      "execution_count": 16,
      "metadata": {
        "id": "yAWUYbwdzrH8"
      },
      "outputs": [],
      "source": [
        "# For loop to check qualification for each job\n",
        "for required_experience in position_experience_requirements:\n",
        "    if user_years_of_experience >= required_experience:\n",
        "        break\n",
        "    else:\n",
        "        print('Not qualified')"
      ]
    },
    {
      "cell_type": "markdown",
      "metadata": {
        "id": "8hJ1pcaszrH8"
      },
      "source": [
        "What if you didn't have a specific list to run through? And instead want to just go through a specific number of times? Then you'd use `range()`."
      ]
    },
    {
      "cell_type": "markdown",
      "metadata": {
        "id": "J0pIAz5_zrH9"
      },
      "source": [
        "### Example #2\n",
        "\n",
        "Problem: Make a list of job titles containing \"Data Analyst\"."
      ]
    },
    {
      "cell_type": "markdown",
      "metadata": {
        "id": "LLPLQQAKzrH9"
      },
      "source": [
        "The following Code block is only to import the data.\n",
        "\n",
        "This includes concepts we haven't covered yet; so just ignore it for now."
      ]
    },
    {
      "cell_type": "code",
      "execution_count": 19,
      "metadata": {
        "colab": {
          "base_uri": "https://localhost:8080/",
          "height": 1000,
          "referenced_widgets": [
            "704a163b0ca04e3ea7258a263db9bf18",
            "cab719d4e2d94eb6a66501589f2fe3a7",
            "8670a54b4c80493ba099ca0ad70654b8",
            "d356095175554372a456555b6b568e72",
            "97dc96f3fb274e7da4ebef238640292f",
            "5db8de4096ae45b8a5b1973ea16c1010",
            "43df9d143010478ebc4ec8c8c2b4a739",
            "096f527df6a347d7a8fa833323cf25ae",
            "3acbff877b3c4ab2bc76991e1eaf9415",
            "9699dbb2188e4d7da7f6448a00d7ecff",
            "aa9346884f3247208b065a36337cc97e",
            "1f383941cc8a4a9dbae6c54f335adaea",
            "1948b4417a2547bba7f5d0e2460e9d84",
            "65b9d8a77dec48dbb0b4c32b19960e31",
            "1b1d314b57bb4034a3ade27dfbc79e49",
            "0ce90274b45e4556a35b58c57e5e4d0e",
            "30a07c47d148401bb6a8a71e9e0a7004",
            "52c4af59e0f84fd29d496327e9666e6b",
            "ab6c47a055a94dab85bb90169925e8ad",
            "11e0fc8e8bbc4e229750b896a13489a4",
            "1d7278a9357b49e9aa1729edff6410c9",
            "0bb3ae8691b34e078d8710ce2a29f11e",
            "25b70cae732649678a555c37040d9dc2",
            "92588ef29fe244569b91ee6a62438a8a",
            "e10f4a06b1904f8d908a8640ada8335f",
            "a6059bbe491d46139dd9938a995c92fc",
            "a9208642d9714dfbb574e47286d5d6e4",
            "de66dc5cd681486aaf29ffc4104133b5",
            "2997d5ce7a9644ffb1caaf3813784cb6",
            "a376f4b89a9746cda5a394d7aef04e41",
            "1cf0b223dadf417681892032bc4722e1",
            "6d338486232440d19aa6c681f272a0dd",
            "037193398e6b415ab6a14fe54225cf81"
          ]
        },
        "id": "kRoIclJxzrH9",
        "outputId": "24414953-05f4-43c8-e68a-a5982416b79f"
      },
      "outputs": [
        {
          "output_type": "stream",
          "name": "stdout",
          "text": [
            "Collecting datasets\n",
            "  Downloading datasets-2.21.0-py3-none-any.whl.metadata (21 kB)\n",
            "Requirement already satisfied: filelock in /usr/local/lib/python3.10/dist-packages (from datasets) (3.15.4)\n",
            "Requirement already satisfied: numpy>=1.17 in /usr/local/lib/python3.10/dist-packages (from datasets) (1.26.4)\n",
            "Collecting pyarrow>=15.0.0 (from datasets)\n",
            "  Downloading pyarrow-17.0.0-cp310-cp310-manylinux_2_28_x86_64.whl.metadata (3.3 kB)\n",
            "Collecting dill<0.3.9,>=0.3.0 (from datasets)\n",
            "  Downloading dill-0.3.8-py3-none-any.whl.metadata (10 kB)\n",
            "Requirement already satisfied: pandas in /usr/local/lib/python3.10/dist-packages (from datasets) (2.1.4)\n",
            "Requirement already satisfied: requests>=2.32.2 in /usr/local/lib/python3.10/dist-packages (from datasets) (2.32.3)\n",
            "Requirement already satisfied: tqdm>=4.66.3 in /usr/local/lib/python3.10/dist-packages (from datasets) (4.66.5)\n",
            "Collecting xxhash (from datasets)\n",
            "  Downloading xxhash-3.5.0-cp310-cp310-manylinux_2_17_x86_64.manylinux2014_x86_64.whl.metadata (12 kB)\n",
            "Collecting multiprocess (from datasets)\n",
            "  Downloading multiprocess-0.70.16-py310-none-any.whl.metadata (7.2 kB)\n",
            "Requirement already satisfied: fsspec<=2024.6.1,>=2023.1.0 in /usr/local/lib/python3.10/dist-packages (from fsspec[http]<=2024.6.1,>=2023.1.0->datasets) (2024.6.1)\n",
            "Requirement already satisfied: aiohttp in /usr/local/lib/python3.10/dist-packages (from datasets) (3.10.5)\n",
            "Requirement already satisfied: huggingface-hub>=0.21.2 in /usr/local/lib/python3.10/dist-packages (from datasets) (0.24.6)\n",
            "Requirement already satisfied: packaging in /usr/local/lib/python3.10/dist-packages (from datasets) (24.1)\n",
            "Requirement already satisfied: pyyaml>=5.1 in /usr/local/lib/python3.10/dist-packages (from datasets) (6.0.2)\n",
            "Requirement already satisfied: aiohappyeyeballs>=2.3.0 in /usr/local/lib/python3.10/dist-packages (from aiohttp->datasets) (2.4.0)\n",
            "Requirement already satisfied: aiosignal>=1.1.2 in /usr/local/lib/python3.10/dist-packages (from aiohttp->datasets) (1.3.1)\n",
            "Requirement already satisfied: attrs>=17.3.0 in /usr/local/lib/python3.10/dist-packages (from aiohttp->datasets) (24.2.0)\n",
            "Requirement already satisfied: frozenlist>=1.1.1 in /usr/local/lib/python3.10/dist-packages (from aiohttp->datasets) (1.4.1)\n",
            "Requirement already satisfied: multidict<7.0,>=4.5 in /usr/local/lib/python3.10/dist-packages (from aiohttp->datasets) (6.0.5)\n",
            "Requirement already satisfied: yarl<2.0,>=1.0 in /usr/local/lib/python3.10/dist-packages (from aiohttp->datasets) (1.9.4)\n",
            "Requirement already satisfied: async-timeout<5.0,>=4.0 in /usr/local/lib/python3.10/dist-packages (from aiohttp->datasets) (4.0.3)\n",
            "Requirement already satisfied: typing-extensions>=3.7.4.3 in /usr/local/lib/python3.10/dist-packages (from huggingface-hub>=0.21.2->datasets) (4.12.2)\n",
            "Requirement already satisfied: charset-normalizer<4,>=2 in /usr/local/lib/python3.10/dist-packages (from requests>=2.32.2->datasets) (3.3.2)\n",
            "Requirement already satisfied: idna<4,>=2.5 in /usr/local/lib/python3.10/dist-packages (from requests>=2.32.2->datasets) (3.8)\n",
            "Requirement already satisfied: urllib3<3,>=1.21.1 in /usr/local/lib/python3.10/dist-packages (from requests>=2.32.2->datasets) (2.0.7)\n",
            "Requirement already satisfied: certifi>=2017.4.17 in /usr/local/lib/python3.10/dist-packages (from requests>=2.32.2->datasets) (2024.8.30)\n",
            "Requirement already satisfied: python-dateutil>=2.8.2 in /usr/local/lib/python3.10/dist-packages (from pandas->datasets) (2.8.2)\n",
            "Requirement already satisfied: pytz>=2020.1 in /usr/local/lib/python3.10/dist-packages (from pandas->datasets) (2024.1)\n",
            "Requirement already satisfied: tzdata>=2022.1 in /usr/local/lib/python3.10/dist-packages (from pandas->datasets) (2024.1)\n",
            "Requirement already satisfied: six>=1.5 in /usr/local/lib/python3.10/dist-packages (from python-dateutil>=2.8.2->pandas->datasets) (1.16.0)\n",
            "Downloading datasets-2.21.0-py3-none-any.whl (527 kB)\n",
            "\u001b[2K   \u001b[90m━━━━━━━━━━━━━━━━━━━━━━━━━━━━━━━━━━━━━━━━\u001b[0m \u001b[32m527.3/527.3 kB\u001b[0m \u001b[31m8.5 MB/s\u001b[0m eta \u001b[36m0:00:00\u001b[0m\n",
            "\u001b[?25hDownloading dill-0.3.8-py3-none-any.whl (116 kB)\n",
            "\u001b[2K   \u001b[90m━━━━━━━━━━━━━━━━━━━━━━━━━━━━━━━━━━━━━━━━\u001b[0m \u001b[32m116.3/116.3 kB\u001b[0m \u001b[31m5.9 MB/s\u001b[0m eta \u001b[36m0:00:00\u001b[0m\n",
            "\u001b[?25hDownloading pyarrow-17.0.0-cp310-cp310-manylinux_2_28_x86_64.whl (39.9 MB)\n",
            "\u001b[2K   \u001b[90m━━━━━━━━━━━━━━━━━━━━━━━━━━━━━━━━━━━━━━━━\u001b[0m \u001b[32m39.9/39.9 MB\u001b[0m \u001b[31m17.3 MB/s\u001b[0m eta \u001b[36m0:00:00\u001b[0m\n",
            "\u001b[?25hDownloading multiprocess-0.70.16-py310-none-any.whl (134 kB)\n",
            "\u001b[2K   \u001b[90m━━━━━━━━━━━━━━━━━━━━━━━━━━━━━━━━━━━━━━━━\u001b[0m \u001b[32m134.8/134.8 kB\u001b[0m \u001b[31m8.4 MB/s\u001b[0m eta \u001b[36m0:00:00\u001b[0m\n",
            "\u001b[?25hDownloading xxhash-3.5.0-cp310-cp310-manylinux_2_17_x86_64.manylinux2014_x86_64.whl (194 kB)\n",
            "\u001b[2K   \u001b[90m━━━━━━━━━━━━━━━━━━━━━━━━━━━━━━━━━━━━━━━━\u001b[0m \u001b[32m194.1/194.1 kB\u001b[0m \u001b[31m12.1 MB/s\u001b[0m eta \u001b[36m0:00:00\u001b[0m\n",
            "\u001b[?25hInstalling collected packages: xxhash, pyarrow, dill, multiprocess, datasets\n",
            "  Attempting uninstall: pyarrow\n",
            "    Found existing installation: pyarrow 14.0.2\n",
            "    Uninstalling pyarrow-14.0.2:\n",
            "      Successfully uninstalled pyarrow-14.0.2\n",
            "\u001b[31mERROR: pip's dependency resolver does not currently take into account all the packages that are installed. This behaviour is the source of the following dependency conflicts.\n",
            "cudf-cu12 24.4.1 requires pyarrow<15.0.0a0,>=14.0.1, but you have pyarrow 17.0.0 which is incompatible.\n",
            "ibis-framework 8.0.0 requires pyarrow<16,>=2, but you have pyarrow 17.0.0 which is incompatible.\u001b[0m\u001b[31m\n",
            "\u001b[0mSuccessfully installed datasets-2.21.0 dill-0.3.8 multiprocess-0.70.16 pyarrow-17.0.0 xxhash-3.5.0\n"
          ]
        },
        {
          "output_type": "stream",
          "name": "stderr",
          "text": [
            "/usr/local/lib/python3.10/dist-packages/huggingface_hub/utils/_token.py:89: UserWarning: \n",
            "The secret `HF_TOKEN` does not exist in your Colab secrets.\n",
            "To authenticate with the Hugging Face Hub, create a token in your settings tab (https://huggingface.co/settings/tokens), set it as secret in your Google Colab and restart your session.\n",
            "You will be able to reuse this secret in all of your notebooks.\n",
            "Please note that authentication is recommended but still optional to access public models or datasets.\n",
            "  warnings.warn(\n"
          ]
        },
        {
          "output_type": "display_data",
          "data": {
            "text/plain": [
              "Downloading readme:   0%|          | 0.00/28.0 [00:00<?, ?B/s]"
            ],
            "application/vnd.jupyter.widget-view+json": {
              "version_major": 2,
              "version_minor": 0,
              "model_id": "704a163b0ca04e3ea7258a263db9bf18"
            }
          },
          "metadata": {}
        },
        {
          "output_type": "display_data",
          "data": {
            "text/plain": [
              "Downloading data:   0%|          | 0.00/231M [00:00<?, ?B/s]"
            ],
            "application/vnd.jupyter.widget-view+json": {
              "version_major": 2,
              "version_minor": 0,
              "model_id": "1f383941cc8a4a9dbae6c54f335adaea"
            }
          },
          "metadata": {}
        },
        {
          "output_type": "display_data",
          "data": {
            "text/plain": [
              "Generating train split:   0%|          | 0/785741 [00:00<?, ? examples/s]"
            ],
            "application/vnd.jupyter.widget-view+json": {
              "version_major": 2,
              "version_minor": 0,
              "model_id": "25b70cae732649678a555c37040d9dc2"
            }
          },
          "metadata": {}
        },
        {
          "output_type": "execute_result",
          "data": {
            "text/plain": [
              "['Senior Clinical Data Engineer / Principal Clinical Data Engineer ...',\n",
              " 'Data Analyst',\n",
              " 'Data Engineer/Scientist/Analyst, Mid or Senior (m/f/x)',\n",
              " 'LEAD ENGINEER - PRINCIPAL ANALYST - PRINCIPAL ENGINEER -  DATA...',\n",
              " 'Data Engineer- Sr Jobs',\n",
              " 'GCP Data Engineer',\n",
              " 'Senior Data Engineer  - GCP Cloud',\n",
              " 'Data Engineer',\n",
              " 'Technology & Operations Business Analyst',\n",
              " 'Data Scientist II']"
            ]
          },
          "metadata": {},
          "execution_count": 19
        }
      ],
      "source": [
        "!pip install datasets # install the missing module\n",
        "from datasets import load_dataset # import after installing\n",
        "\n",
        "# Load the dataset\n",
        "dataset = load_dataset('lukebarousse/data_jobs')\n",
        "df = dataset['train'].to_pandas()\n",
        "\n",
        "# Create a list of job titles from the dataset\n",
        "job_list = df['job_title'].tolist()\n",
        "\n",
        "# Remove any non-string values from the list\n",
        "job_list = [job for job in job_list if isinstance(job, str)]\n",
        "\n",
        "# Display the first 10 job titles\n",
        "job_list[:10]"
      ]
    },
    {
      "cell_type": "code",
      "execution_count": 20,
      "metadata": {
        "colab": {
          "base_uri": "https://localhost:8080/"
        },
        "id": "PtbdNj70zrH-",
        "outputId": "5667a073-2cb6-4a5e-ef36-192ffb7840e4"
      },
      "outputs": [
        {
          "output_type": "execute_result",
          "data": {
            "text/plain": [
              "['Data Analyst',\n",
              " 'Stagiaire Data Analyst (H/F) - Lyon (69006)',\n",
              " 'Data Analyst',\n",
              " 'Senior Officer, Data Analyst, GTO',\n",
              " 'Stage - Data Analyst F/H',\n",
              " 'Data Analyst als Marketing Manager Automation (W/D/M)',\n",
              " 'Data Analyst',\n",
              " 'Senior Data Analyst',\n",
              " 'Data Analyst (Bangkok Based, relocation provided)',\n",
              " 'Senior Data Analyst']"
            ]
          },
          "metadata": {},
          "execution_count": 20
        }
      ],
      "source": [
        "# Create an empty list to store the job titles that contain \"Data Analyst\"\n",
        "analyst_list = []\n",
        "\n",
        "# Loop through the job titles and add any that contain \"Data Analyst\" to the analyst_list\n",
        "for job in job_list:\n",
        "  if \"Data Analyst\" in job:\n",
        "    analyst_list.append(job)\n",
        "\n",
        "# Display the job titles that contain \"Data Analyst\"\n",
        "analyst_list[:10]"
      ]
    },
    {
      "cell_type": "markdown",
      "metadata": {
        "id": "vf9SAH4gzrH_"
      },
      "source": [
        "## `range()` function\n",
        "\n",
        "#### Notes\n",
        "\n",
        "* `range()` runs a `for` loop a specific number of times\n",
        "* It returns a sequence of numbers, starting from 0 be default, and increments by 1 (by default), and ends at the specified number\n",
        "\n",
        "#### Examples\n",
        "\n",
        "First we'll print numbers from 0 to 3 since `range(4)` goes from 0 to 4 (not including 4)."
      ]
    },
    {
      "cell_type": "code",
      "execution_count": null,
      "metadata": {
        "id": "NGyAgbrHzrH_",
        "outputId": "9d6c33c3-1e2c-47ea-8464-979072526641"
      },
      "outputs": [
        {
          "name": "stdout",
          "output_type": "stream",
          "text": [
            "0\n",
            "1\n",
            "2\n",
            "3\n"
          ]
        }
      ],
      "source": [
        "for x in range(4):\n",
        "    print(x)"
      ]
    },
    {
      "cell_type": "markdown",
      "metadata": {
        "id": "QQglDz5RzrIA"
      },
      "source": [
        "Here you can specify the starting value. This will start at 1 and go till 5 (since it doesn't include 6)."
      ]
    },
    {
      "cell_type": "code",
      "execution_count": null,
      "metadata": {
        "id": "XIcUXcmszrIA",
        "outputId": "427e2c5c-5c7f-4ff2-95ea-eaa672f2da22"
      },
      "outputs": [
        {
          "name": "stdout",
          "output_type": "stream",
          "text": [
            "1\n",
            "2\n",
            "3\n",
            "4\n",
            "5\n"
          ]
        }
      ],
      "source": [
        "for x in range(1,6):\n",
        "    print(x)"
      ]
    },
    {
      "cell_type": "code",
      "source": [],
      "metadata": {
        "id": "p0VQ9K6hzwEs"
      },
      "execution_count": null,
      "outputs": []
    }
  ],
  "metadata": {
    "colab": {
      "provenance": []
    },
    "kernelspec": {
      "display_name": "Python 3",
      "name": "python3"
    },
    "language_info": {
      "codemirror_mode": {
        "name": "ipython",
        "version": 3
      },
      "file_extension": ".py",
      "mimetype": "text/x-python",
      "name": "python",
      "nbconvert_exporter": "python",
      "pygments_lexer": "ipython3",
      "version": "3.9.19"
    },
    "widgets": {
      "application/vnd.jupyter.widget-state+json": {
        "704a163b0ca04e3ea7258a263db9bf18": {
          "model_module": "@jupyter-widgets/controls",
          "model_name": "HBoxModel",
          "model_module_version": "1.5.0",
          "state": {
            "_dom_classes": [],
            "_model_module": "@jupyter-widgets/controls",
            "_model_module_version": "1.5.0",
            "_model_name": "HBoxModel",
            "_view_count": null,
            "_view_module": "@jupyter-widgets/controls",
            "_view_module_version": "1.5.0",
            "_view_name": "HBoxView",
            "box_style": "",
            "children": [
              "IPY_MODEL_cab719d4e2d94eb6a66501589f2fe3a7",
              "IPY_MODEL_8670a54b4c80493ba099ca0ad70654b8",
              "IPY_MODEL_d356095175554372a456555b6b568e72"
            ],
            "layout": "IPY_MODEL_97dc96f3fb274e7da4ebef238640292f"
          }
        },
        "cab719d4e2d94eb6a66501589f2fe3a7": {
          "model_module": "@jupyter-widgets/controls",
          "model_name": "HTMLModel",
          "model_module_version": "1.5.0",
          "state": {
            "_dom_classes": [],
            "_model_module": "@jupyter-widgets/controls",
            "_model_module_version": "1.5.0",
            "_model_name": "HTMLModel",
            "_view_count": null,
            "_view_module": "@jupyter-widgets/controls",
            "_view_module_version": "1.5.0",
            "_view_name": "HTMLView",
            "description": "",
            "description_tooltip": null,
            "layout": "IPY_MODEL_5db8de4096ae45b8a5b1973ea16c1010",
            "placeholder": "​",
            "style": "IPY_MODEL_43df9d143010478ebc4ec8c8c2b4a739",
            "value": "Downloading readme: 100%"
          }
        },
        "8670a54b4c80493ba099ca0ad70654b8": {
          "model_module": "@jupyter-widgets/controls",
          "model_name": "FloatProgressModel",
          "model_module_version": "1.5.0",
          "state": {
            "_dom_classes": [],
            "_model_module": "@jupyter-widgets/controls",
            "_model_module_version": "1.5.0",
            "_model_name": "FloatProgressModel",
            "_view_count": null,
            "_view_module": "@jupyter-widgets/controls",
            "_view_module_version": "1.5.0",
            "_view_name": "ProgressView",
            "bar_style": "success",
            "description": "",
            "description_tooltip": null,
            "layout": "IPY_MODEL_096f527df6a347d7a8fa833323cf25ae",
            "max": 28,
            "min": 0,
            "orientation": "horizontal",
            "style": "IPY_MODEL_3acbff877b3c4ab2bc76991e1eaf9415",
            "value": 28
          }
        },
        "d356095175554372a456555b6b568e72": {
          "model_module": "@jupyter-widgets/controls",
          "model_name": "HTMLModel",
          "model_module_version": "1.5.0",
          "state": {
            "_dom_classes": [],
            "_model_module": "@jupyter-widgets/controls",
            "_model_module_version": "1.5.0",
            "_model_name": "HTMLModel",
            "_view_count": null,
            "_view_module": "@jupyter-widgets/controls",
            "_view_module_version": "1.5.0",
            "_view_name": "HTMLView",
            "description": "",
            "description_tooltip": null,
            "layout": "IPY_MODEL_9699dbb2188e4d7da7f6448a00d7ecff",
            "placeholder": "​",
            "style": "IPY_MODEL_aa9346884f3247208b065a36337cc97e",
            "value": " 28.0/28.0 [00:00&lt;00:00, 125B/s]"
          }
        },
        "97dc96f3fb274e7da4ebef238640292f": {
          "model_module": "@jupyter-widgets/base",
          "model_name": "LayoutModel",
          "model_module_version": "1.2.0",
          "state": {
            "_model_module": "@jupyter-widgets/base",
            "_model_module_version": "1.2.0",
            "_model_name": "LayoutModel",
            "_view_count": null,
            "_view_module": "@jupyter-widgets/base",
            "_view_module_version": "1.2.0",
            "_view_name": "LayoutView",
            "align_content": null,
            "align_items": null,
            "align_self": null,
            "border": null,
            "bottom": null,
            "display": null,
            "flex": null,
            "flex_flow": null,
            "grid_area": null,
            "grid_auto_columns": null,
            "grid_auto_flow": null,
            "grid_auto_rows": null,
            "grid_column": null,
            "grid_gap": null,
            "grid_row": null,
            "grid_template_areas": null,
            "grid_template_columns": null,
            "grid_template_rows": null,
            "height": null,
            "justify_content": null,
            "justify_items": null,
            "left": null,
            "margin": null,
            "max_height": null,
            "max_width": null,
            "min_height": null,
            "min_width": null,
            "object_fit": null,
            "object_position": null,
            "order": null,
            "overflow": null,
            "overflow_x": null,
            "overflow_y": null,
            "padding": null,
            "right": null,
            "top": null,
            "visibility": null,
            "width": null
          }
        },
        "5db8de4096ae45b8a5b1973ea16c1010": {
          "model_module": "@jupyter-widgets/base",
          "model_name": "LayoutModel",
          "model_module_version": "1.2.0",
          "state": {
            "_model_module": "@jupyter-widgets/base",
            "_model_module_version": "1.2.0",
            "_model_name": "LayoutModel",
            "_view_count": null,
            "_view_module": "@jupyter-widgets/base",
            "_view_module_version": "1.2.0",
            "_view_name": "LayoutView",
            "align_content": null,
            "align_items": null,
            "align_self": null,
            "border": null,
            "bottom": null,
            "display": null,
            "flex": null,
            "flex_flow": null,
            "grid_area": null,
            "grid_auto_columns": null,
            "grid_auto_flow": null,
            "grid_auto_rows": null,
            "grid_column": null,
            "grid_gap": null,
            "grid_row": null,
            "grid_template_areas": null,
            "grid_template_columns": null,
            "grid_template_rows": null,
            "height": null,
            "justify_content": null,
            "justify_items": null,
            "left": null,
            "margin": null,
            "max_height": null,
            "max_width": null,
            "min_height": null,
            "min_width": null,
            "object_fit": null,
            "object_position": null,
            "order": null,
            "overflow": null,
            "overflow_x": null,
            "overflow_y": null,
            "padding": null,
            "right": null,
            "top": null,
            "visibility": null,
            "width": null
          }
        },
        "43df9d143010478ebc4ec8c8c2b4a739": {
          "model_module": "@jupyter-widgets/controls",
          "model_name": "DescriptionStyleModel",
          "model_module_version": "1.5.0",
          "state": {
            "_model_module": "@jupyter-widgets/controls",
            "_model_module_version": "1.5.0",
            "_model_name": "DescriptionStyleModel",
            "_view_count": null,
            "_view_module": "@jupyter-widgets/base",
            "_view_module_version": "1.2.0",
            "_view_name": "StyleView",
            "description_width": ""
          }
        },
        "096f527df6a347d7a8fa833323cf25ae": {
          "model_module": "@jupyter-widgets/base",
          "model_name": "LayoutModel",
          "model_module_version": "1.2.0",
          "state": {
            "_model_module": "@jupyter-widgets/base",
            "_model_module_version": "1.2.0",
            "_model_name": "LayoutModel",
            "_view_count": null,
            "_view_module": "@jupyter-widgets/base",
            "_view_module_version": "1.2.0",
            "_view_name": "LayoutView",
            "align_content": null,
            "align_items": null,
            "align_self": null,
            "border": null,
            "bottom": null,
            "display": null,
            "flex": null,
            "flex_flow": null,
            "grid_area": null,
            "grid_auto_columns": null,
            "grid_auto_flow": null,
            "grid_auto_rows": null,
            "grid_column": null,
            "grid_gap": null,
            "grid_row": null,
            "grid_template_areas": null,
            "grid_template_columns": null,
            "grid_template_rows": null,
            "height": null,
            "justify_content": null,
            "justify_items": null,
            "left": null,
            "margin": null,
            "max_height": null,
            "max_width": null,
            "min_height": null,
            "min_width": null,
            "object_fit": null,
            "object_position": null,
            "order": null,
            "overflow": null,
            "overflow_x": null,
            "overflow_y": null,
            "padding": null,
            "right": null,
            "top": null,
            "visibility": null,
            "width": null
          }
        },
        "3acbff877b3c4ab2bc76991e1eaf9415": {
          "model_module": "@jupyter-widgets/controls",
          "model_name": "ProgressStyleModel",
          "model_module_version": "1.5.0",
          "state": {
            "_model_module": "@jupyter-widgets/controls",
            "_model_module_version": "1.5.0",
            "_model_name": "ProgressStyleModel",
            "_view_count": null,
            "_view_module": "@jupyter-widgets/base",
            "_view_module_version": "1.2.0",
            "_view_name": "StyleView",
            "bar_color": null,
            "description_width": ""
          }
        },
        "9699dbb2188e4d7da7f6448a00d7ecff": {
          "model_module": "@jupyter-widgets/base",
          "model_name": "LayoutModel",
          "model_module_version": "1.2.0",
          "state": {
            "_model_module": "@jupyter-widgets/base",
            "_model_module_version": "1.2.0",
            "_model_name": "LayoutModel",
            "_view_count": null,
            "_view_module": "@jupyter-widgets/base",
            "_view_module_version": "1.2.0",
            "_view_name": "LayoutView",
            "align_content": null,
            "align_items": null,
            "align_self": null,
            "border": null,
            "bottom": null,
            "display": null,
            "flex": null,
            "flex_flow": null,
            "grid_area": null,
            "grid_auto_columns": null,
            "grid_auto_flow": null,
            "grid_auto_rows": null,
            "grid_column": null,
            "grid_gap": null,
            "grid_row": null,
            "grid_template_areas": null,
            "grid_template_columns": null,
            "grid_template_rows": null,
            "height": null,
            "justify_content": null,
            "justify_items": null,
            "left": null,
            "margin": null,
            "max_height": null,
            "max_width": null,
            "min_height": null,
            "min_width": null,
            "object_fit": null,
            "object_position": null,
            "order": null,
            "overflow": null,
            "overflow_x": null,
            "overflow_y": null,
            "padding": null,
            "right": null,
            "top": null,
            "visibility": null,
            "width": null
          }
        },
        "aa9346884f3247208b065a36337cc97e": {
          "model_module": "@jupyter-widgets/controls",
          "model_name": "DescriptionStyleModel",
          "model_module_version": "1.5.0",
          "state": {
            "_model_module": "@jupyter-widgets/controls",
            "_model_module_version": "1.5.0",
            "_model_name": "DescriptionStyleModel",
            "_view_count": null,
            "_view_module": "@jupyter-widgets/base",
            "_view_module_version": "1.2.0",
            "_view_name": "StyleView",
            "description_width": ""
          }
        },
        "1f383941cc8a4a9dbae6c54f335adaea": {
          "model_module": "@jupyter-widgets/controls",
          "model_name": "HBoxModel",
          "model_module_version": "1.5.0",
          "state": {
            "_dom_classes": [],
            "_model_module": "@jupyter-widgets/controls",
            "_model_module_version": "1.5.0",
            "_model_name": "HBoxModel",
            "_view_count": null,
            "_view_module": "@jupyter-widgets/controls",
            "_view_module_version": "1.5.0",
            "_view_name": "HBoxView",
            "box_style": "",
            "children": [
              "IPY_MODEL_1948b4417a2547bba7f5d0e2460e9d84",
              "IPY_MODEL_65b9d8a77dec48dbb0b4c32b19960e31",
              "IPY_MODEL_1b1d314b57bb4034a3ade27dfbc79e49"
            ],
            "layout": "IPY_MODEL_0ce90274b45e4556a35b58c57e5e4d0e"
          }
        },
        "1948b4417a2547bba7f5d0e2460e9d84": {
          "model_module": "@jupyter-widgets/controls",
          "model_name": "HTMLModel",
          "model_module_version": "1.5.0",
          "state": {
            "_dom_classes": [],
            "_model_module": "@jupyter-widgets/controls",
            "_model_module_version": "1.5.0",
            "_model_name": "HTMLModel",
            "_view_count": null,
            "_view_module": "@jupyter-widgets/controls",
            "_view_module_version": "1.5.0",
            "_view_name": "HTMLView",
            "description": "",
            "description_tooltip": null,
            "layout": "IPY_MODEL_30a07c47d148401bb6a8a71e9e0a7004",
            "placeholder": "​",
            "style": "IPY_MODEL_52c4af59e0f84fd29d496327e9666e6b",
            "value": "Downloading data: 100%"
          }
        },
        "65b9d8a77dec48dbb0b4c32b19960e31": {
          "model_module": "@jupyter-widgets/controls",
          "model_name": "FloatProgressModel",
          "model_module_version": "1.5.0",
          "state": {
            "_dom_classes": [],
            "_model_module": "@jupyter-widgets/controls",
            "_model_module_version": "1.5.0",
            "_model_name": "FloatProgressModel",
            "_view_count": null,
            "_view_module": "@jupyter-widgets/controls",
            "_view_module_version": "1.5.0",
            "_view_name": "ProgressView",
            "bar_style": "success",
            "description": "",
            "description_tooltip": null,
            "layout": "IPY_MODEL_ab6c47a055a94dab85bb90169925e8ad",
            "max": 231152089,
            "min": 0,
            "orientation": "horizontal",
            "style": "IPY_MODEL_11e0fc8e8bbc4e229750b896a13489a4",
            "value": 231152089
          }
        },
        "1b1d314b57bb4034a3ade27dfbc79e49": {
          "model_module": "@jupyter-widgets/controls",
          "model_name": "HTMLModel",
          "model_module_version": "1.5.0",
          "state": {
            "_dom_classes": [],
            "_model_module": "@jupyter-widgets/controls",
            "_model_module_version": "1.5.0",
            "_model_name": "HTMLModel",
            "_view_count": null,
            "_view_module": "@jupyter-widgets/controls",
            "_view_module_version": "1.5.0",
            "_view_name": "HTMLView",
            "description": "",
            "description_tooltip": null,
            "layout": "IPY_MODEL_1d7278a9357b49e9aa1729edff6410c9",
            "placeholder": "​",
            "style": "IPY_MODEL_0bb3ae8691b34e078d8710ce2a29f11e",
            "value": " 231M/231M [00:03&lt;00:00, 94.3MB/s]"
          }
        },
        "0ce90274b45e4556a35b58c57e5e4d0e": {
          "model_module": "@jupyter-widgets/base",
          "model_name": "LayoutModel",
          "model_module_version": "1.2.0",
          "state": {
            "_model_module": "@jupyter-widgets/base",
            "_model_module_version": "1.2.0",
            "_model_name": "LayoutModel",
            "_view_count": null,
            "_view_module": "@jupyter-widgets/base",
            "_view_module_version": "1.2.0",
            "_view_name": "LayoutView",
            "align_content": null,
            "align_items": null,
            "align_self": null,
            "border": null,
            "bottom": null,
            "display": null,
            "flex": null,
            "flex_flow": null,
            "grid_area": null,
            "grid_auto_columns": null,
            "grid_auto_flow": null,
            "grid_auto_rows": null,
            "grid_column": null,
            "grid_gap": null,
            "grid_row": null,
            "grid_template_areas": null,
            "grid_template_columns": null,
            "grid_template_rows": null,
            "height": null,
            "justify_content": null,
            "justify_items": null,
            "left": null,
            "margin": null,
            "max_height": null,
            "max_width": null,
            "min_height": null,
            "min_width": null,
            "object_fit": null,
            "object_position": null,
            "order": null,
            "overflow": null,
            "overflow_x": null,
            "overflow_y": null,
            "padding": null,
            "right": null,
            "top": null,
            "visibility": null,
            "width": null
          }
        },
        "30a07c47d148401bb6a8a71e9e0a7004": {
          "model_module": "@jupyter-widgets/base",
          "model_name": "LayoutModel",
          "model_module_version": "1.2.0",
          "state": {
            "_model_module": "@jupyter-widgets/base",
            "_model_module_version": "1.2.0",
            "_model_name": "LayoutModel",
            "_view_count": null,
            "_view_module": "@jupyter-widgets/base",
            "_view_module_version": "1.2.0",
            "_view_name": "LayoutView",
            "align_content": null,
            "align_items": null,
            "align_self": null,
            "border": null,
            "bottom": null,
            "display": null,
            "flex": null,
            "flex_flow": null,
            "grid_area": null,
            "grid_auto_columns": null,
            "grid_auto_flow": null,
            "grid_auto_rows": null,
            "grid_column": null,
            "grid_gap": null,
            "grid_row": null,
            "grid_template_areas": null,
            "grid_template_columns": null,
            "grid_template_rows": null,
            "height": null,
            "justify_content": null,
            "justify_items": null,
            "left": null,
            "margin": null,
            "max_height": null,
            "max_width": null,
            "min_height": null,
            "min_width": null,
            "object_fit": null,
            "object_position": null,
            "order": null,
            "overflow": null,
            "overflow_x": null,
            "overflow_y": null,
            "padding": null,
            "right": null,
            "top": null,
            "visibility": null,
            "width": null
          }
        },
        "52c4af59e0f84fd29d496327e9666e6b": {
          "model_module": "@jupyter-widgets/controls",
          "model_name": "DescriptionStyleModel",
          "model_module_version": "1.5.0",
          "state": {
            "_model_module": "@jupyter-widgets/controls",
            "_model_module_version": "1.5.0",
            "_model_name": "DescriptionStyleModel",
            "_view_count": null,
            "_view_module": "@jupyter-widgets/base",
            "_view_module_version": "1.2.0",
            "_view_name": "StyleView",
            "description_width": ""
          }
        },
        "ab6c47a055a94dab85bb90169925e8ad": {
          "model_module": "@jupyter-widgets/base",
          "model_name": "LayoutModel",
          "model_module_version": "1.2.0",
          "state": {
            "_model_module": "@jupyter-widgets/base",
            "_model_module_version": "1.2.0",
            "_model_name": "LayoutModel",
            "_view_count": null,
            "_view_module": "@jupyter-widgets/base",
            "_view_module_version": "1.2.0",
            "_view_name": "LayoutView",
            "align_content": null,
            "align_items": null,
            "align_self": null,
            "border": null,
            "bottom": null,
            "display": null,
            "flex": null,
            "flex_flow": null,
            "grid_area": null,
            "grid_auto_columns": null,
            "grid_auto_flow": null,
            "grid_auto_rows": null,
            "grid_column": null,
            "grid_gap": null,
            "grid_row": null,
            "grid_template_areas": null,
            "grid_template_columns": null,
            "grid_template_rows": null,
            "height": null,
            "justify_content": null,
            "justify_items": null,
            "left": null,
            "margin": null,
            "max_height": null,
            "max_width": null,
            "min_height": null,
            "min_width": null,
            "object_fit": null,
            "object_position": null,
            "order": null,
            "overflow": null,
            "overflow_x": null,
            "overflow_y": null,
            "padding": null,
            "right": null,
            "top": null,
            "visibility": null,
            "width": null
          }
        },
        "11e0fc8e8bbc4e229750b896a13489a4": {
          "model_module": "@jupyter-widgets/controls",
          "model_name": "ProgressStyleModel",
          "model_module_version": "1.5.0",
          "state": {
            "_model_module": "@jupyter-widgets/controls",
            "_model_module_version": "1.5.0",
            "_model_name": "ProgressStyleModel",
            "_view_count": null,
            "_view_module": "@jupyter-widgets/base",
            "_view_module_version": "1.2.0",
            "_view_name": "StyleView",
            "bar_color": null,
            "description_width": ""
          }
        },
        "1d7278a9357b49e9aa1729edff6410c9": {
          "model_module": "@jupyter-widgets/base",
          "model_name": "LayoutModel",
          "model_module_version": "1.2.0",
          "state": {
            "_model_module": "@jupyter-widgets/base",
            "_model_module_version": "1.2.0",
            "_model_name": "LayoutModel",
            "_view_count": null,
            "_view_module": "@jupyter-widgets/base",
            "_view_module_version": "1.2.0",
            "_view_name": "LayoutView",
            "align_content": null,
            "align_items": null,
            "align_self": null,
            "border": null,
            "bottom": null,
            "display": null,
            "flex": null,
            "flex_flow": null,
            "grid_area": null,
            "grid_auto_columns": null,
            "grid_auto_flow": null,
            "grid_auto_rows": null,
            "grid_column": null,
            "grid_gap": null,
            "grid_row": null,
            "grid_template_areas": null,
            "grid_template_columns": null,
            "grid_template_rows": null,
            "height": null,
            "justify_content": null,
            "justify_items": null,
            "left": null,
            "margin": null,
            "max_height": null,
            "max_width": null,
            "min_height": null,
            "min_width": null,
            "object_fit": null,
            "object_position": null,
            "order": null,
            "overflow": null,
            "overflow_x": null,
            "overflow_y": null,
            "padding": null,
            "right": null,
            "top": null,
            "visibility": null,
            "width": null
          }
        },
        "0bb3ae8691b34e078d8710ce2a29f11e": {
          "model_module": "@jupyter-widgets/controls",
          "model_name": "DescriptionStyleModel",
          "model_module_version": "1.5.0",
          "state": {
            "_model_module": "@jupyter-widgets/controls",
            "_model_module_version": "1.5.0",
            "_model_name": "DescriptionStyleModel",
            "_view_count": null,
            "_view_module": "@jupyter-widgets/base",
            "_view_module_version": "1.2.0",
            "_view_name": "StyleView",
            "description_width": ""
          }
        },
        "25b70cae732649678a555c37040d9dc2": {
          "model_module": "@jupyter-widgets/controls",
          "model_name": "HBoxModel",
          "model_module_version": "1.5.0",
          "state": {
            "_dom_classes": [],
            "_model_module": "@jupyter-widgets/controls",
            "_model_module_version": "1.5.0",
            "_model_name": "HBoxModel",
            "_view_count": null,
            "_view_module": "@jupyter-widgets/controls",
            "_view_module_version": "1.5.0",
            "_view_name": "HBoxView",
            "box_style": "",
            "children": [
              "IPY_MODEL_92588ef29fe244569b91ee6a62438a8a",
              "IPY_MODEL_e10f4a06b1904f8d908a8640ada8335f",
              "IPY_MODEL_a6059bbe491d46139dd9938a995c92fc"
            ],
            "layout": "IPY_MODEL_a9208642d9714dfbb574e47286d5d6e4"
          }
        },
        "92588ef29fe244569b91ee6a62438a8a": {
          "model_module": "@jupyter-widgets/controls",
          "model_name": "HTMLModel",
          "model_module_version": "1.5.0",
          "state": {
            "_dom_classes": [],
            "_model_module": "@jupyter-widgets/controls",
            "_model_module_version": "1.5.0",
            "_model_name": "HTMLModel",
            "_view_count": null,
            "_view_module": "@jupyter-widgets/controls",
            "_view_module_version": "1.5.0",
            "_view_name": "HTMLView",
            "description": "",
            "description_tooltip": null,
            "layout": "IPY_MODEL_de66dc5cd681486aaf29ffc4104133b5",
            "placeholder": "​",
            "style": "IPY_MODEL_2997d5ce7a9644ffb1caaf3813784cb6",
            "value": "Generating train split: 100%"
          }
        },
        "e10f4a06b1904f8d908a8640ada8335f": {
          "model_module": "@jupyter-widgets/controls",
          "model_name": "FloatProgressModel",
          "model_module_version": "1.5.0",
          "state": {
            "_dom_classes": [],
            "_model_module": "@jupyter-widgets/controls",
            "_model_module_version": "1.5.0",
            "_model_name": "FloatProgressModel",
            "_view_count": null,
            "_view_module": "@jupyter-widgets/controls",
            "_view_module_version": "1.5.0",
            "_view_name": "ProgressView",
            "bar_style": "success",
            "description": "",
            "description_tooltip": null,
            "layout": "IPY_MODEL_a376f4b89a9746cda5a394d7aef04e41",
            "max": 785741,
            "min": 0,
            "orientation": "horizontal",
            "style": "IPY_MODEL_1cf0b223dadf417681892032bc4722e1",
            "value": 785741
          }
        },
        "a6059bbe491d46139dd9938a995c92fc": {
          "model_module": "@jupyter-widgets/controls",
          "model_name": "HTMLModel",
          "model_module_version": "1.5.0",
          "state": {
            "_dom_classes": [],
            "_model_module": "@jupyter-widgets/controls",
            "_model_module_version": "1.5.0",
            "_model_name": "HTMLModel",
            "_view_count": null,
            "_view_module": "@jupyter-widgets/controls",
            "_view_module_version": "1.5.0",
            "_view_name": "HTMLView",
            "description": "",
            "description_tooltip": null,
            "layout": "IPY_MODEL_6d338486232440d19aa6c681f272a0dd",
            "placeholder": "​",
            "style": "IPY_MODEL_037193398e6b415ab6a14fe54225cf81",
            "value": " 785741/785741 [00:08&lt;00:00, 106577.11 examples/s]"
          }
        },
        "a9208642d9714dfbb574e47286d5d6e4": {
          "model_module": "@jupyter-widgets/base",
          "model_name": "LayoutModel",
          "model_module_version": "1.2.0",
          "state": {
            "_model_module": "@jupyter-widgets/base",
            "_model_module_version": "1.2.0",
            "_model_name": "LayoutModel",
            "_view_count": null,
            "_view_module": "@jupyter-widgets/base",
            "_view_module_version": "1.2.0",
            "_view_name": "LayoutView",
            "align_content": null,
            "align_items": null,
            "align_self": null,
            "border": null,
            "bottom": null,
            "display": null,
            "flex": null,
            "flex_flow": null,
            "grid_area": null,
            "grid_auto_columns": null,
            "grid_auto_flow": null,
            "grid_auto_rows": null,
            "grid_column": null,
            "grid_gap": null,
            "grid_row": null,
            "grid_template_areas": null,
            "grid_template_columns": null,
            "grid_template_rows": null,
            "height": null,
            "justify_content": null,
            "justify_items": null,
            "left": null,
            "margin": null,
            "max_height": null,
            "max_width": null,
            "min_height": null,
            "min_width": null,
            "object_fit": null,
            "object_position": null,
            "order": null,
            "overflow": null,
            "overflow_x": null,
            "overflow_y": null,
            "padding": null,
            "right": null,
            "top": null,
            "visibility": null,
            "width": null
          }
        },
        "de66dc5cd681486aaf29ffc4104133b5": {
          "model_module": "@jupyter-widgets/base",
          "model_name": "LayoutModel",
          "model_module_version": "1.2.0",
          "state": {
            "_model_module": "@jupyter-widgets/base",
            "_model_module_version": "1.2.0",
            "_model_name": "LayoutModel",
            "_view_count": null,
            "_view_module": "@jupyter-widgets/base",
            "_view_module_version": "1.2.0",
            "_view_name": "LayoutView",
            "align_content": null,
            "align_items": null,
            "align_self": null,
            "border": null,
            "bottom": null,
            "display": null,
            "flex": null,
            "flex_flow": null,
            "grid_area": null,
            "grid_auto_columns": null,
            "grid_auto_flow": null,
            "grid_auto_rows": null,
            "grid_column": null,
            "grid_gap": null,
            "grid_row": null,
            "grid_template_areas": null,
            "grid_template_columns": null,
            "grid_template_rows": null,
            "height": null,
            "justify_content": null,
            "justify_items": null,
            "left": null,
            "margin": null,
            "max_height": null,
            "max_width": null,
            "min_height": null,
            "min_width": null,
            "object_fit": null,
            "object_position": null,
            "order": null,
            "overflow": null,
            "overflow_x": null,
            "overflow_y": null,
            "padding": null,
            "right": null,
            "top": null,
            "visibility": null,
            "width": null
          }
        },
        "2997d5ce7a9644ffb1caaf3813784cb6": {
          "model_module": "@jupyter-widgets/controls",
          "model_name": "DescriptionStyleModel",
          "model_module_version": "1.5.0",
          "state": {
            "_model_module": "@jupyter-widgets/controls",
            "_model_module_version": "1.5.0",
            "_model_name": "DescriptionStyleModel",
            "_view_count": null,
            "_view_module": "@jupyter-widgets/base",
            "_view_module_version": "1.2.0",
            "_view_name": "StyleView",
            "description_width": ""
          }
        },
        "a376f4b89a9746cda5a394d7aef04e41": {
          "model_module": "@jupyter-widgets/base",
          "model_name": "LayoutModel",
          "model_module_version": "1.2.0",
          "state": {
            "_model_module": "@jupyter-widgets/base",
            "_model_module_version": "1.2.0",
            "_model_name": "LayoutModel",
            "_view_count": null,
            "_view_module": "@jupyter-widgets/base",
            "_view_module_version": "1.2.0",
            "_view_name": "LayoutView",
            "align_content": null,
            "align_items": null,
            "align_self": null,
            "border": null,
            "bottom": null,
            "display": null,
            "flex": null,
            "flex_flow": null,
            "grid_area": null,
            "grid_auto_columns": null,
            "grid_auto_flow": null,
            "grid_auto_rows": null,
            "grid_column": null,
            "grid_gap": null,
            "grid_row": null,
            "grid_template_areas": null,
            "grid_template_columns": null,
            "grid_template_rows": null,
            "height": null,
            "justify_content": null,
            "justify_items": null,
            "left": null,
            "margin": null,
            "max_height": null,
            "max_width": null,
            "min_height": null,
            "min_width": null,
            "object_fit": null,
            "object_position": null,
            "order": null,
            "overflow": null,
            "overflow_x": null,
            "overflow_y": null,
            "padding": null,
            "right": null,
            "top": null,
            "visibility": null,
            "width": null
          }
        },
        "1cf0b223dadf417681892032bc4722e1": {
          "model_module": "@jupyter-widgets/controls",
          "model_name": "ProgressStyleModel",
          "model_module_version": "1.5.0",
          "state": {
            "_model_module": "@jupyter-widgets/controls",
            "_model_module_version": "1.5.0",
            "_model_name": "ProgressStyleModel",
            "_view_count": null,
            "_view_module": "@jupyter-widgets/base",
            "_view_module_version": "1.2.0",
            "_view_name": "StyleView",
            "bar_color": null,
            "description_width": ""
          }
        },
        "6d338486232440d19aa6c681f272a0dd": {
          "model_module": "@jupyter-widgets/base",
          "model_name": "LayoutModel",
          "model_module_version": "1.2.0",
          "state": {
            "_model_module": "@jupyter-widgets/base",
            "_model_module_version": "1.2.0",
            "_model_name": "LayoutModel",
            "_view_count": null,
            "_view_module": "@jupyter-widgets/base",
            "_view_module_version": "1.2.0",
            "_view_name": "LayoutView",
            "align_content": null,
            "align_items": null,
            "align_self": null,
            "border": null,
            "bottom": null,
            "display": null,
            "flex": null,
            "flex_flow": null,
            "grid_area": null,
            "grid_auto_columns": null,
            "grid_auto_flow": null,
            "grid_auto_rows": null,
            "grid_column": null,
            "grid_gap": null,
            "grid_row": null,
            "grid_template_areas": null,
            "grid_template_columns": null,
            "grid_template_rows": null,
            "height": null,
            "justify_content": null,
            "justify_items": null,
            "left": null,
            "margin": null,
            "max_height": null,
            "max_width": null,
            "min_height": null,
            "min_width": null,
            "object_fit": null,
            "object_position": null,
            "order": null,
            "overflow": null,
            "overflow_x": null,
            "overflow_y": null,
            "padding": null,
            "right": null,
            "top": null,
            "visibility": null,
            "width": null
          }
        },
        "037193398e6b415ab6a14fe54225cf81": {
          "model_module": "@jupyter-widgets/controls",
          "model_name": "DescriptionStyleModel",
          "model_module_version": "1.5.0",
          "state": {
            "_model_module": "@jupyter-widgets/controls",
            "_model_module_version": "1.5.0",
            "_model_name": "DescriptionStyleModel",
            "_view_count": null,
            "_view_module": "@jupyter-widgets/base",
            "_view_module_version": "1.2.0",
            "_view_name": "StyleView",
            "description_width": ""
          }
        }
      }
    }
  },
  "nbformat": 4,
  "nbformat_minor": 0
}
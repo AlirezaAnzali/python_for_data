{
  "cells": [
    {
      "cell_type": "markdown",
      "metadata": {
        "id": "qhAlNWJzG0S3"
      },
      "source": [
        "# Classes"
      ]
    },
    {
      "cell_type": "markdown",
      "metadata": {
        "id": "hlM3qG9UOHOT"
      },
      "source": [
        "## Python Objects\n",
        "\n",
        "### Notes\n",
        "\n",
        "* Python is an object oriented programming language.\n",
        "* Almost everything is an object, with properties and methods.\n",
        "* A **class** is like an object constructor.\n",
        "\n",
        "In our course we'll briefly go over classes, but it won't be covered in detail."
      ]
    },
    {
      "cell_type": "markdown",
      "metadata": {
        "id": "7FY_imutETyv"
      },
      "source": [
        "## Importance\n",
        "\n",
        "Classes are the basis for Object-Oriented Programming in Python. While not directly used in pandas or matplotlib operations, understanding them is vital for extending these libraries or customizing functionalities."
      ]
    },
    {
      "cell_type": "markdown",
      "metadata": {
        "id": "0xvYqayPETyw"
      },
      "source": [
        "## Simple Example\n",
        "\n",
        "### Create Class\n",
        "\n",
        "We're creating a class called `LukesList`, don't worry about the code following that.\n",
        "- Ths class operates very similiar to a `list` object"
      ]
    },
    {
      "cell_type": "code",
      "execution_count": 1,
      "metadata": {
        "id": "kdQTJhJVETyw"
      },
      "outputs": [],
      "source": [
        "class LukesList:\n",
        "    def __init__(self):\n",
        "        \"\"\"Initialize an empty list.\"\"\"\n",
        "        self._items = []\n",
        "\n",
        "    def add(self, item):\n",
        "        \"\"\"Add an item to the end of the list.\"\"\"\n",
        "        self._items.append(item)\n",
        "\n",
        "    def __getitem__(self, index):\n",
        "        \"\"\"Retrieve an item by index.\"\"\"\n",
        "        return self._items[index]\n",
        "\n",
        "    def __setitem__(self, index, value):\n",
        "        \"\"\"Set an item at a specific index.\"\"\"\n",
        "        self._items[index] = value\n",
        "\n",
        "    def __repr__(self):\n",
        "        \"\"\"Return a string representation of the list.\"\"\"\n",
        "        return str(self._items)\n",
        "\n",
        "    def __len__(self):\n",
        "        \"\"\"Return the length of the list.\"\"\"\n",
        "        return len(self._items)"
      ]
    },
    {
      "cell_type": "markdown",
      "metadata": {
        "id": "ms9dnKE2OZ1J"
      },
      "source": [
        "### Create Instance\n",
        "\n",
        "#### Notes\n",
        "\n",
        "* We can use the class to create objects to create an instance of it by calling: `LukesList()`"
      ]
    },
    {
      "cell_type": "code",
      "execution_count": 2,
      "metadata": {
        "colab": {
          "base_uri": "https://localhost:8080/"
        },
        "id": "Ez4W4fb_ETyy",
        "outputId": "d1892592-81c3-4e21-dd98-24e749518bdc"
      },
      "outputs": [
        {
          "output_type": "execute_result",
          "data": {
            "text/plain": [
              "[]"
            ]
          },
          "metadata": {},
          "execution_count": 2
        }
      ],
      "source": [
        "my_list = LukesList()\n",
        "\n",
        "my_list"
      ]
    },
    {
      "cell_type": "markdown",
      "metadata": {
        "id": "DLwynu-XETyy"
      },
      "source": [
        "### Manipulate Instance\n",
        "\n",
        "We can add to the list by using the `.add()` method."
      ]
    },
    {
      "cell_type": "code",
      "execution_count": 3,
      "metadata": {
        "colab": {
          "base_uri": "https://localhost:8080/"
        },
        "id": "Ry3hjgzcETyz",
        "outputId": "42fb537f-33ee-4fbf-c1b2-df85c000e262"
      },
      "outputs": [
        {
          "output_type": "execute_result",
          "data": {
            "text/plain": [
              "['Data Nerd', 'Finance Nerd']"
            ]
          },
          "metadata": {},
          "execution_count": 3
        }
      ],
      "source": [
        "my_list.add(\"Data Nerd\")\n",
        "my_list.add(\"Finance Nerd\")\n",
        "\n",
        "my_list"
      ]
    },
    {
      "cell_type": "markdown",
      "metadata": {
        "id": "WybaQVGjETyz"
      },
      "source": [
        "We can even use functions like `len()` on it:"
      ]
    },
    {
      "cell_type": "code",
      "execution_count": 4,
      "metadata": {
        "colab": {
          "base_uri": "https://localhost:8080/"
        },
        "id": "nz7-NPzwETyz",
        "outputId": "b1bdf976-5d96-4841-c0d5-196ec241c57b"
      },
      "outputs": [
        {
          "output_type": "execute_result",
          "data": {
            "text/plain": [
              "2"
            ]
          },
          "metadata": {},
          "execution_count": 4
        }
      ],
      "source": [
        "len(my_list)"
      ]
    },
    {
      "cell_type": "markdown",
      "metadata": {
        "id": "i39xYEv1ETyz"
      },
      "source": [
        "## Practical Example\n",
        "\n",
        "### Demonstration\n",
        "\n",
        "Recall back that we had built functions to automate calculating things about a salary."
      ]
    },
    {
      "cell_type": "code",
      "execution_count": 5,
      "metadata": {
        "id": "gMJo5sPZETyz"
      },
      "outputs": [],
      "source": [
        "def calculate_salary(base_salary, bonus_rate=.1):\n",
        "  \"\"\"\n",
        "  Calculate the total salary based on the base salary and bonus rate.\n",
        "\n",
        "  Args:\n",
        "    base_salary (float): The base salary.\n",
        "    bonus_rate (float): The bonus rate. Default is .1.\n",
        "\n",
        "  Returns:\n",
        "    float: The total salary.\n",
        "  \"\"\"\n",
        "  return base_salary * (1 + bonus_rate)\n",
        "\n",
        "def calculate_bonus(total_salary, base_salary):\n",
        "  \"\"\"\n",
        "  Calculate the bonus rate based on the total salary and base salary.\n",
        "\n",
        "  Args:\n",
        "    total_salary (float): The total salary.\n",
        "    base_salary (float): The base salary.\n",
        "\n",
        "  Returns:\n",
        "    float: The bonus rate.\n",
        "  \"\"\"\n",
        "  return (total_salary - base_salary) / base_salary"
      ]
    },
    {
      "cell_type": "markdown",
      "metadata": {
        "id": "uVojTQQHETy0"
      },
      "source": [
        "Well we can make this into a class."
      ]
    },
    {
      "cell_type": "code",
      "execution_count": 6,
      "metadata": {
        "id": "XLNMe9dCETy0"
      },
      "outputs": [],
      "source": [
        "class BaseSalary:\n",
        "  def __init__(self, base_salary, bonus_rate=0.1, symbol=\"$\"):\n",
        "    self.base_salary = base_salary\n",
        "    self.bonus_rate = bonus_rate\n",
        "    self.symbol = symbol\n",
        "    self.total_salary = base_salary * (1 + bonus_rate)\n",
        "    self.bonus = self.total_salary - self.base_salary\n",
        "\n",
        "  def __repr__(self):\n",
        "    return f'{self.symbol}{self.base_salary:,.0f}'\n",
        "\n",
        "  def show_salary(self):\n",
        "    return f'{self.symbol}{self.total_salary:,.0f}'\n",
        "\n",
        "  def show_bonus(self):\n",
        "    return f'{self.symbol}{self.bonus:,.0f}'"
      ]
    },
    {
      "cell_type": "markdown",
      "metadata": {
        "id": "dQtQQZA5ETy0"
      },
      "source": [
        "We can have it print out the salary formatted correctly."
      ]
    },
    {
      "cell_type": "code",
      "execution_count": 15,
      "metadata": {
        "colab": {
          "base_uri": "https://localhost:8080/"
        },
        "id": "PaRhUc6HETy0",
        "outputId": "82d948c0-2fbd-4672-f7d5-3b95b20b35d0"
      },
      "outputs": [
        {
          "output_type": "execute_result",
          "data": {
            "text/plain": [
              "$100,000"
            ]
          },
          "metadata": {},
          "execution_count": 15
        }
      ],
      "source": [
        "salary = BaseSalary(100000)\n",
        "\n",
        "salary"
      ]
    },
    {
      "cell_type": "markdown",
      "metadata": {
        "id": "EiV6bhseETy0"
      },
      "source": [
        "Along with things like calculating the total salary:"
      ]
    },
    {
      "cell_type": "code",
      "execution_count": 16,
      "metadata": {
        "colab": {
          "base_uri": "https://localhost:8080/",
          "height": 35
        },
        "id": "laMynumlETy0",
        "outputId": "100d8dfd-1f17-4f01-be98-4209f85d9761"
      },
      "outputs": [
        {
          "output_type": "execute_result",
          "data": {
            "text/plain": [
              "'$110,000'"
            ],
            "application/vnd.google.colaboratory.intrinsic+json": {
              "type": "string"
            }
          },
          "metadata": {},
          "execution_count": 16
        }
      ],
      "source": [
        "salary.show_salary()"
      ]
    },
    {
      "cell_type": "markdown",
      "metadata": {
        "id": "rkjVQ9A-OXn1"
      },
      "source": [
        "## `__init__()` function\n",
        "\n",
        "### Notes\n",
        "\n",
        "* All classes have a function called `__init__()`, it's always executed when a class is being initiated.\n",
        "* Use the `__init__()` function to assign values to object properties, or other operations that are necessary when the object is created.\n",
        "\n",
        "\n",
        "### Example\n",
        "\n",
        "Create a class named `DataScienceJobList`, use the `__init__()` function to assign values for `jobs`."
      ]
    },
    {
      "cell_type": "code",
      "execution_count": 17,
      "metadata": {
        "id": "Bu3_amTCETy0"
      },
      "outputs": [],
      "source": [
        "class DataScienceJobsList:\n",
        "    def __init__(self, jobs):\n",
        "        self.jobs = jobs"
      ]
    },
    {
      "cell_type": "markdown",
      "metadata": {
        "id": "p-s8SOGxETy1"
      },
      "source": [
        "Example of how to use this class: we'll create a list of data science jobs called `data_science_jobs`."
      ]
    },
    {
      "cell_type": "code",
      "execution_count": 18,
      "metadata": {
        "id": "QPks8E1BETy1"
      },
      "outputs": [],
      "source": [
        "data_science_jobs = [\n",
        "    {'job_title': 'Data Scientist', 'job_skills': \"Python, SQL, Machine Learning\"},\n",
        "    {'job_title': 'Data Analyst', 'job_skills': \"SQL, Excel, Python\"},\n",
        "    {'job_title': 'Machine Learning Engineer', 'job_skills': \"Python, TensorFlow, Keras\"}\n",
        "]"
      ]
    },
    {
      "cell_type": "markdown",
      "metadata": {
        "id": "l7vq_m_BETy1"
      },
      "source": [
        "Then we will assign this class to an object called `jobs_list` and return `jobs_list`."
      ]
    },
    {
      "cell_type": "code",
      "execution_count": 19,
      "metadata": {
        "colab": {
          "base_uri": "https://localhost:8080/"
        },
        "id": "U6lqwUwsETy1",
        "outputId": "84c71c7a-cd66-4f8b-8fdc-8671955f4de3"
      },
      "outputs": [
        {
          "output_type": "execute_result",
          "data": {
            "text/plain": [
              "<__main__.DataScienceJobsList at 0x7ebcf3fe16f0>"
            ]
          },
          "metadata": {},
          "execution_count": 19
        }
      ],
      "source": [
        "jobs_list = DataScienceJobsList(data_science_jobs)\n",
        "jobs_list"
      ]
    },
    {
      "cell_type": "markdown",
      "metadata": {
        "id": "ImY7scMUETy1"
      },
      "source": [
        "Okay if we try to print or call this object it just displays: `<__main__.DataScienceJobsList at 0x1fab8c6b190>` which isn't very useful. So we'll use a function called `__str__()` to output something better."
      ]
    },
    {
      "cell_type": "markdown",
      "metadata": {
        "id": "5fHCnJTyETy1"
      },
      "source": [
        "## `__str__()` function\n",
        "\n",
        "### Notes\n",
        "\n",
        "* `__str__()` function shows what should be returned when the class object is represented as a string.\n",
        "* If it's not set, the string representation of the object is returned (like it is in the example above).\n",
        "\n",
        "### Example\n",
        "\n",
        "Create a class named `DataScienceJobList`, that has:\n",
        "* What we did before:\n",
        "    * The `__init__()` function to assign values for `jobs` (what we created in the last example).\n",
        "* Now:\n",
        "    * A `__str__()` function to print out the data science jobs.\n",
        "\n",
        "Note: Each time we create/add a new method, we have to redefine the whole class in another cell."
      ]
    },
    {
      "cell_type": "code",
      "execution_count": 20,
      "metadata": {
        "id": "teIDAdHNETy1"
      },
      "outputs": [],
      "source": [
        "class DataScienceJobsList:\n",
        "    def __init__(self, jobs):\n",
        "        '''\n",
        "        Initializes the DataScienceJobsList object with a list of jobs.\n",
        "        '''\n",
        "        self.jobs = jobs\n",
        "\n",
        "    def __str__(self):\n",
        "        '''\n",
        "        Returns a string representation of the data science jobs list.\n",
        "        '''\n",
        "        jobs_str = 'Data Science Jobs:\\n'\n",
        "        for job in self.jobs:\n",
        "            # Assuming job_skills is initially a string; it will be split later\n",
        "            jobs_str += f\"- {job['job_title']}: {job['job_skills']}\\n\"\n",
        "        return jobs_str"
      ]
    },
    {
      "cell_type": "markdown",
      "metadata": {
        "id": "SKRywpfFETy2"
      },
      "source": [
        "Then we will assign this class to an object called `jobs_list` and print `jobs_list`. Because of the `__str__()` function it will now print out what we told it to instead of the string representation."
      ]
    },
    {
      "cell_type": "code",
      "execution_count": 21,
      "metadata": {
        "colab": {
          "base_uri": "https://localhost:8080/"
        },
        "id": "93UDoV6UETy2",
        "outputId": "85518c14-6c1d-4266-9adb-a63bfb21bed7"
      },
      "outputs": [
        {
          "output_type": "stream",
          "name": "stdout",
          "text": [
            "Data Science Jobs:\n",
            "- Data Scientist: Python, SQL, Machine Learning\n",
            "- Data Analyst: SQL, Excel, Python\n",
            "- Machine Learning Engineer: Python, TensorFlow, Keras\n",
            "\n"
          ]
        }
      ],
      "source": [
        "jobs_list = DataScienceJobsList(data_science_jobs)\n",
        "print(jobs_list)"
      ]
    },
    {
      "cell_type": "markdown",
      "metadata": {
        "id": "W17YP9SGETy2"
      },
      "source": [
        "## Object Methods\n",
        "\n",
        "### Notes\n",
        "\n",
        "* Object can also contain methods\n",
        "* Methods in objects are functions that belong to the object\n",
        "\n",
        "### Example\n",
        "\n",
        "Create a class named `DataScienceJobList`, that has:\n",
        "* What we created before:\n",
        "    * The `__init__()` function to assign values for `jobs`\n",
        "    * A `__str__()` function to print out the data science jobs\n",
        "* Now:\n",
        "    * A `split_skills` method that converts the job skills to a list"
      ]
    },
    {
      "cell_type": "code",
      "execution_count": 22,
      "metadata": {
        "id": "SNAsxrqMETy2"
      },
      "outputs": [],
      "source": [
        "class DataScienceJobsList:\n",
        "    def __init__(self, jobs):\n",
        "        self.jobs = jobs\n",
        "\n",
        "    def __str__(self):\n",
        "        jobs_str = 'Data Science Jobs:\\n'\n",
        "        for job in self.jobs:\n",
        "            jobs_str += f\"- {job['job_title']}: {', '.join(job['job_skills'])}\\n\"\n",
        "        return jobs_str\n",
        "\n",
        "    def split_skills(self):\n",
        "        for job in self.jobs:\n",
        "            job['job_skills'] = job['job_skills'].split(', ')"
      ]
    },
    {
      "cell_type": "markdown",
      "metadata": {
        "id": "WZ7oEO5cETy2"
      },
      "source": [
        "Then we will assign this class to an object called `jobs_list` and call the `split_skills()` method."
      ]
    },
    {
      "cell_type": "code",
      "execution_count": 23,
      "metadata": {
        "colab": {
          "base_uri": "https://localhost:8080/"
        },
        "id": "CAknqZRsETy2",
        "outputId": "35def763-8ee9-4fc4-ab0b-012941f872e4"
      },
      "outputs": [
        {
          "output_type": "stream",
          "name": "stdout",
          "text": [
            "Data Science Jobs:\n",
            "- Data Scientist: Python, SQL, Machine Learning\n",
            "- Data Analyst: SQL, Excel, Python\n",
            "- Machine Learning Engineer: Python, TensorFlow, Keras\n",
            "\n"
          ]
        }
      ],
      "source": [
        "jobs_list = DataScienceJobsList(data_science_jobs)\n",
        "jobs_list.split_skills() # Ensure this is called to split the skills into lists\n",
        "print(jobs_list)"
      ]
    },
    {
      "cell_type": "markdown",
      "metadata": {
        "id": "88nJJoTvETy2"
      },
      "source": [
        "## Extras\n",
        "\n",
        "These are extra examples."
      ]
    },
    {
      "cell_type": "markdown",
      "metadata": {
        "id": "edHrUMk3ETy2"
      },
      "source": [
        "### Printing Class\n",
        "\n",
        "What if we tried printing this class now?"
      ]
    },
    {
      "cell_type": "markdown",
      "metadata": {
        "id": "3xmHglKpETy2"
      },
      "source": [
        "🪲 **Debugging**\n",
        "\n",
        "**These are intentional mistakes**\n",
        "\n",
        "This is used to demonstrate debugging.\n",
        "\n",
        "Error: This code will return an incorrect output than what we want.\n",
        "\n",
        "Steps to Debug:\n",
        "\n",
        "1. Look at the actual error, can you tell what the problem is?\n",
        "2. If not, then look it up:\n",
        "  1. Use a chatbot like ChatGPT or Claude\n",
        "  2. Look it up using Google"
      ]
    },
    {
      "cell_type": "code",
      "execution_count": 24,
      "metadata": {
        "id": "xwn59dJeETy3"
      },
      "outputs": [],
      "source": [
        "class DataScienceJobsList:\n",
        "    def __init__(self, jobs):\n",
        "        self.jobs = jobs\n",
        "\n",
        "    def __str__(self):\n",
        "        jobs_str = 'Data Science Jobs:\\n'\n",
        "        for job in self.jobs:\n",
        "            jobs_str += f\"- {job['job_title']}: {', '.join(job['job_skills'])}\\n\"\n",
        "        return jobs_str\n",
        "\n",
        "    def split_skills(self):\n",
        "        for job in self.jobs:\n",
        "            job['job_skills'] = job['job_skills'].split(', ')"
      ]
    },
    {
      "cell_type": "code",
      "execution_count": 25,
      "metadata": {
        "colab": {
          "base_uri": "https://localhost:8080/"
        },
        "id": "QgfuKo-dETy4",
        "outputId": "a7ca9907-f0c3-44cf-c196-05e2278bb7fd"
      },
      "outputs": [
        {
          "output_type": "stream",
          "name": "stdout",
          "text": [
            "Data Science Jobs:\n",
            "- Data Scientist: Python, SQL, Machine Learning\n",
            "- Data Analyst: SQL, Excel, Python\n",
            "- Machine Learning Engineer: Python, TensorFlow, Keras\n",
            "\n"
          ]
        }
      ],
      "source": [
        "jobs_list = DataScienceJobsList(data_science_jobs)\n",
        "print(jobs_list)"
      ]
    },
    {
      "cell_type": "markdown",
      "metadata": {
        "id": "E1TD02MpETy4"
      },
      "source": [
        "Oh this doesn't look correct. It's because the `__str__()` method attempts to join the job['job_skills'] assuming it's a list, but at the point where __str__() is called, the skills haven't been split into lists yet; they're still strings.\n",
        "\n",
        "The method is attempting to join the individual characters of the string, instead of splitting the string into a list of skills first.\n",
        "\n",
        "We'll fix it by adjusting the `__str__()` method to handle cases where either:\n",
        "\n",
        "* `split_skills` is called before any attempts to print the object.\n",
        "* Adjust the `__str__()` method where skills might still be a single string or have already split into a list."
      ]
    },
    {
      "cell_type": "code",
      "execution_count": 26,
      "metadata": {
        "id": "KQXpCQshETy4"
      },
      "outputs": [],
      "source": [
        "class DataScienceJobsList:\n",
        "    def __init__(self, jobs):\n",
        "        self.jobs = jobs\n",
        "\n",
        "    def __str__(self):\n",
        "        jobs_str = 'Data Science Jobs:\\n'\n",
        "        for job in self.jobs:\n",
        "            # Check if job_skills is already a list or still a string\n",
        "            if isinstance(job['job_skills'], list):\n",
        "                skills_str = ', '.join(job['job_skills'])\n",
        "            else:\n",
        "                skills_str = job['job_skills']\n",
        "            jobs_str += f\"- {job['job_title']}: {skills_str}\\n\"\n",
        "        return jobs_str\n",
        "\n",
        "    def split_skills(self):\n",
        "        for job in self.jobs:\n",
        "            job['job_skills'] = job['job_skills'].split(', ')"
      ]
    },
    {
      "cell_type": "markdown",
      "metadata": {
        "id": "RW9-8H6WETy4"
      },
      "source": [
        "Now the `__str__()` method will correctly handle `job['job_skills']` whether it's a pre-split list or a string that hasn't been split yet."
      ]
    },
    {
      "cell_type": "code",
      "execution_count": 27,
      "metadata": {
        "colab": {
          "base_uri": "https://localhost:8080/"
        },
        "id": "cxMzPfWKETy5",
        "outputId": "f1e10fd4-752c-4837-8daf-7db7b705fbf5"
      },
      "outputs": [
        {
          "output_type": "stream",
          "name": "stdout",
          "text": [
            "Data Science Jobs:\n",
            "- Data Scientist: Python, SQL, Machine Learning\n",
            "- Data Analyst: SQL, Excel, Python\n",
            "- Machine Learning Engineer: Python, TensorFlow, Keras\n",
            "\n"
          ]
        }
      ],
      "source": [
        "jobs_list = DataScienceJobsList(data_science_jobs)\n",
        "print(jobs_list)"
      ]
    },
    {
      "cell_type": "markdown",
      "metadata": {
        "id": "4rL2M_ppETy5"
      },
      "source": [
        "### Add in Method\n",
        "\n",
        "While the `__str__()` method is good for providing a quick and readable description of the object's state. We should create a method to explicitly called to print the details of each job to the console.\n",
        "\n",
        "Explanation:\n",
        "\n",
        "* It iterates through the list of jobs, prints the job title.\n",
        "* Then iterates through the list of required skills, printing each one.\n",
        "* Remember it's not returning a value, instead it directly outputs to the console."
      ]
    },
    {
      "cell_type": "markdown",
      "metadata": {
        "id": "FwTKUji8ETy5"
      },
      "source": [
        "🪲 **Debugging**\n",
        "\n",
        "**These are intentional mistakes**\n",
        "\n",
        "This is used to demonstrate debugging.\n",
        "\n",
        "Errors: This is either because we've called `split_skills()` more than once on the same `DataScienceJobsList` instance, or the initial data passed to __init__ already had the skills as lists for some entries.\n",
        "\n",
        "Steps to Debug:\n",
        "\n",
        "1. Look at the actual error, can you tell what the problem is?\n",
        "2. If not, then look it up:\n",
        "  1. Use a chatbot like ChatGPT or Claude\n",
        "  2. Look it up using Google"
      ]
    },
    {
      "cell_type": "code",
      "execution_count": 31,
      "metadata": {
        "id": "2njAg-E7ETy5"
      },
      "outputs": [],
      "source": [
        "class DataScienceJobsList:\n",
        "    def __init__(self, jobs):\n",
        "        self.jobs = jobs\n",
        "\n",
        "    def __str__(self):\n",
        "        jobs_str = 'Data Science Jobs:\\n'\n",
        "        for job in self.jobs:\n",
        "            # Check if job_skills is already a list or still a string\n",
        "            if isinstance(job['job_skills'], list):\n",
        "                skills_str = ', '.join(job['job_skills'])\n",
        "            else:\n",
        "                skills_str = job['job_skills']\n",
        "            jobs_str += f\"- {job['job_title']}: {skills_str}\\n\"\n",
        "        return jobs_str\n",
        "\n",
        "    def split_skills(self):\n",
        "        for job in self.jobs:\n",
        "            job['job_skills'] = job['job_skills'].split(', ')\n",
        "\n",
        "    def display_jobs(self):\n",
        "        for job in self.jobs:\n",
        "            print(f\"Job Title: {job['job_title']}\")\n",
        "            print(\"Required Skills:\")\n",
        "            for skill in job['job_skills']:\n",
        "                print(f\"- {skill}\")\n",
        "            print()  # Adds an empty line for better readability"
      ]
    },
    {
      "cell_type": "code",
      "execution_count": 32,
      "metadata": {
        "colab": {
          "base_uri": "https://localhost:8080/",
          "height": 297
        },
        "id": "C-4hi6VtETy5",
        "outputId": "3d321306-7bd9-4a44-df7a-90cd130c6bb9"
      },
      "outputs": [
        {
          "output_type": "error",
          "ename": "AttributeError",
          "evalue": "'list' object has no attribute 'split'",
          "traceback": [
            "\u001b[0;31m---------------------------------------------------------------------------\u001b[0m",
            "\u001b[0;31mAttributeError\u001b[0m                            Traceback (most recent call last)",
            "\u001b[0;32m<ipython-input-32-ba0367c29817>\u001b[0m in \u001b[0;36m<cell line: 2>\u001b[0;34m()\u001b[0m\n\u001b[1;32m      1\u001b[0m \u001b[0mjobs_list\u001b[0m \u001b[0;34m=\u001b[0m \u001b[0mDataScienceJobsList\u001b[0m\u001b[0;34m(\u001b[0m\u001b[0mdata_science_jobs\u001b[0m\u001b[0;34m)\u001b[0m\u001b[0;34m\u001b[0m\u001b[0;34m\u001b[0m\u001b[0m\n\u001b[0;32m----> 2\u001b[0;31m \u001b[0mjobs_list\u001b[0m\u001b[0;34m.\u001b[0m\u001b[0msplit_skills\u001b[0m\u001b[0;34m(\u001b[0m\u001b[0;34m)\u001b[0m\u001b[0;34m\u001b[0m\u001b[0;34m\u001b[0m\u001b[0m\n\u001b[0m\u001b[1;32m      3\u001b[0m \u001b[0mjobs_list\u001b[0m\u001b[0;34m.\u001b[0m\u001b[0mdisplay_jobs\u001b[0m\u001b[0;34m(\u001b[0m\u001b[0;34m)\u001b[0m\u001b[0;34m\u001b[0m\u001b[0;34m\u001b[0m\u001b[0m\n",
            "\u001b[0;32m<ipython-input-31-e25169ca047a>\u001b[0m in \u001b[0;36msplit_skills\u001b[0;34m(self)\u001b[0m\n\u001b[1;32m     16\u001b[0m     \u001b[0;32mdef\u001b[0m \u001b[0msplit_skills\u001b[0m\u001b[0;34m(\u001b[0m\u001b[0mself\u001b[0m\u001b[0;34m)\u001b[0m\u001b[0;34m:\u001b[0m\u001b[0;34m\u001b[0m\u001b[0;34m\u001b[0m\u001b[0m\n\u001b[1;32m     17\u001b[0m         \u001b[0;32mfor\u001b[0m \u001b[0mjob\u001b[0m \u001b[0;32min\u001b[0m \u001b[0mself\u001b[0m\u001b[0;34m.\u001b[0m\u001b[0mjobs\u001b[0m\u001b[0;34m:\u001b[0m\u001b[0;34m\u001b[0m\u001b[0;34m\u001b[0m\u001b[0m\n\u001b[0;32m---> 18\u001b[0;31m             \u001b[0mjob\u001b[0m\u001b[0;34m[\u001b[0m\u001b[0;34m'job_skills'\u001b[0m\u001b[0;34m]\u001b[0m \u001b[0;34m=\u001b[0m \u001b[0mjob\u001b[0m\u001b[0;34m[\u001b[0m\u001b[0;34m'job_skills'\u001b[0m\u001b[0;34m]\u001b[0m\u001b[0;34m.\u001b[0m\u001b[0msplit\u001b[0m\u001b[0;34m(\u001b[0m\u001b[0;34m', '\u001b[0m\u001b[0;34m)\u001b[0m\u001b[0;34m\u001b[0m\u001b[0;34m\u001b[0m\u001b[0m\n\u001b[0m\u001b[1;32m     19\u001b[0m \u001b[0;34m\u001b[0m\u001b[0m\n\u001b[1;32m     20\u001b[0m     \u001b[0;32mdef\u001b[0m \u001b[0mdisplay_jobs\u001b[0m\u001b[0;34m(\u001b[0m\u001b[0mself\u001b[0m\u001b[0;34m)\u001b[0m\u001b[0;34m:\u001b[0m\u001b[0;34m\u001b[0m\u001b[0;34m\u001b[0m\u001b[0m\n",
            "\u001b[0;31mAttributeError\u001b[0m: 'list' object has no attribute 'split'"
          ]
        }
      ],
      "source": [
        "jobs_list = DataScienceJobsList(data_science_jobs)\n",
        "jobs_list.split_skills()\n",
        "jobs_list.display_jobs()"
      ]
    },
    {
      "cell_type": "markdown",
      "metadata": {
        "id": "SyQsnV5VETy5"
      },
      "source": [
        "Solution: Modify the split_skills method to check if `job['job_skills']` is a string before attempting to split it. Now, if `split_skills()` is called multiple times, it won't attempt to split already split lists, thus avoiding the error."
      ]
    },
    {
      "cell_type": "code",
      "execution_count": 33,
      "metadata": {
        "id": "hU_wHeF1ETy6"
      },
      "outputs": [],
      "source": [
        "class DataScienceJobsList:\n",
        "    def __init__(self, jobs):\n",
        "        self.jobs = jobs\n",
        "\n",
        "    def __str__(self):\n",
        "        jobs_str = 'Data Science Jobs:\\n'\n",
        "        for job in self.jobs:\n",
        "            if isinstance(job['job_skills'], list):\n",
        "                skills_str = ', '.join(job['job_skills'])\n",
        "            else:\n",
        "                skills_str = job['job_skills']\n",
        "            jobs_str += f\"- {job['job_title']}: {skills_str}\\n\"\n",
        "        return jobs_str\n",
        "\n",
        "    def split_skills(self):\n",
        "        for job in self.jobs:\n",
        "            if isinstance(job['job_skills'], str):  # Check if job_skills is a string\n",
        "                job['job_skills'] = job['job_skills'].split(', ')\n",
        "\n",
        "    def display_jobs(self):\n",
        "        for job in self.jobs:\n",
        "            print(f\"Job Title: {job['job_title']}\")\n",
        "            print(\"Required Skills:\")\n",
        "            for skill in job['job_skills']:\n",
        "                print(f\"- {skill}\")\n",
        "            print()  # Adds an empty line for better readability"
      ]
    },
    {
      "cell_type": "markdown",
      "metadata": {
        "id": "u4CHOkBzETy6"
      },
      "source": [
        "It works now 🙌"
      ]
    },
    {
      "cell_type": "code",
      "execution_count": 34,
      "metadata": {
        "colab": {
          "base_uri": "https://localhost:8080/"
        },
        "id": "_qDoZwyJETy6",
        "outputId": "10ced4a4-2bbd-42a9-effb-f140bccb4cdf"
      },
      "outputs": [
        {
          "output_type": "stream",
          "name": "stdout",
          "text": [
            "Job Title: Data Scientist\n",
            "Required Skills:\n",
            "- Python\n",
            "- SQL\n",
            "- Machine Learning\n",
            "\n",
            "Job Title: Data Analyst\n",
            "Required Skills:\n",
            "- SQL\n",
            "- Excel\n",
            "- Python\n",
            "\n",
            "Job Title: Machine Learning Engineer\n",
            "Required Skills:\n",
            "- Python\n",
            "- TensorFlow\n",
            "- Keras\n",
            "\n"
          ]
        }
      ],
      "source": [
        "jobs_list = DataScienceJobsList(data_science_jobs)\n",
        "jobs_list.split_skills()\n",
        "jobs_list.display_jobs()"
      ]
    },
    {
      "cell_type": "markdown",
      "metadata": {
        "id": "yZivsdLPETy6"
      },
      "source": [
        "That's it for classes. Now onto an exercise and then we'll dive into actual data analysis."
      ]
    }
  ],
  "metadata": {
    "colab": {
      "provenance": []
    },
    "kernelspec": {
      "display_name": "Python 3",
      "name": "python3"
    },
    "language_info": {
      "codemirror_mode": {
        "name": "ipython",
        "version": 3
      },
      "file_extension": ".py",
      "mimetype": "text/x-python",
      "name": "python",
      "nbconvert_exporter": "python",
      "pygments_lexer": "ipython3",
      "version": "3.11.9"
    }
  },
  "nbformat": 4,
  "nbformat_minor": 0
}